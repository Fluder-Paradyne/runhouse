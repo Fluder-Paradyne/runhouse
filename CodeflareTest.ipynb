{
 "cells": [
  {
   "cell_type": "code",
   "execution_count": 1,
   "metadata": {},
   "outputs": [
    {
     "name": "stderr",
     "output_type": "stream",
     "text": [
      "2023-10-06 12:48:52,561\tINFO util.py:159 -- Missing packages: ['ipywidgets']. Run `pip install -U ipywidgets`, then restart the notebook server for rich notebook output.\n"
     ]
    }
   ],
   "source": [
    "import runhouse as rh"
   ]
  },
  {
   "cell_type": "code",
   "execution_count": 2,
   "metadata": {},
   "outputs": [
    {
     "ename": "TypeError",
     "evalue": "__init__() got an unexpected keyword argument 'name'",
     "output_type": "error",
     "traceback": [
      "\u001b[0;31m---------------------------------------------------------------------------\u001b[0m",
      "\u001b[0;31mTypeError\u001b[0m                                 Traceback (most recent call last)",
      "Cell \u001b[0;32mIn[2], line 1\u001b[0m\n\u001b[0;32m----> 1\u001b[0m cluster \u001b[39m=\u001b[39m rh\u001b[39m.\u001b[39;49mkubernetes_cluster(\n\u001b[1;32m      2\u001b[0m             provider\u001b[39m=\u001b[39;49m\u001b[39m\"\u001b[39;49m\u001b[39mkubernetes\u001b[39;49m\u001b[39m\"\u001b[39;49m,\n\u001b[1;32m      3\u001b[0m             name\u001b[39m=\u001b[39;49m\u001b[39m\"\u001b[39;49m\u001b[39mthis-8\u001b[39;49m\u001b[39m\"\u001b[39;49m,\n\u001b[1;32m      4\u001b[0m             namespace\u001b[39m=\u001b[39;49m\u001b[39m\"\u001b[39;49m\u001b[39mdefault\u001b[39;49m\u001b[39m\"\u001b[39;49m, \u001b[39m# specify context, or namespace, actual EKS cluster, user. context or all three \u001b[39;49;00m\n\u001b[1;32m      5\u001b[0m             num_workers\u001b[39m=\u001b[39;49m\u001b[39m1\u001b[39;49m,\n\u001b[1;32m      6\u001b[0m             cpus\u001b[39m=\u001b[39;49m\u001b[39m1\u001b[39;49m,\n\u001b[1;32m      7\u001b[0m             memory\u001b[39m=\u001b[39;49m\u001b[39m2\u001b[39;49m,\n\u001b[1;32m      8\u001b[0m             num_gpus\u001b[39m=\u001b[39;49m\u001b[39m0\u001b[39;49m, \u001b[39m# experimental: need to see how this really works \u001b[39;49;00m\n\u001b[1;32m      9\u001b[0m             head_cpus\u001b[39m=\u001b[39;49m\u001b[39m1\u001b[39;49m,\n\u001b[1;32m     10\u001b[0m             head_memory\u001b[39m=\u001b[39;49m\u001b[39m4\u001b[39;49m, \u001b[39m# remove head_node, reg_node distinction \u001b[39;49;00m\n\u001b[1;32m     11\u001b[0m             \u001b[39m# add arg for kube config \u001b[39;49;00m\n\u001b[1;32m     12\u001b[0m         )\n",
      "File \u001b[0;32m~/Desktop/flare_tests/runhouse/runhouse/resources/hardware/cluster_factory.py:241\u001b[0m, in \u001b[0;36mkubernetes_cluster\u001b[0;34m(name, instance_type, num_instances, provider, autostop_mins, use_spot, image_id, region, dryrun, namespace, num_workers, cpus, memory, num_gpus, head_cpus, head_memory)\u001b[0m\n\u001b[1;32m    235\u001b[0m \u001b[39mif\u001b[39;00m name \u001b[39min\u001b[39;00m RESERVED_SYSTEM_NAMES:\n\u001b[1;32m    236\u001b[0m     \u001b[39mraise\u001b[39;00m \u001b[39mValueError\u001b[39;00m(\n\u001b[1;32m    237\u001b[0m         \u001b[39mf\u001b[39m\u001b[39m\"\u001b[39m\u001b[39mCluster name \u001b[39m\u001b[39m{\u001b[39;00mname\u001b[39m}\u001b[39;00m\u001b[39m is a reserved name. Please use a different name which is not one of \u001b[39m\u001b[39m\"\u001b[39m\n\u001b[1;32m    238\u001b[0m         \u001b[39mf\u001b[39m\u001b[39m\"\u001b[39m\u001b[39m{\u001b[39;00mRESERVED_SYSTEM_NAMES\u001b[39m}\u001b[39;00m\u001b[39m.\u001b[39m\u001b[39m\"\u001b[39m\n\u001b[1;32m    239\u001b[0m     )\n\u001b[0;32m--> 241\u001b[0m \u001b[39mreturn\u001b[39;00m KubernetesCluster(\n\u001b[1;32m    242\u001b[0m     instance_type\u001b[39m=\u001b[39;49minstance_type,\n\u001b[1;32m    243\u001b[0m     provider\u001b[39m=\u001b[39;49mprovider,\n\u001b[1;32m    244\u001b[0m     num_instances\u001b[39m=\u001b[39;49mnum_instances,\n\u001b[1;32m    245\u001b[0m     autostop_mins\u001b[39m=\u001b[39;49mautostop_mins,\n\u001b[1;32m    246\u001b[0m     use_spot\u001b[39m=\u001b[39;49muse_spot,\n\u001b[1;32m    247\u001b[0m     image_id\u001b[39m=\u001b[39;49mimage_id,\n\u001b[1;32m    248\u001b[0m     region\u001b[39m=\u001b[39;49mregion,\n\u001b[1;32m    249\u001b[0m     name\u001b[39m=\u001b[39;49mname,\n\u001b[1;32m    250\u001b[0m     dryrun\u001b[39m=\u001b[39;49mdryrun,\n\u001b[1;32m    251\u001b[0m \n\u001b[1;32m    252\u001b[0m     namespace \u001b[39m=\u001b[39;49m namespace,\n\u001b[1;32m    253\u001b[0m     num_workers \u001b[39m=\u001b[39;49m num_workers,\n\u001b[1;32m    254\u001b[0m     cpus \u001b[39m=\u001b[39;49m cpus,\n\u001b[1;32m    255\u001b[0m     memory \u001b[39m=\u001b[39;49m memory,\n\u001b[1;32m    256\u001b[0m     num_gpus \u001b[39m=\u001b[39;49m num_gpus,\n\u001b[1;32m    257\u001b[0m     head_cpus \u001b[39m=\u001b[39;49m head_cpus,\n\u001b[1;32m    258\u001b[0m     head_memory \u001b[39m=\u001b[39;49m head_memory\n\u001b[1;32m    259\u001b[0m )\n",
      "File \u001b[0;32m~/Desktop/flare_tests/runhouse/runhouse/resources/hardware/kubernetes_cluster.py:75\u001b[0m, in \u001b[0;36mKubernetesCluster.__init__\u001b[0;34m(self, name, instance_type, num_instances, provider, dryrun, autostop_mins, use_spot, image_id, region, sky_state, namespace, num_workers, cpus, memory, num_gpus, head_cpus, head_memory, upped_cluster, cluster_obj, **kwargs)\u001b[0m\n\u001b[1;32m     70\u001b[0m \u001b[39mself\u001b[39m\u001b[39m.\u001b[39mname \u001b[39m=\u001b[39m name\n\u001b[1;32m     71\u001b[0m \u001b[39m# self.cluster_obj = cluster_obj\u001b[39;00m\n\u001b[0;32m---> 75\u001b[0m \u001b[39msuper\u001b[39;49m()\u001b[39m.\u001b[39;49m\u001b[39m__init__\u001b[39;49m(name\u001b[39m=\u001b[39;49mname, ips\u001b[39m=\u001b[39;49m[\u001b[39mself\u001b[39;49m\u001b[39m.\u001b[39;49mnamespace], ssh_creds\u001b[39m=\u001b[39;49m{}, dryrun\u001b[39m=\u001b[39;49mdryrun)\n\u001b[1;32m     78\u001b[0m kube_config_path \u001b[39m=\u001b[39m os\u001b[39m.\u001b[39mpath\u001b[39m.\u001b[39mexpanduser(\u001b[39m\"\u001b[39m\u001b[39m~/.kube/config\u001b[39m\u001b[39m\"\u001b[39m)\n\u001b[1;32m     79\u001b[0m auth \u001b[39m=\u001b[39m KubeConfigFileAuthentication(\n\u001b[1;32m     80\u001b[0m     kube_config_path \u001b[39m=\u001b[39m kube_config_path\n\u001b[1;32m     81\u001b[0m )\n",
      "\u001b[0;31mTypeError\u001b[0m: __init__() got an unexpected keyword argument 'name'"
     ]
    }
   ],
   "source": [
    "cluster = rh.kubernetes_cluster(\n",
    "            name=\"this-8\",\n",
    "            provider=\"kubernetes\",\n",
    "            namespace=\"default\", # specify context, or namespace, actual EKS cluster, user. context or all three \n",
    "            num_workers=1,\n",
    "            cpus=1,\n",
    "            memory=2,\n",
    "            num_gpus=0, # experimental: need to see how this really works \n",
    "            head_cpus=1,\n",
    "            head_memory=4, # remove head_node, reg_node distinction \n",
    "            # add arg for kube config \n",
    "        )"
   ]
  },
  {
   "cell_type": "code",
   "execution_count": 4,
   "metadata": {},
   "outputs": [
    {
     "name": "stdout",
     "output_type": "stream",
     "text": [
      "No instances found, nothing to be done.\n",
      "Written to: this-8.yaml\n",
      "Waiting for requested resources to be set up...\n"
     ]
    },
    {
     "name": "stderr",
     "output_type": "stream",
     "text": [
      "INFO | 2023-10-05 04:33:02.667336 | Restarting HTTP server on this-8.\n"
     ]
    },
    {
     "name": "stdout",
     "output_type": "stream",
     "text": [
      "Requested cluster is up and running!\n"
     ]
    },
    {
     "name": "stderr",
     "output_type": "stream",
     "text": [
      "INFO | 2023-10-05 04:33:03.584823 | Running kubectl get pod this-8-head-l77q8 -n default -o jsonpath='{.status.podIP}' | awk '{print $1}'\n"
     ]
    },
    {
     "name": "stdout",
     "output_type": "stream",
     "text": [
      "Found matching pod: this-8-head-l77q8\n",
      "Pod IP Address: 10.123.4.87\n"
     ]
    },
    {
     "name": "stderr",
     "output_type": "stream",
     "text": [
      "Defaulted container \"ray-head\" out of: ray-head, create-cert (init)\n",
      "INFO | 2023-10-05 04:33:31.322678 | Running kubectl exec -n default this-8-head-l77q8 -- pip install ./runhouse && runhouse restart on this-8\n"
     ]
    },
    {
     "name": "stdout",
     "output_type": "stream",
     "text": [
      "Command Output on this-8:\n",
      "Processing ./runhouse\n",
      "  Preparing metadata (setup.py): started\n",
      "  Preparing metadata (setup.py): finished with status 'done'\n",
      "Requirement already satisfied: fastapi in ./anaconda3/lib/python3.8/site-packages (from runhouse==0.0.13) (0.101.0)\n",
      "Collecting fsspec<=2023.5.0 (from runhouse==0.0.13)\n",
      "  Downloading fsspec-2023.5.0-py3-none-any.whl (160 kB)\n",
      "     ━━━━━━━━━━━━━━━━━━━━━━━━━━━━━━━━━━━━━━ 160.1/160.1 kB 27.4 MB/s eta 0:00:00\n",
      "Requirement already satisfied: pyarrow in ./anaconda3/lib/python3.8/site-packages (from runhouse==0.0.13) (12.0.1)\n",
      "Requirement already satisfied: pyOpenSSL>=21.1.0 in ./anaconda3/lib/python3.8/site-packages (from runhouse==0.0.13) (22.1.0)\n",
      "Requirement already satisfied: rich in ./anaconda3/lib/python3.8/site-packages (from runhouse==0.0.13) (13.5.2)\n",
      "Collecting sentry-sdk (from runhouse==0.0.13)\n",
      "  Obtaining dependency information for sentry-sdk from https://files.pythonhosted.org/packages/62/3a/765a7699a26884dcbf8b071dbe2a2486cc1cafcfb5f5d2e64ffe745dd0c6/sentry_sdk-1.31.0-py2.py3-none-any.whl.metadata\n",
      "  Downloading sentry_sdk-1.31.0-py2.py3-none-any.whl.metadata (9.8 kB)\n",
      "Collecting skypilot==0.4.0 (from runhouse==0.0.13)\n",
      "  Obtaining dependency information for skypilot==0.4.0 from https://files.pythonhosted.org/packages/8b/d0/cb9dd7d7c3835d307f2d8f7568458ed8d9205ca38ad195c789f5d57a81cf/skypilot-0.4.0-py3-none-any.whl.metadata\n",
      "  Downloading skypilot-0.4.0-py3-none-any.whl.metadata (12 kB)\n",
      "Collecting sshfs (from runhouse==0.0.13)\n",
      "  Obtaining dependency information for sshfs from https://files.pythonhosted.org/packages/57/64/ec804e0afa50071ffa256ae0199a72825459d800655700b717f5dbc4efff/sshfs-2023.7.0-py3-none-any.whl.metadata\n",
      "  Downloading sshfs-2023.7.0-py3-none-any.whl.metadata (4.2 kB)\n",
      "Collecting sshtunnel>=0.3.0 (from runhouse==0.0.13)\n",
      "  Downloading sshtunnel-0.4.0-py2.py3-none-any.whl (24 kB)\n",
      "Requirement already satisfied: typer in ./anaconda3/lib/python3.8/site-packages (from runhouse==0.0.13) (0.9.0)\n",
      "Requirement already satisfied: uvicorn in ./anaconda3/lib/python3.8/site-packages (from runhouse==0.0.13) (0.23.2)\n",
      "Requirement already satisfied: wheel in ./anaconda3/lib/python3.8/site-packages (from runhouse==0.0.13) (0.37.1)\n",
      "Requirement already satisfied: click>=7.0 in ./anaconda3/lib/python3.8/site-packages (from skypilot==0.4.0->runhouse==0.0.13) (8.1.6)\n",
      "Collecting colorama<0.4.5 (from skypilot==0.4.0->runhouse==0.0.13)\n",
      "  Downloading colorama-0.4.4-py2.py3-none-any.whl (16 kB)\n",
      "Requirement already satisfied: cryptography in ./anaconda3/lib/python3.8/site-packages (from skypilot==0.4.0->runhouse==0.0.13) (38.0.1)\n",
      "Collecting jinja2>=3.0 (from skypilot==0.4.0->runhouse==0.0.13)\n",
      "  Downloading Jinja2-3.1.2-py3-none-any.whl (133 kB)\n",
      "     ━━━━━━━━━━━━━━━━━━━━━━━━━━━━━━━━━━━━━━ 133.1/133.1 kB 42.0 MB/s eta 0:00:00\n",
      "Requirement already satisfied: jsonschema in ./anaconda3/lib/python3.8/site-packages (from skypilot==0.4.0->runhouse==0.0.13) (4.19.0)\n",
      "Requirement already satisfied: networkx in ./anaconda3/lib/python3.8/site-packages (from skypilot==0.4.0->runhouse==0.0.13) (3.1)\n",
      "Requirement already satisfied: pandas in ./anaconda3/lib/python3.8/site-packages (from skypilot==0.4.0->runhouse==0.0.13) (2.0.3)\n",
      "Collecting pendulum (from skypilot==0.4.0->runhouse==0.0.13)\n",
      "  Downloading pendulum-2.1.2-cp38-cp38-manylinux1_x86_64.whl (155 kB)\n",
      "     ━━━━━━━━━━━━━━━━━━━━━━━━━━━━━━━━━━━━━━ 155.7/155.7 kB 40.1 MB/s eta 0:00:00\n",
      "Collecting PrettyTable>=2.0.0 (from skypilot==0.4.0->runhouse==0.0.13)\n",
      "  Obtaining dependency information for PrettyTable>=2.0.0 from https://files.pythonhosted.org/packages/4d/81/316b6a55a0d1f327d04cc7b0ba9d04058cb62de6c3a4d4b0df280cbe3b0b/prettytable-3.9.0-py3-none-any.whl.metadata\n",
      "  Downloading prettytable-3.9.0-py3-none-any.whl.metadata (26 kB)\n",
      "Collecting python-dotenv (from skypilot==0.4.0->runhouse==0.0.13)\n",
      "  Downloading python_dotenv-1.0.0-py3-none-any.whl (19 kB)\n",
      "Requirement already satisfied: ray[default]!=2.6.0,<=2.6.3,>=2.2.0 in ./anaconda3/lib/python3.8/site-packages (from skypilot==0.4.0->runhouse==0.0.13) (2.6.3)\n",
      "Requirement already satisfied: tabulate in ./anaconda3/lib/python3.8/site-packages (from skypilot==0.4.0->runhouse==0.0.13) (0.9.0)\n",
      "Requirement already satisfied: filelock>=3.6.0 in ./anaconda3/lib/python3.8/site-packages (from skypilot==0.4.0->runhouse==0.0.13) (3.12.2)\n",
      "Requirement already satisfied: packaging in ./anaconda3/lib/python3.8/site-packages (from skypilot==0.4.0->runhouse==0.0.13) (21.3)\n",
      "Requirement already satisfied: protobuf!=3.19.5,>=3.15.3 in ./anaconda3/lib/python3.8/site-packages (from skypilot==0.4.0->runhouse==0.0.13) (4.24.0)\n",
      "Requirement already satisfied: psutil in ./anaconda3/lib/python3.8/site-packages (from skypilot==0.4.0->runhouse==0.0.13) (5.9.5)\n",
      "Collecting pulp (from skypilot==0.4.0->runhouse==0.0.13)\n",
      "  Downloading PuLP-2.7.0-py3-none-any.whl (14.3 MB)\n",
      "     ━━━━━━━━━━━━━━━━━━━━━━━━━━━━━━━━━━━━━━━ 14.3/14.3 MB 102.1 MB/s eta 0:00:00\n",
      "Requirement already satisfied: pydantic<2.0,>=1.10.8 in ./anaconda3/lib/python3.8/site-packages (from skypilot==0.4.0->runhouse==0.0.13) (1.10.12)\n",
      "Requirement already satisfied: pyyaml!=5.4.*,>3.13 in ./anaconda3/lib/python3.8/site-packages (from skypilot==0.4.0->runhouse==0.0.13) (6.0.1)\n",
      "Requirement already satisfied: urllib3<2 in ./anaconda3/lib/python3.8/site-packages (from skypilot==0.4.0->runhouse==0.0.13) (1.25.8)\n",
      "Collecting awscli>=1.27.10 (from skypilot==0.4.0->runhouse==0.0.13)\n",
      "  Obtaining dependency information for awscli>=1.27.10 from https://files.pythonhosted.org/packages/68/fa/b47ba0ccb6046e3e76bf909bc58655016029ed9b2e6e1299372a101086e8/awscli-1.29.60-py3-none-any.whl.metadata\n",
      "  Downloading awscli-1.29.60-py3-none-any.whl.metadata (11 kB)\n",
      "Requirement already satisfied: botocore>=1.29.10 in ./anaconda3/lib/python3.8/site-packages (from skypilot==0.4.0->runhouse==0.0.13) (1.29.165)\n",
      "Requirement already satisfied: boto3>=1.26.1 in ./anaconda3/lib/python3.8/site-packages (from skypilot==0.4.0->runhouse==0.0.13) (1.26.76)\n",
      "Collecting grpcio!=1.48.0,<=1.51.3,>=1.32.0 (from skypilot==0.4.0->runhouse==0.0.13)\n",
      "  Downloading grpcio-1.51.3-cp38-cp38-manylinux_2_17_x86_64.manylinux2014_x86_64.whl (4.8 MB)\n",
      "     ━━━━━━━━━━━━━━━━━━━━━━━━━━━━━━━━━━━━━━━━ 4.8/4.8 MB 116.6 MB/s eta 0:00:00\n",
      "Requirement already satisfied: paramiko>=2.7.2 in ./anaconda3/lib/python3.8/site-packages (from sshtunnel>=0.3.0->runhouse==0.0.13) (2.12.0)\n",
      "Requirement already satisfied: starlette<0.28.0,>=0.27.0 in ./anaconda3/lib/python3.8/site-packages (from fastapi->runhouse==0.0.13) (0.27.0)\n",
      "Requirement already satisfied: typing-extensions>=4.5.0 in ./anaconda3/lib/python3.8/site-packages (from fastapi->runhouse==0.0.13) (4.7.1)\n",
      "Requirement already satisfied: numpy>=1.16.6 in ./anaconda3/lib/python3.8/site-packages (from pyarrow->runhouse==0.0.13) (1.24.4)\n",
      "Requirement already satisfied: markdown-it-py>=2.2.0 in ./anaconda3/lib/python3.8/site-packages (from rich->runhouse==0.0.13) (3.0.0)\n",
      "Requirement already satisfied: pygments<3.0.0,>=2.13.0 in ./anaconda3/lib/python3.8/site-packages (from rich->runhouse==0.0.13) (2.16.1)\n",
      "Requirement already satisfied: certifi in ./anaconda3/lib/python3.8/site-packages (from sentry-sdk->runhouse==0.0.13) (2023.7.22)\n",
      "Collecting urllib3<2 (from skypilot==0.4.0->runhouse==0.0.13)\n",
      "  Obtaining dependency information for urllib3<2 from https://files.pythonhosted.org/packages/48/fe/a5c6cc46e9fe9171d7ecf0f33ee7aae14642f8d74baa7af4d7840f9358be/urllib3-1.26.17-py2.py3-none-any.whl.metadata\n",
      "  Downloading urllib3-1.26.17-py2.py3-none-any.whl.metadata (48 kB)\n",
      "     ━━━━━━━━━━━━━━━━━━━━━━━━━━━━━━━━━━━━━━━━ 48.7/48.7 kB 15.1 MB/s eta 0:00:00\n",
      "Collecting asyncssh<3,>=2.11.0 (from sshfs->runhouse==0.0.13)\n",
      "  Obtaining dependency information for asyncssh<3,>=2.11.0 from https://files.pythonhosted.org/packages/da/2d/153462da9ded3e63060be8c282276023d376f2846d2f22fb3519ddf524cc/asyncssh-2.14.0-py3-none-any.whl.metadata\n",
      "  Downloading asyncssh-2.14.0-py3-none-any.whl.metadata (9.8 kB)\n",
      "Requirement already satisfied: h11>=0.8 in ./anaconda3/lib/python3.8/site-packages (from uvicorn->runhouse==0.0.13) (0.14.0)\n",
      "INFO: pip is looking at multiple versions of asyncssh to determine which version is compatible with other requirements. This could take a while.\n",
      "  Obtaining dependency information for asyncssh<3,>=2.11.0 from https://files.pythonhosted.org/packages/c8/82/df5365b647cabf9f0f77135b7d7e845c14c6016f8f320b2a172ffe7e9af3/asyncssh-2.13.2-py3-none-any.whl.metadata\n",
      "  Downloading asyncssh-2.13.2-py3-none-any.whl.metadata (9.8 kB)\n",
      "Collecting botocore>=1.29.10 (from skypilot==0.4.0->runhouse==0.0.13)\n",
      "  Obtaining dependency information for botocore>=1.29.10 from https://files.pythonhosted.org/packages/5d/fa/fb73dceac7f2fd4ad82020696e241315e1ed9525810900ca8e35b7cf9b74/botocore-1.31.60-py3-none-any.whl.metadata\n",
      "  Downloading botocore-1.31.60-py3-none-any.whl.metadata (6.0 kB)\n",
      "Collecting docutils<0.17,>=0.10 (from awscli>=1.27.10->skypilot==0.4.0->runhouse==0.0.13)\n",
      "  Downloading docutils-0.16-py2.py3-none-any.whl (548 kB)\n",
      "     ━━━━━━━━━━━━━━━━━━━━━━━━━━━━━━━━━━━━━━ 548.2/548.2 kB 98.0 MB/s eta 0:00:00\n",
      "Collecting s3transfer<0.8.0,>=0.7.0 (from awscli>=1.27.10->skypilot==0.4.0->runhouse==0.0.13)\n",
      "  Obtaining dependency information for s3transfer<0.8.0,>=0.7.0 from https://files.pythonhosted.org/packages/5a/4b/fec9ce18f8874a96c5061422625ba86c3ee1e6587ccd92ff9f5bf7bd91b2/s3transfer-0.7.0-py3-none-any.whl.metadata\n",
      "  Downloading s3transfer-0.7.0-py3-none-any.whl.metadata (1.8 kB)\n",
      "Collecting rsa<4.8,>=3.1.2 (from awscli>=1.27.10->skypilot==0.4.0->runhouse==0.0.13)\n",
      "  Downloading rsa-4.7.2-py3-none-any.whl (34 kB)\n",
      "Requirement already satisfied: jmespath<2.0.0,>=0.7.1 in ./anaconda3/lib/python3.8/site-packages (from botocore>=1.29.10->skypilot==0.4.0->runhouse==0.0.13) (1.0.1)\n",
      "Requirement already satisfied: python-dateutil<3.0.0,>=2.1 in ./anaconda3/lib/python3.8/site-packages (from botocore>=1.29.10->skypilot==0.4.0->runhouse==0.0.13) (2.8.2)\n",
      "INFO: pip is looking at multiple versions of boto3 to determine which version is compatible with other requirements. This could take a while.\n",
      "Collecting boto3>=1.26.1 (from skypilot==0.4.0->runhouse==0.0.13)\n",
      "  Obtaining dependency information for boto3>=1.26.1 from https://files.pythonhosted.org/packages/da/7e/ea3b898a2f7f8b698eb93d808cca4202e2e5ee1887715b28b42fb9b5c71c/boto3-1.28.60-py3-none-any.whl.metadata\n",
      "  Downloading boto3-1.28.60-py3-none-any.whl.metadata (6.7 kB)\n",
      "Requirement already satisfied: cffi>=1.12 in ./anaconda3/lib/python3.8/site-packages (from cryptography->skypilot==0.4.0->runhouse==0.0.13) (1.15.1)\n",
      "Collecting MarkupSafe>=2.0 (from jinja2>=3.0->skypilot==0.4.0->runhouse==0.0.13)\n",
      "  Obtaining dependency information for MarkupSafe>=2.0 from https://files.pythonhosted.org/packages/de/e2/32c14301bb023986dff527a49325b6259cab4ebb4633f69de54af312fc45/MarkupSafe-2.1.3-cp38-cp38-manylinux_2_17_x86_64.manylinux2014_x86_64.whl.metadata\n",
      "  Downloading MarkupSafe-2.1.3-cp38-cp38-manylinux_2_17_x86_64.manylinux2014_x86_64.whl.metadata (3.0 kB)\n",
      "Requirement already satisfied: mdurl~=0.1 in ./anaconda3/lib/python3.8/site-packages (from markdown-it-py>=2.2.0->rich->runhouse==0.0.13) (0.1.2)\n",
      "Requirement already satisfied: bcrypt>=3.1.3 in ./anaconda3/lib/python3.8/site-packages (from paramiko>=2.7.2->sshtunnel>=0.3.0->runhouse==0.0.13) (4.0.1)\n",
      "Requirement already satisfied: pynacl>=1.0.1 in ./anaconda3/lib/python3.8/site-packages (from paramiko>=2.7.2->sshtunnel>=0.3.0->runhouse==0.0.13) (1.5.0)\n",
      "Requirement already satisfied: six in ./anaconda3/lib/python3.8/site-packages (from paramiko>=2.7.2->sshtunnel>=0.3.0->runhouse==0.0.13) (1.13.0)\n",
      "Requirement already satisfied: wcwidth in ./anaconda3/lib/python3.8/site-packages (from PrettyTable>=2.0.0->skypilot==0.4.0->runhouse==0.0.13) (0.2.6)\n",
      "Requirement already satisfied: msgpack<2.0.0,>=1.0.0 in ./anaconda3/lib/python3.8/site-packages (from ray[default]!=2.6.0,<=2.6.3,>=2.2.0->skypilot==0.4.0->runhouse==0.0.13) (1.0.5)\n",
      "Requirement already satisfied: aiosignal in ./anaconda3/lib/python3.8/site-packages (from ray[default]!=2.6.0,<=2.6.3,>=2.2.0->skypilot==0.4.0->runhouse==0.0.13) (1.3.1)\n",
      "Requirement already satisfied: frozenlist in ./anaconda3/lib/python3.8/site-packages (from ray[default]!=2.6.0,<=2.6.3,>=2.2.0->skypilot==0.4.0->runhouse==0.0.13) (1.4.0)\n",
      "Requirement already satisfied: requests in ./anaconda3/lib/python3.8/site-packages (from ray[default]!=2.6.0,<=2.6.3,>=2.2.0->skypilot==0.4.0->runhouse==0.0.13) (2.31.0)\n",
      "Requirement already satisfied: aiohttp>=3.7 in ./anaconda3/lib/python3.8/site-packages (from ray[default]!=2.6.0,<=2.6.3,>=2.2.0->skypilot==0.4.0->runhouse==0.0.13) (3.8.5)\n",
      "Requirement already satisfied: aiohttp-cors in ./anaconda3/lib/python3.8/site-packages (from ray[default]!=2.6.0,<=2.6.3,>=2.2.0->skypilot==0.4.0->runhouse==0.0.13) (0.7.0)\n",
      "Requirement already satisfied: colorful in ./anaconda3/lib/python3.8/site-packages (from ray[default]!=2.6.0,<=2.6.3,>=2.2.0->skypilot==0.4.0->runhouse==0.0.13) (0.5.5)\n",
      "Requirement already satisfied: py-spy>=0.2.0 in ./anaconda3/lib/python3.8/site-packages (from ray[default]!=2.6.0,<=2.6.3,>=2.2.0->skypilot==0.4.0->runhouse==0.0.13) (0.3.14)\n",
      "Requirement already satisfied: gpustat>=1.0.0 in ./anaconda3/lib/python3.8/site-packages (from ray[default]!=2.6.0,<=2.6.3,>=2.2.0->skypilot==0.4.0->runhouse==0.0.13) (1.1)\n",
      "Requirement already satisfied: opencensus in ./anaconda3/lib/python3.8/site-packages (from ray[default]!=2.6.0,<=2.6.3,>=2.2.0->skypilot==0.4.0->runhouse==0.0.13) (0.11.2)\n",
      "Requirement already satisfied: prometheus-client>=0.7.1 in ./anaconda3/lib/python3.8/site-packages (from ray[default]!=2.6.0,<=2.6.3,>=2.2.0->skypilot==0.4.0->runhouse==0.0.13) (0.17.1)\n",
      "Requirement already satisfied: smart-open in ./anaconda3/lib/python3.8/site-packages (from ray[default]!=2.6.0,<=2.6.3,>=2.2.0->skypilot==0.4.0->runhouse==0.0.13) (6.3.0)\n",
      "Requirement already satisfied: virtualenv<20.21.1,>=20.0.24 in ./anaconda3/lib/python3.8/site-packages (from ray[default]!=2.6.0,<=2.6.3,>=2.2.0->skypilot==0.4.0->runhouse==0.0.13) (20.21.0)\n",
      "Requirement already satisfied: anyio<5,>=3.4.0 in ./anaconda3/lib/python3.8/site-packages (from starlette<0.28.0,>=0.27.0->fastapi->runhouse==0.0.13) (3.7.1)\n",
      "Requirement already satisfied: attrs>=22.2.0 in ./anaconda3/lib/python3.8/site-packages (from jsonschema->skypilot==0.4.0->runhouse==0.0.13) (23.1.0)\n",
      "Requirement already satisfied: importlib-resources>=1.4.0 in ./anaconda3/lib/python3.8/site-packages (from jsonschema->skypilot==0.4.0->runhouse==0.0.13) (6.0.1)\n",
      "Requirement already satisfied: jsonschema-specifications>=2023.03.6 in ./anaconda3/lib/python3.8/site-packages (from jsonschema->skypilot==0.4.0->runhouse==0.0.13) (2023.7.1)\n",
      "Requirement already satisfied: pkgutil-resolve-name>=1.3.10 in ./anaconda3/lib/python3.8/site-packages (from jsonschema->skypilot==0.4.0->runhouse==0.0.13) (1.3.10)\n",
      "Requirement already satisfied: referencing>=0.28.4 in ./anaconda3/lib/python3.8/site-packages (from jsonschema->skypilot==0.4.0->runhouse==0.0.13) (0.30.2)\n",
      "Requirement already satisfied: rpds-py>=0.7.1 in ./anaconda3/lib/python3.8/site-packages (from jsonschema->skypilot==0.4.0->runhouse==0.0.13) (0.9.2)\n",
      "Requirement already satisfied: pyparsing!=3.0.5,>=2.0.2 in ./anaconda3/lib/python3.8/site-packages (from packaging->skypilot==0.4.0->runhouse==0.0.13) (3.1.1)\n",
      "Requirement already satisfied: pytz>=2020.1 in ./anaconda3/lib/python3.8/site-packages (from pandas->skypilot==0.4.0->runhouse==0.0.13) (2023.3)\n",
      "Requirement already satisfied: tzdata>=2022.1 in ./anaconda3/lib/python3.8/site-packages (from pandas->skypilot==0.4.0->runhouse==0.0.13) (2023.3)\n",
      "Collecting pytzdata>=2020.1 (from pendulum->skypilot==0.4.0->runhouse==0.0.13)\n",
      "  Downloading pytzdata-2020.1-py2.py3-none-any.whl (489 kB)\n",
      "     ━━━━━━━━━━━━━━━━━━━━━━━━━━━━━━━━━━━━━━ 490.0/490.0 kB 89.8 MB/s eta 0:00:00\n",
      "Requirement already satisfied: charset-normalizer<4.0,>=2.0 in ./anaconda3/lib/python3.8/site-packages (from aiohttp>=3.7->ray[default]!=2.6.0,<=2.6.3,>=2.2.0->skypilot==0.4.0->runhouse==0.0.13) (2.0.4)\n",
      "Requirement already satisfied: multidict<7.0,>=4.5 in ./anaconda3/lib/python3.8/site-packages (from aiohttp>=3.7->ray[default]!=2.6.0,<=2.6.3,>=2.2.0->skypilot==0.4.0->runhouse==0.0.13) (6.0.4)\n",
      "Requirement already satisfied: async-timeout<5.0,>=4.0.0a3 in ./anaconda3/lib/python3.8/site-packages (from aiohttp>=3.7->ray[default]!=2.6.0,<=2.6.3,>=2.2.0->skypilot==0.4.0->runhouse==0.0.13) (4.0.2)\n",
      "Requirement already satisfied: yarl<2.0,>=1.0 in ./anaconda3/lib/python3.8/site-packages (from aiohttp>=3.7->ray[default]!=2.6.0,<=2.6.3,>=2.2.0->skypilot==0.4.0->runhouse==0.0.13) (1.9.2)\n",
      "Requirement already satisfied: idna>=2.8 in ./anaconda3/lib/python3.8/site-packages (from anyio<5,>=3.4.0->starlette<0.28.0,>=0.27.0->fastapi->runhouse==0.0.13) (3.4)\n",
      "Requirement already satisfied: sniffio>=1.1 in ./anaconda3/lib/python3.8/site-packages (from anyio<5,>=3.4.0->starlette<0.28.0,>=0.27.0->fastapi->runhouse==0.0.13) (1.3.0)\n",
      "Requirement already satisfied: exceptiongroup in ./anaconda3/lib/python3.8/site-packages (from anyio<5,>=3.4.0->starlette<0.28.0,>=0.27.0->fastapi->runhouse==0.0.13) (1.1.2)\n",
      "Requirement already satisfied: pycparser in ./anaconda3/lib/python3.8/site-packages (from cffi>=1.12->cryptography->skypilot==0.4.0->runhouse==0.0.13) (2.21)\n",
      "Requirement already satisfied: nvidia-ml-py>=11.450.129 in ./anaconda3/lib/python3.8/site-packages (from gpustat>=1.0.0->ray[default]!=2.6.0,<=2.6.3,>=2.2.0->skypilot==0.4.0->runhouse==0.0.13) (12.535.77)\n",
      "Requirement already satisfied: blessed>=1.17.1 in ./anaconda3/lib/python3.8/site-packages (from gpustat>=1.0.0->ray[default]!=2.6.0,<=2.6.3,>=2.2.0->skypilot==0.4.0->runhouse==0.0.13) (1.20.0)\n",
      "Requirement already satisfied: zipp>=3.1.0 in ./anaconda3/lib/python3.8/site-packages (from importlib-resources>=1.4.0->jsonschema->skypilot==0.4.0->runhouse==0.0.13) (3.11.0)\n",
      "Requirement already satisfied: pyasn1>=0.1.3 in ./anaconda3/lib/python3.8/site-packages (from rsa<4.8,>=3.1.2->awscli>=1.27.10->skypilot==0.4.0->runhouse==0.0.13) (0.5.0)\n",
      "Requirement already satisfied: distlib<1,>=0.3.6 in ./anaconda3/lib/python3.8/site-packages (from virtualenv<20.21.1,>=20.0.24->ray[default]!=2.6.0,<=2.6.3,>=2.2.0->skypilot==0.4.0->runhouse==0.0.13) (0.3.7)\n",
      "Requirement already satisfied: platformdirs<4,>=2.4 in ./anaconda3/lib/python3.8/site-packages (from virtualenv<20.21.1,>=20.0.24->ray[default]!=2.6.0,<=2.6.3,>=2.2.0->skypilot==0.4.0->runhouse==0.0.13) (3.10.0)\n",
      "Requirement already satisfied: opencensus-context>=0.1.3 in ./anaconda3/lib/python3.8/site-packages (from opencensus->ray[default]!=2.6.0,<=2.6.3,>=2.2.0->skypilot==0.4.0->runhouse==0.0.13) (0.1.3)\n",
      "Requirement already satisfied: google-api-core<3.0.0,>=1.0.0 in ./anaconda3/lib/python3.8/site-packages (from opencensus->ray[default]!=2.6.0,<=2.6.3,>=2.2.0->skypilot==0.4.0->runhouse==0.0.13) (2.11.1)\n",
      "Requirement already satisfied: googleapis-common-protos<2.0.dev0,>=1.56.2 in ./anaconda3/lib/python3.8/site-packages (from google-api-core<3.0.0,>=1.0.0->opencensus->ray[default]!=2.6.0,<=2.6.3,>=2.2.0->skypilot==0.4.0->runhouse==0.0.13) (1.60.0)\n",
      "Requirement already satisfied: google-auth<3.0.dev0,>=2.14.1 in ./anaconda3/lib/python3.8/site-packages (from google-api-core<3.0.0,>=1.0.0->opencensus->ray[default]!=2.6.0,<=2.6.3,>=2.2.0->skypilot==0.4.0->runhouse==0.0.13) (2.22.0)\n",
      "Requirement already satisfied: cachetools<6.0,>=2.0.0 in ./anaconda3/lib/python3.8/site-packages (from google-auth<3.0.dev0,>=2.14.1->google-api-core<3.0.0,>=1.0.0->opencensus->ray[default]!=2.6.0,<=2.6.3,>=2.2.0->skypilot==0.4.0->runhouse==0.0.13) (5.3.1)\n",
      "Requirement already satisfied: pyasn1-modules>=0.2.1 in ./anaconda3/lib/python3.8/site-packages (from google-auth<3.0.dev0,>=2.14.1->google-api-core<3.0.0,>=1.0.0->opencensus->ray[default]!=2.6.0,<=2.6.3,>=2.2.0->skypilot==0.4.0->runhouse==0.0.13) (0.3.0)\n",
      "Downloading skypilot-0.4.0-py3-none-any.whl (703 kB)\n",
      "   ━━━━━━━━━━━━━━━━━━━━━━━━━━━━━━━━━━━━━━━ 703.4/703.4 kB 105.0 MB/s eta 0:00:00\n",
      "Downloading sentry_sdk-1.31.0-py2.py3-none-any.whl (224 kB)\n",
      "   ━━━━━━━━━━━━━━━━━━━━━━━━━━━━━━━━━━━━━━━━ 224.8/224.8 kB 64.7 MB/s eta 0:00:00\n",
      "Downloading sshfs-2023.7.0-py3-none-any.whl (15 kB)\n",
      "Downloading asyncssh-2.13.2-py3-none-any.whl (349 kB)\n",
      "   ━━━━━━━━━━━━━━━━━━━━━━━━━━━━━━━━━━━━━━━━ 349.3/349.3 kB 84.7 MB/s eta 0:00:00\n",
      "Downloading awscli-1.29.60-py3-none-any.whl (4.3 MB)\n",
      "   ━━━━━━━━━━━━━━━━━━━━━━━━━━━━━━━━━━━━━━━━ 4.3/4.3 MB 158.1 MB/s eta 0:00:00\n",
      "Downloading botocore-1.31.60-py3-none-any.whl (11.2 MB)\n",
      "   ━━━━━━━━━━━━━━━━━━━━━━━━━━━━━━━━━━━━━━━━ 11.2/11.2 MB 153.5 MB/s eta 0:00:00\n",
      "Downloading boto3-1.28.60-py3-none-any.whl (135 kB)\n",
      "   ━━━━━━━━━━━━━━━━━━━━━━━━━━━━━━━━━━━━━━━━ 135.8/135.8 kB 42.7 MB/s eta 0:00:00\n",
      "Downloading prettytable-3.9.0-py3-none-any.whl (27 kB)\n",
      "Downloading urllib3-1.26.17-py2.py3-none-any.whl (143 kB)\n",
      "   ━━━━━━━━━━━━━━━━━━━━━━━━━━━━━━━━━━━━━━━━ 143.4/143.4 kB 44.7 MB/s eta 0:00:00\n",
      "Downloading MarkupSafe-2.1.3-cp38-cp38-manylinux_2_17_x86_64.manylinux2014_x86_64.whl (25 kB)\n",
      "Downloading s3transfer-0.7.0-py3-none-any.whl (79 kB)\n",
      "   ━━━━━━━━━━━━━━━━━━━━━━━━━━━━━━━━━━━━━━━━ 79.8/79.8 kB 31.3 MB/s eta 0:00:00\n",
      "Building wheels for collected packages: runhouse\n",
      "  Building wheel for runhouse (setup.py): started\n",
      "  Building wheel for runhouse (setup.py): finished with status 'done'\n",
      "  Created wheel for runhouse: filename=runhouse-0.0.13-py3-none-any.whl size=187585 sha256=f558259c84bf06399ec176774f8be39b8eea109614c1f21c390c728b446c6aa2\n",
      "  Stored in directory: /tmp/pip-ephem-wheel-cache-2pz2nkao/wheels/dc/ec/b2/92a925e11e421fd2ad876279404002ddf83049b993ca2219bc\n",
      "Successfully built runhouse\n",
      "Installing collected packages: pulp, urllib3, rsa, pytzdata, python-dotenv, PrettyTable, MarkupSafe, grpcio, fsspec, docutils, colorama, sentry-sdk, pendulum, jinja2, botocore, s3transfer, asyncssh, sshtunnel, sshfs, boto3, awscli, skypilot, runhouse\n",
      "  Attempting uninstall: urllib3\n",
      "    Found existing installation: urllib3 1.25.8\n",
      "    Uninstalling urllib3-1.25.8:\n",
      "      Successfully uninstalled urllib3-1.25.8\n",
      "  Attempting uninstall: rsa\n",
      "    Found existing installation: rsa 4.9\n",
      "    Uninstalling rsa-4.9:\n",
      "      Successfully uninstalled rsa-4.9\n",
      "  Attempting uninstall: grpcio\n",
      "    Found existing installation: grpcio 1.56.2\n",
      "    Uninstalling grpcio-1.56.2:\n",
      "      Successfully uninstalled grpcio-1.56.2\n",
      "  Attempting uninstall: fsspec\n",
      "    Found existing installation: fsspec 2023.6.0\n",
      "    Uninstalling fsspec-2023.6.0:\n",
      "      Successfully uninstalled fsspec-2023.6.0\n",
      "  Attempting uninstall: botocore\n",
      "    Found existing installation: botocore 1.29.165\n",
      "    Uninstalling botocore-1.29.165:\n",
      "      Successfully uninstalled botocore-1.29.165\n",
      "  Attempting uninstall: s3transfer\n",
      "    Found existing installation: s3transfer 0.6.1\n",
      "    Uninstalling s3transfer-0.6.1:\n",
      "      Successfully uninstalled s3transfer-0.6.1\n",
      "  Attempting uninstall: boto3\n",
      "    Found existing installation: boto3 1.26.76\n",
      "    Uninstalling boto3-1.26.76:\n",
      "      Successfully uninstalled boto3-1.26.76\n",
      "Successfully installed MarkupSafe-2.1.3 PrettyTable-3.9.0 asyncssh-2.13.2 awscli-1.29.60 boto3-1.28.60 botocore-1.31.60 colorama-0.4.4 docutils-0.16 fsspec-2023.5.0 grpcio-1.51.3 jinja2-3.1.2 pendulum-2.1.2 pulp-2.7.0 python-dotenv-1.0.0 pytzdata-2020.1 rsa-4.7.2 runhouse-0.0.13 s3transfer-0.7.0 sentry-sdk-1.31.0 skypilot-0.4.0 sshfs-2023.7.0 sshtunnel-0.4.0 urllib3-1.26.17\n",
      "Executing `pkill -f \u001b[32m\"/Users/rohansreerama/anaconda3/envs/cf_test_2/bin/python -m\u001b[0m\n",
      "\u001b[32mrunhouse.servers.http.http_server\"\u001b[0m`\n",
      "Executing `pkill -f \u001b[32m\".*ray.*6379.*\"\u001b[0m`\n",
      "Executing `ray start --head --port \u001b[1;36m6379\u001b[0m`\n",
      "2023-10-04 21:33:44,556\tINFO usage_lib.py:412 -- Usage stats collection is enabled. To disable this, add `--disable-usage-stats` to the command that starts the cluster, or run the following command: `ray disable-usage-stats` before starting the cluster. See https://docs.ray.io/en/master/cluster/usage-stats.html for more details.\n",
      "2023-10-04 21:33:44,556\tINFO scripts.py:722 -- \u001b[37mLocal node IP\u001b[39m: \u001b[1m127.0.0.1\u001b[22m\n",
      "2023-10-04 21:33:46,235\tSUCC scripts.py:759 -- \u001b[32m--------------------\u001b[39m\n",
      "2023-10-04 21:33:46,235\tSUCC scripts.py:760 -- \u001b[32mRay runtime started.\u001b[39m\n",
      "2023-10-04 21:33:46,235\tSUCC scripts.py:761 -- \u001b[32m--------------------\u001b[39m\n",
      "2023-10-04 21:33:46,235\tINFO scripts.py:763 -- \u001b[36mNext steps\u001b[39m\n",
      "2023-10-04 21:33:46,235\tINFO scripts.py:778 -- To connect to this Ray cluster:\n",
      "2023-10-04 21:33:46,235\tINFO scripts.py:780 -- \u001b[35mimport\u001b[39m\u001b[26m ray\n",
      "2023-10-04 21:33:46,235\tINFO scripts.py:781 -- ray\u001b[35m.\u001b[39m\u001b[26minit()\n",
      "2023-10-04 21:33:46,235\tINFO scripts.py:793 -- To submit a Ray job using the Ray Jobs CLI:\n",
      "2023-10-04 21:33:46,235\tINFO scripts.py:794 -- \u001b[1m  RAY_ADDRESS='http://127.0.0.1:8265' ray job submit --working-dir . -- python my_script.py\u001b[22m\n",
      "2023-10-04 21:33:46,235\tINFO scripts.py:803 -- See https://docs.ray.io/en/latest/cluster/running-applications/job-submission/index.html \n",
      "2023-10-04 21:33:46,235\tINFO scripts.py:807 -- for more information on submitting Ray jobs to the Ray cluster.\n",
      "2023-10-04 21:33:46,235\tINFO scripts.py:812 -- To terminate the Ray runtime, run\n",
      "2023-10-04 21:33:46,235\tINFO scripts.py:813 -- \u001b[1m  ray stop\u001b[22m\n",
      "2023-10-04 21:33:46,235\tINFO scripts.py:816 -- To view the status of the cluster, use\n",
      "2023-10-04 21:33:46,235\tINFO scripts.py:817 --   \u001b[1mray status\u001b[22m\u001b[26m\n",
      "2023-10-04 21:33:46,235\tINFO scripts.py:821 -- To monitor and debug Ray, view the dashboard at \n",
      "2023-10-04 21:33:46,235\tINFO scripts.py:822 --   \u001b[1m127.0.0.1:8265\u001b[22m\u001b[26m\n",
      "2023-10-04 21:33:46,235\tINFO scripts.py:829 -- \u001b[4mIf connection to the dashboard fails, check your firewall settings and network configuration.\u001b[24m\n",
      "Executing `screen -dm bash -c \n",
      "\u001b[32m\"/Users/rohansreerama/anaconda3/envs/cf_test_2/bin/python -m \u001b[0m\n",
      "\u001b[32mrunhouse.servers.http.http_server |& tee -a \u001b[0m\n",
      "\u001b[32m'/Users/rohansreerama/.rh/server.log' 2>&1\"\u001b[0m`\n",
      "\n"
     ]
    },
    {
     "data": {
      "text/plain": [
       "<runhouse.resources.hardware.kubernetes_cluster.KubernetesCluster at 0x12976b7c0>"
      ]
     },
     "execution_count": 4,
     "metadata": {},
     "output_type": "execute_result"
    }
   ],
   "source": [
    "cluster.up_if_not()"
   ]
  },
  {
   "cell_type": "code",
   "execution_count": 3,
   "metadata": {},
   "outputs": [],
   "source": [
    "def num_cpus():\n",
    "    import multiprocessing\n",
    "    return f\"Num cpus: {multiprocessing.cpu_count()}\""
   ]
  },
  {
   "cell_type": "code",
   "execution_count": 4,
   "metadata": {},
   "outputs": [
    {
     "name": "stderr",
     "output_type": "stream",
     "text": [
      "INFO | 2023-10-06 19:38:06.658926 | Writing out function to /Users/rohansreerama/Desktop/flare_tests/runhouse/num_cpus_fn.py. Please make sure the function does not rely on any local variables, including imports (which should be moved inside the function body).\n",
      "/Users/rohansreerama/Desktop/flare_tests/runhouse/runhouse/resources/function.py:100: UserWarning: ``reqs`` and ``setup_cmds`` arguments has been deprecated. Please use ``env`` instead.\n",
      "  warnings.warn(\n",
      "INFO | 2023-10-06 19:38:06.662113 | Setting up Function on cluster.\n",
      "INFO | 2023-10-06 19:38:06.662557 | Checking server this-8\n"
     ]
    },
    {
     "ename": "AttributeError",
     "evalue": "'NoneType' object has no attribute 'status'",
     "output_type": "error",
     "traceback": [
      "\u001b[0;31m---------------------------------------------------------------------------\u001b[0m",
      "\u001b[0;31mConnectionRefusedError\u001b[0m                    Traceback (most recent call last)",
      "File \u001b[0;32m~/anaconda3/envs/cf_test_2/lib/python3.8/site-packages/urllib3/connection.py:174\u001b[0m, in \u001b[0;36mHTTPConnection._new_conn\u001b[0;34m(self)\u001b[0m\n\u001b[1;32m    173\u001b[0m \u001b[39mtry\u001b[39;00m:\n\u001b[0;32m--> 174\u001b[0m     conn \u001b[39m=\u001b[39m connection\u001b[39m.\u001b[39;49mcreate_connection(\n\u001b[1;32m    175\u001b[0m         (\u001b[39mself\u001b[39;49m\u001b[39m.\u001b[39;49m_dns_host, \u001b[39mself\u001b[39;49m\u001b[39m.\u001b[39;49mport), \u001b[39mself\u001b[39;49m\u001b[39m.\u001b[39;49mtimeout, \u001b[39m*\u001b[39;49m\u001b[39m*\u001b[39;49mextra_kw\n\u001b[1;32m    176\u001b[0m     )\n\u001b[1;32m    178\u001b[0m \u001b[39mexcept\u001b[39;00m SocketTimeout:\n",
      "File \u001b[0;32m~/anaconda3/envs/cf_test_2/lib/python3.8/site-packages/urllib3/util/connection.py:95\u001b[0m, in \u001b[0;36mcreate_connection\u001b[0;34m(address, timeout, source_address, socket_options)\u001b[0m\n\u001b[1;32m     94\u001b[0m \u001b[39mif\u001b[39;00m err \u001b[39mis\u001b[39;00m \u001b[39mnot\u001b[39;00m \u001b[39mNone\u001b[39;00m:\n\u001b[0;32m---> 95\u001b[0m     \u001b[39mraise\u001b[39;00m err\n\u001b[1;32m     97\u001b[0m \u001b[39mraise\u001b[39;00m socket\u001b[39m.\u001b[39merror(\u001b[39m\"\u001b[39m\u001b[39mgetaddrinfo returns an empty list\u001b[39m\u001b[39m\"\u001b[39m)\n",
      "File \u001b[0;32m~/anaconda3/envs/cf_test_2/lib/python3.8/site-packages/urllib3/util/connection.py:85\u001b[0m, in \u001b[0;36mcreate_connection\u001b[0;34m(address, timeout, source_address, socket_options)\u001b[0m\n\u001b[1;32m     84\u001b[0m     sock\u001b[39m.\u001b[39mbind(source_address)\n\u001b[0;32m---> 85\u001b[0m sock\u001b[39m.\u001b[39;49mconnect(sa)\n\u001b[1;32m     86\u001b[0m \u001b[39mreturn\u001b[39;00m sock\n",
      "\u001b[0;31mConnectionRefusedError\u001b[0m: [Errno 61] Connection refused",
      "\nDuring handling of the above exception, another exception occurred:\n",
      "\u001b[0;31mNewConnectionError\u001b[0m                        Traceback (most recent call last)",
      "File \u001b[0;32m~/anaconda3/envs/cf_test_2/lib/python3.8/site-packages/urllib3/connectionpool.py:714\u001b[0m, in \u001b[0;36mHTTPConnectionPool.urlopen\u001b[0;34m(self, method, url, body, headers, retries, redirect, assert_same_host, timeout, pool_timeout, release_conn, chunked, body_pos, **response_kw)\u001b[0m\n\u001b[1;32m    713\u001b[0m \u001b[39m# Make the request on the httplib connection object.\u001b[39;00m\n\u001b[0;32m--> 714\u001b[0m httplib_response \u001b[39m=\u001b[39m \u001b[39mself\u001b[39;49m\u001b[39m.\u001b[39;49m_make_request(\n\u001b[1;32m    715\u001b[0m     conn,\n\u001b[1;32m    716\u001b[0m     method,\n\u001b[1;32m    717\u001b[0m     url,\n\u001b[1;32m    718\u001b[0m     timeout\u001b[39m=\u001b[39;49mtimeout_obj,\n\u001b[1;32m    719\u001b[0m     body\u001b[39m=\u001b[39;49mbody,\n\u001b[1;32m    720\u001b[0m     headers\u001b[39m=\u001b[39;49mheaders,\n\u001b[1;32m    721\u001b[0m     chunked\u001b[39m=\u001b[39;49mchunked,\n\u001b[1;32m    722\u001b[0m )\n\u001b[1;32m    724\u001b[0m \u001b[39m# If we're going to release the connection in ``finally:``, then\u001b[39;00m\n\u001b[1;32m    725\u001b[0m \u001b[39m# the response doesn't need to know about the connection. Otherwise\u001b[39;00m\n\u001b[1;32m    726\u001b[0m \u001b[39m# it will also try to release it and we'll have a double-release\u001b[39;00m\n\u001b[1;32m    727\u001b[0m \u001b[39m# mess.\u001b[39;00m\n",
      "File \u001b[0;32m~/anaconda3/envs/cf_test_2/lib/python3.8/site-packages/urllib3/connectionpool.py:415\u001b[0m, in \u001b[0;36mHTTPConnectionPool._make_request\u001b[0;34m(self, conn, method, url, timeout, chunked, **httplib_request_kw)\u001b[0m\n\u001b[1;32m    414\u001b[0m     \u001b[39melse\u001b[39;00m:\n\u001b[0;32m--> 415\u001b[0m         conn\u001b[39m.\u001b[39;49mrequest(method, url, \u001b[39m*\u001b[39;49m\u001b[39m*\u001b[39;49mhttplib_request_kw)\n\u001b[1;32m    417\u001b[0m \u001b[39m# We are swallowing BrokenPipeError (errno.EPIPE) since the server is\u001b[39;00m\n\u001b[1;32m    418\u001b[0m \u001b[39m# legitimately able to close the connection after sending a valid response.\u001b[39;00m\n\u001b[1;32m    419\u001b[0m \u001b[39m# With this behaviour, the received response is still readable.\u001b[39;00m\n",
      "File \u001b[0;32m~/anaconda3/envs/cf_test_2/lib/python3.8/site-packages/urllib3/connection.py:244\u001b[0m, in \u001b[0;36mHTTPConnection.request\u001b[0;34m(self, method, url, body, headers)\u001b[0m\n\u001b[1;32m    243\u001b[0m     headers[\u001b[39m\"\u001b[39m\u001b[39mUser-Agent\u001b[39m\u001b[39m\"\u001b[39m] \u001b[39m=\u001b[39m _get_default_user_agent()\n\u001b[0;32m--> 244\u001b[0m \u001b[39msuper\u001b[39;49m(HTTPConnection, \u001b[39mself\u001b[39;49m)\u001b[39m.\u001b[39;49mrequest(method, url, body\u001b[39m=\u001b[39;49mbody, headers\u001b[39m=\u001b[39;49mheaders)\n",
      "File \u001b[0;32m~/anaconda3/envs/cf_test_2/lib/python3.8/http/client.py:1256\u001b[0m, in \u001b[0;36mHTTPConnection.request\u001b[0;34m(self, method, url, body, headers, encode_chunked)\u001b[0m\n\u001b[1;32m   1255\u001b[0m \u001b[39m\u001b[39m\u001b[39m\"\"\"Send a complete request to the server.\"\"\"\u001b[39;00m\n\u001b[0;32m-> 1256\u001b[0m \u001b[39mself\u001b[39;49m\u001b[39m.\u001b[39;49m_send_request(method, url, body, headers, encode_chunked)\n",
      "File \u001b[0;32m~/anaconda3/envs/cf_test_2/lib/python3.8/http/client.py:1302\u001b[0m, in \u001b[0;36mHTTPConnection._send_request\u001b[0;34m(self, method, url, body, headers, encode_chunked)\u001b[0m\n\u001b[1;32m   1301\u001b[0m     body \u001b[39m=\u001b[39m _encode(body, \u001b[39m'\u001b[39m\u001b[39mbody\u001b[39m\u001b[39m'\u001b[39m)\n\u001b[0;32m-> 1302\u001b[0m \u001b[39mself\u001b[39;49m\u001b[39m.\u001b[39;49mendheaders(body, encode_chunked\u001b[39m=\u001b[39;49mencode_chunked)\n",
      "File \u001b[0;32m~/anaconda3/envs/cf_test_2/lib/python3.8/http/client.py:1251\u001b[0m, in \u001b[0;36mHTTPConnection.endheaders\u001b[0;34m(self, message_body, encode_chunked)\u001b[0m\n\u001b[1;32m   1250\u001b[0m     \u001b[39mraise\u001b[39;00m CannotSendHeader()\n\u001b[0;32m-> 1251\u001b[0m \u001b[39mself\u001b[39;49m\u001b[39m.\u001b[39;49m_send_output(message_body, encode_chunked\u001b[39m=\u001b[39;49mencode_chunked)\n",
      "File \u001b[0;32m~/anaconda3/envs/cf_test_2/lib/python3.8/http/client.py:1011\u001b[0m, in \u001b[0;36mHTTPConnection._send_output\u001b[0;34m(self, message_body, encode_chunked)\u001b[0m\n\u001b[1;32m   1010\u001b[0m \u001b[39mdel\u001b[39;00m \u001b[39mself\u001b[39m\u001b[39m.\u001b[39m_buffer[:]\n\u001b[0;32m-> 1011\u001b[0m \u001b[39mself\u001b[39;49m\u001b[39m.\u001b[39;49msend(msg)\n\u001b[1;32m   1013\u001b[0m \u001b[39mif\u001b[39;00m message_body \u001b[39mis\u001b[39;00m \u001b[39mnot\u001b[39;00m \u001b[39mNone\u001b[39;00m:\n\u001b[1;32m   1014\u001b[0m \n\u001b[1;32m   1015\u001b[0m     \u001b[39m# create a consistent interface to message_body\u001b[39;00m\n",
      "File \u001b[0;32m~/anaconda3/envs/cf_test_2/lib/python3.8/http/client.py:951\u001b[0m, in \u001b[0;36mHTTPConnection.send\u001b[0;34m(self, data)\u001b[0m\n\u001b[1;32m    950\u001b[0m \u001b[39mif\u001b[39;00m \u001b[39mself\u001b[39m\u001b[39m.\u001b[39mauto_open:\n\u001b[0;32m--> 951\u001b[0m     \u001b[39mself\u001b[39;49m\u001b[39m.\u001b[39;49mconnect()\n\u001b[1;32m    952\u001b[0m \u001b[39melse\u001b[39;00m:\n",
      "File \u001b[0;32m~/anaconda3/envs/cf_test_2/lib/python3.8/site-packages/urllib3/connection.py:205\u001b[0m, in \u001b[0;36mHTTPConnection.connect\u001b[0;34m(self)\u001b[0m\n\u001b[1;32m    204\u001b[0m \u001b[39mdef\u001b[39;00m \u001b[39mconnect\u001b[39m(\u001b[39mself\u001b[39m):\n\u001b[0;32m--> 205\u001b[0m     conn \u001b[39m=\u001b[39m \u001b[39mself\u001b[39;49m\u001b[39m.\u001b[39;49m_new_conn()\n\u001b[1;32m    206\u001b[0m     \u001b[39mself\u001b[39m\u001b[39m.\u001b[39m_prepare_conn(conn)\n",
      "File \u001b[0;32m~/anaconda3/envs/cf_test_2/lib/python3.8/site-packages/urllib3/connection.py:186\u001b[0m, in \u001b[0;36mHTTPConnection._new_conn\u001b[0;34m(self)\u001b[0m\n\u001b[1;32m    185\u001b[0m \u001b[39mexcept\u001b[39;00m SocketError \u001b[39mas\u001b[39;00m e:\n\u001b[0;32m--> 186\u001b[0m     \u001b[39mraise\u001b[39;00m NewConnectionError(\n\u001b[1;32m    187\u001b[0m         \u001b[39mself\u001b[39m, \u001b[39m\"\u001b[39m\u001b[39mFailed to establish a new connection: \u001b[39m\u001b[39m%s\u001b[39;00m\u001b[39m\"\u001b[39m \u001b[39m%\u001b[39m e\n\u001b[1;32m    188\u001b[0m     )\n\u001b[1;32m    190\u001b[0m \u001b[39mreturn\u001b[39;00m conn\n",
      "\u001b[0;31mNewConnectionError\u001b[0m: <urllib3.connection.HTTPConnection object at 0x12b827cd0>: Failed to establish a new connection: [Errno 61] Connection refused",
      "\nDuring handling of the above exception, another exception occurred:\n",
      "\u001b[0;31mMaxRetryError\u001b[0m                             Traceback (most recent call last)",
      "File \u001b[0;32m~/anaconda3/envs/cf_test_2/lib/python3.8/site-packages/requests/adapters.py:486\u001b[0m, in \u001b[0;36mHTTPAdapter.send\u001b[0;34m(self, request, stream, timeout, verify, cert, proxies)\u001b[0m\n\u001b[1;32m    485\u001b[0m \u001b[39mtry\u001b[39;00m:\n\u001b[0;32m--> 486\u001b[0m     resp \u001b[39m=\u001b[39m conn\u001b[39m.\u001b[39;49murlopen(\n\u001b[1;32m    487\u001b[0m         method\u001b[39m=\u001b[39;49mrequest\u001b[39m.\u001b[39;49mmethod,\n\u001b[1;32m    488\u001b[0m         url\u001b[39m=\u001b[39;49murl,\n\u001b[1;32m    489\u001b[0m         body\u001b[39m=\u001b[39;49mrequest\u001b[39m.\u001b[39;49mbody,\n\u001b[1;32m    490\u001b[0m         headers\u001b[39m=\u001b[39;49mrequest\u001b[39m.\u001b[39;49mheaders,\n\u001b[1;32m    491\u001b[0m         redirect\u001b[39m=\u001b[39;49m\u001b[39mFalse\u001b[39;49;00m,\n\u001b[1;32m    492\u001b[0m         assert_same_host\u001b[39m=\u001b[39;49m\u001b[39mFalse\u001b[39;49;00m,\n\u001b[1;32m    493\u001b[0m         preload_content\u001b[39m=\u001b[39;49m\u001b[39mFalse\u001b[39;49;00m,\n\u001b[1;32m    494\u001b[0m         decode_content\u001b[39m=\u001b[39;49m\u001b[39mFalse\u001b[39;49;00m,\n\u001b[1;32m    495\u001b[0m         retries\u001b[39m=\u001b[39;49m\u001b[39mself\u001b[39;49m\u001b[39m.\u001b[39;49mmax_retries,\n\u001b[1;32m    496\u001b[0m         timeout\u001b[39m=\u001b[39;49mtimeout,\n\u001b[1;32m    497\u001b[0m         chunked\u001b[39m=\u001b[39;49mchunked,\n\u001b[1;32m    498\u001b[0m     )\n\u001b[1;32m    500\u001b[0m \u001b[39mexcept\u001b[39;00m (ProtocolError, \u001b[39mOSError\u001b[39;00m) \u001b[39mas\u001b[39;00m err:\n",
      "File \u001b[0;32m~/anaconda3/envs/cf_test_2/lib/python3.8/site-packages/urllib3/connectionpool.py:798\u001b[0m, in \u001b[0;36mHTTPConnectionPool.urlopen\u001b[0;34m(self, method, url, body, headers, retries, redirect, assert_same_host, timeout, pool_timeout, release_conn, chunked, body_pos, **response_kw)\u001b[0m\n\u001b[1;32m    796\u001b[0m     e \u001b[39m=\u001b[39m ProtocolError(\u001b[39m\"\u001b[39m\u001b[39mConnection aborted.\u001b[39m\u001b[39m\"\u001b[39m, e)\n\u001b[0;32m--> 798\u001b[0m retries \u001b[39m=\u001b[39m retries\u001b[39m.\u001b[39;49mincrement(\n\u001b[1;32m    799\u001b[0m     method, url, error\u001b[39m=\u001b[39;49me, _pool\u001b[39m=\u001b[39;49m\u001b[39mself\u001b[39;49m, _stacktrace\u001b[39m=\u001b[39;49msys\u001b[39m.\u001b[39;49mexc_info()[\u001b[39m2\u001b[39;49m]\n\u001b[1;32m    800\u001b[0m )\n\u001b[1;32m    801\u001b[0m retries\u001b[39m.\u001b[39msleep()\n",
      "File \u001b[0;32m~/anaconda3/envs/cf_test_2/lib/python3.8/site-packages/urllib3/util/retry.py:592\u001b[0m, in \u001b[0;36mRetry.increment\u001b[0;34m(self, method, url, response, error, _pool, _stacktrace)\u001b[0m\n\u001b[1;32m    591\u001b[0m \u001b[39mif\u001b[39;00m new_retry\u001b[39m.\u001b[39mis_exhausted():\n\u001b[0;32m--> 592\u001b[0m     \u001b[39mraise\u001b[39;00m MaxRetryError(_pool, url, error \u001b[39mor\u001b[39;00m ResponseError(cause))\n\u001b[1;32m    594\u001b[0m log\u001b[39m.\u001b[39mdebug(\u001b[39m\"\u001b[39m\u001b[39mIncremented Retry for (url=\u001b[39m\u001b[39m'\u001b[39m\u001b[39m%s\u001b[39;00m\u001b[39m'\u001b[39m\u001b[39m): \u001b[39m\u001b[39m%r\u001b[39;00m\u001b[39m\"\u001b[39m, url, new_retry)\n",
      "\u001b[0;31mMaxRetryError\u001b[0m: HTTPConnectionPool(host='127.0.0.1', port=50052): Max retries exceeded with url: /check/ (Caused by NewConnectionError('<urllib3.connection.HTTPConnection object at 0x12b827cd0>: Failed to establish a new connection: [Errno 61] Connection refused'))",
      "\nDuring handling of the above exception, another exception occurred:\n",
      "\u001b[0;31mConnectionError\u001b[0m                           Traceback (most recent call last)",
      "File \u001b[0;32m~/Desktop/flare_tests/runhouse/runhouse/resources/hardware/cluster.py:392\u001b[0m, in \u001b[0;36mCluster.check_server\u001b[0;34m(self, restart_server)\u001b[0m\n\u001b[1;32m    391\u001b[0m logger\u001b[39m.\u001b[39minfo(\u001b[39mf\u001b[39m\u001b[39m\"\u001b[39m\u001b[39mChecking server \u001b[39m\u001b[39m{\u001b[39;00m\u001b[39mself\u001b[39m\u001b[39m.\u001b[39mname\u001b[39m}\u001b[39;00m\u001b[39m\"\u001b[39m)\n\u001b[0;32m--> 392\u001b[0m \u001b[39mself\u001b[39;49m\u001b[39m.\u001b[39;49mclient\u001b[39m.\u001b[39;49mcheck_server(cluster_config\u001b[39m=\u001b[39;49mcluster_config)\n\u001b[1;32m    393\u001b[0m logger\u001b[39m.\u001b[39minfo(\u001b[39mf\u001b[39m\u001b[39m\"\u001b[39m\u001b[39mServer \u001b[39m\u001b[39m{\u001b[39;00m\u001b[39mself\u001b[39m\u001b[39m.\u001b[39mname\u001b[39m}\u001b[39;00m\u001b[39m is up.\u001b[39m\u001b[39m\"\u001b[39m)\n",
      "File \u001b[0;32m~/Desktop/flare_tests/runhouse/runhouse/servers/http/http_client.py:73\u001b[0m, in \u001b[0;36mHTTPClient.check_server\u001b[0;34m(self, cluster_config)\u001b[0m\n\u001b[1;32m     72\u001b[0m \u001b[39mdef\u001b[39;00m \u001b[39mcheck_server\u001b[39m(\u001b[39mself\u001b[39m, cluster_config\u001b[39m=\u001b[39m\u001b[39mNone\u001b[39;00m):\n\u001b[0;32m---> 73\u001b[0m     \u001b[39mself\u001b[39;49m\u001b[39m.\u001b[39;49mrequest(\n\u001b[1;32m     74\u001b[0m         \u001b[39m\"\u001b[39;49m\u001b[39mcheck\u001b[39;49m\u001b[39m\"\u001b[39;49m,\n\u001b[1;32m     75\u001b[0m         req_type\u001b[39m=\u001b[39;49m\u001b[39m\"\u001b[39;49m\u001b[39mpost\u001b[39;49m\u001b[39m\"\u001b[39;49m,\n\u001b[1;32m     76\u001b[0m         data\u001b[39m=\u001b[39;49mjson\u001b[39m.\u001b[39;49mdumps(cluster_config, indent\u001b[39m=\u001b[39;49m\u001b[39m4\u001b[39;49m),\n\u001b[1;32m     77\u001b[0m         timeout\u001b[39m=\u001b[39;49m\u001b[39mself\u001b[39;49m\u001b[39m.\u001b[39;49mCHECK_TIMEOUT_SEC,\n\u001b[1;32m     78\u001b[0m     )\n",
      "File \u001b[0;32m~/Desktop/flare_tests/runhouse/runhouse/servers/http/http_client.py:52\u001b[0m, in \u001b[0;36mHTTPClient.request\u001b[0;34m(self, endpoint, req_type, data, env, stream_logs, save, key, err_str, timeout)\u001b[0m\n\u001b[1;32m     51\u001b[0m endpoint \u001b[39m=\u001b[39m (endpoint \u001b[39m+\u001b[39m \u001b[39m\"\u001b[39m\u001b[39m/\u001b[39m\u001b[39m\"\u001b[39m) \u001b[39mif\u001b[39;00m \u001b[39m\"\u001b[39m\u001b[39m?\u001b[39m\u001b[39m\"\u001b[39m \u001b[39mnot\u001b[39;00m \u001b[39min\u001b[39;00m endpoint \u001b[39melse\u001b[39;00m endpoint\n\u001b[0;32m---> 52\u001b[0m response \u001b[39m=\u001b[39m req_fn(\n\u001b[1;32m     53\u001b[0m     \u001b[39mf\u001b[39;49m\u001b[39m\"\u001b[39;49m\u001b[39mhttp://\u001b[39;49m\u001b[39m{\u001b[39;49;00m\u001b[39mself\u001b[39;49m\u001b[39m.\u001b[39;49mhost\u001b[39m}\u001b[39;49;00m\u001b[39m:\u001b[39;49m\u001b[39m{\u001b[39;49;00m\u001b[39mself\u001b[39;49m\u001b[39m.\u001b[39;49mport\u001b[39m}\u001b[39;49;00m\u001b[39m/\u001b[39;49m\u001b[39m{\u001b[39;49;00mendpoint\u001b[39m}\u001b[39;49;00m\u001b[39m\"\u001b[39;49m,\n\u001b[1;32m     54\u001b[0m     json\u001b[39m=\u001b[39;49m{\n\u001b[1;32m     55\u001b[0m         \u001b[39m\"\u001b[39;49m\u001b[39mdata\u001b[39;49m\u001b[39m\"\u001b[39;49m: data,\n\u001b[1;32m     56\u001b[0m         \u001b[39m\"\u001b[39;49m\u001b[39menv\u001b[39;49m\u001b[39m\"\u001b[39;49m: env,\n\u001b[1;32m     57\u001b[0m         \u001b[39m\"\u001b[39;49m\u001b[39mstream_logs\u001b[39;49m\u001b[39m\"\u001b[39;49m: stream_logs,\n\u001b[1;32m     58\u001b[0m         \u001b[39m\"\u001b[39;49m\u001b[39msave\u001b[39;49m\u001b[39m\"\u001b[39;49m: save,\n\u001b[1;32m     59\u001b[0m         \u001b[39m\"\u001b[39;49m\u001b[39mkey\u001b[39;49m\u001b[39m\"\u001b[39;49m: key,\n\u001b[1;32m     60\u001b[0m     },\n\u001b[1;32m     61\u001b[0m     timeout\u001b[39m=\u001b[39;49mtimeout,\n\u001b[1;32m     62\u001b[0m     auth\u001b[39m=\u001b[39;49m\u001b[39mself\u001b[39;49m\u001b[39m.\u001b[39;49mauth,\n\u001b[1;32m     63\u001b[0m )\n\u001b[1;32m     64\u001b[0m \u001b[39mif\u001b[39;00m response\u001b[39m.\u001b[39mstatus_code \u001b[39m!=\u001b[39m \u001b[39m200\u001b[39m:\n",
      "File \u001b[0;32m~/anaconda3/envs/cf_test_2/lib/python3.8/site-packages/requests/api.py:115\u001b[0m, in \u001b[0;36mpost\u001b[0;34m(url, data, json, **kwargs)\u001b[0m\n\u001b[1;32m    104\u001b[0m \u001b[39m\u001b[39m\u001b[39mr\u001b[39m\u001b[39m\"\"\"Sends a POST request.\u001b[39;00m\n\u001b[1;32m    105\u001b[0m \n\u001b[1;32m    106\u001b[0m \u001b[39m:param url: URL for the new :class:`Request` object.\u001b[39;00m\n\u001b[0;32m   (...)\u001b[0m\n\u001b[1;32m    112\u001b[0m \u001b[39m:rtype: requests.Response\u001b[39;00m\n\u001b[1;32m    113\u001b[0m \u001b[39m\"\"\"\u001b[39;00m\n\u001b[0;32m--> 115\u001b[0m \u001b[39mreturn\u001b[39;00m request(\u001b[39m\"\u001b[39;49m\u001b[39mpost\u001b[39;49m\u001b[39m\"\u001b[39;49m, url, data\u001b[39m=\u001b[39;49mdata, json\u001b[39m=\u001b[39;49mjson, \u001b[39m*\u001b[39;49m\u001b[39m*\u001b[39;49mkwargs)\n",
      "File \u001b[0;32m~/anaconda3/envs/cf_test_2/lib/python3.8/site-packages/requests/api.py:59\u001b[0m, in \u001b[0;36mrequest\u001b[0;34m(method, url, **kwargs)\u001b[0m\n\u001b[1;32m     58\u001b[0m \u001b[39mwith\u001b[39;00m sessions\u001b[39m.\u001b[39mSession() \u001b[39mas\u001b[39;00m session:\n\u001b[0;32m---> 59\u001b[0m     \u001b[39mreturn\u001b[39;00m session\u001b[39m.\u001b[39;49mrequest(method\u001b[39m=\u001b[39;49mmethod, url\u001b[39m=\u001b[39;49murl, \u001b[39m*\u001b[39;49m\u001b[39m*\u001b[39;49mkwargs)\n",
      "File \u001b[0;32m~/anaconda3/envs/cf_test_2/lib/python3.8/site-packages/requests/sessions.py:589\u001b[0m, in \u001b[0;36mSession.request\u001b[0;34m(self, method, url, params, data, headers, cookies, files, auth, timeout, allow_redirects, proxies, hooks, stream, verify, cert, json)\u001b[0m\n\u001b[1;32m    588\u001b[0m send_kwargs\u001b[39m.\u001b[39mupdate(settings)\n\u001b[0;32m--> 589\u001b[0m resp \u001b[39m=\u001b[39m \u001b[39mself\u001b[39;49m\u001b[39m.\u001b[39;49msend(prep, \u001b[39m*\u001b[39;49m\u001b[39m*\u001b[39;49msend_kwargs)\n\u001b[1;32m    591\u001b[0m \u001b[39mreturn\u001b[39;00m resp\n",
      "File \u001b[0;32m~/anaconda3/envs/cf_test_2/lib/python3.8/site-packages/requests/sessions.py:703\u001b[0m, in \u001b[0;36mSession.send\u001b[0;34m(self, request, **kwargs)\u001b[0m\n\u001b[1;32m    702\u001b[0m \u001b[39m# Send the request\u001b[39;00m\n\u001b[0;32m--> 703\u001b[0m r \u001b[39m=\u001b[39m adapter\u001b[39m.\u001b[39;49msend(request, \u001b[39m*\u001b[39;49m\u001b[39m*\u001b[39;49mkwargs)\n\u001b[1;32m    705\u001b[0m \u001b[39m# Total elapsed time of the request (approximately)\u001b[39;00m\n",
      "File \u001b[0;32m~/anaconda3/envs/cf_test_2/lib/python3.8/site-packages/requests/adapters.py:519\u001b[0m, in \u001b[0;36mHTTPAdapter.send\u001b[0;34m(self, request, stream, timeout, verify, cert, proxies)\u001b[0m\n\u001b[1;32m    517\u001b[0m         \u001b[39mraise\u001b[39;00m SSLError(e, request\u001b[39m=\u001b[39mrequest)\n\u001b[0;32m--> 519\u001b[0m     \u001b[39mraise\u001b[39;00m \u001b[39mConnectionError\u001b[39;00m(e, request\u001b[39m=\u001b[39mrequest)\n\u001b[1;32m    521\u001b[0m \u001b[39mexcept\u001b[39;00m ClosedPoolError \u001b[39mas\u001b[39;00m e:\n",
      "\u001b[0;31mConnectionError\u001b[0m: HTTPConnectionPool(host='127.0.0.1', port=50052): Max retries exceeded with url: /check/ (Caused by NewConnectionError('<urllib3.connection.HTTPConnection object at 0x12b827cd0>: Failed to establish a new connection: [Errno 61] Connection refused'))",
      "\nDuring handling of the above exception, another exception occurred:\n",
      "\u001b[0;31mAttributeError\u001b[0m                            Traceback (most recent call last)",
      "Cell \u001b[0;32mIn[4], line 1\u001b[0m\n\u001b[0;32m----> 1\u001b[0m num_cpus_cluster \u001b[39m=\u001b[39m rh\u001b[39m.\u001b[39;49mfunction(name\u001b[39m=\u001b[39;49m\u001b[39m\"\u001b[39;49m\u001b[39mnum_cpus_cluster\u001b[39;49m\u001b[39m\"\u001b[39;49m, fn\u001b[39m=\u001b[39;49mnum_cpus)\u001b[39m.\u001b[39;49mto(system\u001b[39m=\u001b[39;49mcluster, reqs\u001b[39m=\u001b[39;49m[\u001b[39m\"\u001b[39;49m\u001b[39m./\u001b[39;49m\u001b[39m\"\u001b[39;49m])\n",
      "File \u001b[0;32m~/Desktop/flare_tests/runhouse/runhouse/resources/function.py:132\u001b[0m, in \u001b[0;36mFunction.to\u001b[0;34m(self, system, env, reqs, setup_cmds, force_install)\u001b[0m\n\u001b[1;32m    130\u001b[0m logging\u001b[39m.\u001b[39minfo(\u001b[39m\"\u001b[39m\u001b[39mSetting up Function on cluster.\u001b[39m\u001b[39m\"\u001b[39m)\n\u001b[1;32m    131\u001b[0m \u001b[39m# To up cluster in case it's not yet up\u001b[39;00m\n\u001b[0;32m--> 132\u001b[0m new_function\u001b[39m.\u001b[39;49msystem\u001b[39m.\u001b[39;49mcheck_server()\n\u001b[1;32m    133\u001b[0m new_function\u001b[39m.\u001b[39mname \u001b[39m=\u001b[39m new_function\u001b[39m.\u001b[39mname \u001b[39mor\u001b[39;00m \u001b[39mself\u001b[39m\u001b[39m.\u001b[39mfn_pointers[\u001b[39m2\u001b[39m]\n\u001b[1;32m    134\u001b[0m \u001b[39m# TODO\u001b[39;00m\n\u001b[1;32m    135\u001b[0m \u001b[39m# env.name = env.name or (new_function.name + \"_env\")\u001b[39;00m\n\u001b[1;32m    136\u001b[0m \u001b[39m# new_env = env.to(new_function.system, force_install=force_install)\u001b[39;00m\n\u001b[1;32m    137\u001b[0m \u001b[39m# new_function.env = new_env\u001b[39;00m\n",
      "File \u001b[0;32m~/Desktop/flare_tests/runhouse/runhouse/resources/hardware/cluster.py:401\u001b[0m, in \u001b[0;36mCluster.check_server\u001b[0;34m(self, restart_server)\u001b[0m\n\u001b[1;32m    393\u001b[0m     logger\u001b[39m.\u001b[39minfo(\u001b[39mf\u001b[39m\u001b[39m\"\u001b[39m\u001b[39mServer \u001b[39m\u001b[39m{\u001b[39;00m\u001b[39mself\u001b[39m\u001b[39m.\u001b[39mname\u001b[39m}\u001b[39;00m\u001b[39m is up.\u001b[39m\u001b[39m\"\u001b[39m)\n\u001b[1;32m    394\u001b[0m \u001b[39mexcept\u001b[39;00m (\n\u001b[1;32m    395\u001b[0m     requests\u001b[39m.\u001b[39mexceptions\u001b[39m.\u001b[39mConnectionError,\n\u001b[1;32m    396\u001b[0m     sshtunnel\u001b[39m.\u001b[39mBaseSSHTunnelForwarderError,\n\u001b[0;32m   (...)\u001b[0m\n\u001b[1;32m    399\u001b[0m ):\n\u001b[1;32m    400\u001b[0m     \u001b[39m# It's possible that the cluster went down while we were trying to install packages.\u001b[39;00m\n\u001b[0;32m--> 401\u001b[0m     \u001b[39mif\u001b[39;00m \u001b[39mnot\u001b[39;00m \u001b[39mself\u001b[39;49m\u001b[39m.\u001b[39;49mis_up():\n\u001b[1;32m    402\u001b[0m         logger\u001b[39m.\u001b[39minfo(\u001b[39mf\u001b[39m\u001b[39m\"\u001b[39m\u001b[39mServer \u001b[39m\u001b[39m{\u001b[39;00m\u001b[39mself\u001b[39m\u001b[39m.\u001b[39mname\u001b[39m}\u001b[39;00m\u001b[39m is down.\u001b[39m\u001b[39m\"\u001b[39m)\n\u001b[1;32m    403\u001b[0m         \u001b[39mself\u001b[39m\u001b[39m.\u001b[39mup_if_not()\n",
      "File \u001b[0;32m~/Desktop/flare_tests/runhouse/runhouse/resources/hardware/kubernetes_cluster.py:359\u001b[0m, in \u001b[0;36mKubernetesCluster.is_up\u001b[0;34m(self)\u001b[0m\n\u001b[1;32m    353\u001b[0m \u001b[39mdef\u001b[39;00m \u001b[39mis_up\u001b[39m(\u001b[39mself\u001b[39m) \u001b[39m-\u001b[39m\u001b[39m>\u001b[39m \u001b[39mbool\u001b[39m:\n\u001b[1;32m    354\u001b[0m \u001b[39m    \u001b[39m\u001b[39m\"\"\"Check if the cluster is up.\u001b[39;00m\n\u001b[1;32m    355\u001b[0m \n\u001b[1;32m    356\u001b[0m \u001b[39m    Example:\u001b[39;00m\n\u001b[1;32m    357\u001b[0m \u001b[39m        >>> rh.sagemaker_cluster(\"sagemaker-cluster\").is_up()\u001b[39;00m\n\u001b[1;32m    358\u001b[0m \u001b[39m    \"\"\"\u001b[39;00m\n\u001b[0;32m--> 359\u001b[0m     cluster_status \u001b[39m=\u001b[39m \u001b[39mself\u001b[39;49m\u001b[39m.\u001b[39;49mcluster_obj\u001b[39m.\u001b[39;49mstatus()\n\u001b[1;32m    360\u001b[0m     \u001b[39mreturn\u001b[39;00m cluster_status[\u001b[39m1\u001b[39m]\n",
      "\u001b[0;31mAttributeError\u001b[0m: 'NoneType' object has no attribute 'status'"
     ]
    }
   ],
   "source": [
    "num_cpus_cluster = rh.function(name=\"num_cpus_cluster\", fn=num_cpus).to(system=cluster, reqs=[\"./\"])"
   ]
  },
  {
   "cell_type": "code",
   "execution_count": 6,
   "metadata": {},
   "outputs": [
    {
     "name": "stderr",
     "output_type": "stream",
     "text": [
      "INFO | 2023-09-22 22:55:38.878811 | Calling num_cpus_cluster.call\n"
     ]
    },
    {
     "name": "stdout",
     "output_type": "stream",
     "text": [
      "base_env servlet: Calling method call on module num_cpus_cluster\n"
     ]
    },
    {
     "name": "stderr",
     "output_type": "stream",
     "text": [
      "INFO | 2023-09-22 22:55:39.312025 | Time to call num_cpus_cluster.call: 0.43 seconds\n"
     ]
    },
    {
     "data": {
      "text/plain": [
       "'Num cpus: 4'"
      ]
     },
     "execution_count": 6,
     "metadata": {},
     "output_type": "execute_result"
    }
   ],
   "source": [
    "num_cpus_cluster()"
   ]
  }
 ],
 "metadata": {
  "kernelspec": {
   "display_name": "rh_fin_1",
   "language": "python",
   "name": "python3"
  },
  "language_info": {
   "codemirror_mode": {
    "name": "ipython",
    "version": 3
   },
   "file_extension": ".py",
   "mimetype": "text/x-python",
   "name": "python",
   "nbconvert_exporter": "python",
   "pygments_lexer": "ipython3",
   "version": "3.8.13"
  },
  "orig_nbformat": 4
 },
 "nbformat": 4,
 "nbformat_minor": 2
}
