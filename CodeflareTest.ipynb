{
 "cells": [
  {
   "cell_type": "code",
   "execution_count": 1,
   "metadata": {},
   "outputs": [
    {
     "name": "stderr",
     "output_type": "stream",
     "text": [
      "2023-10-12 05:11:48,032\tINFO util.py:159 -- Missing packages: ['ipywidgets']. Run `pip install -U ipywidgets`, then restart the notebook server for rich notebook output.\n"
     ]
    }
   ],
   "source": [
    "import runhouse as rh"
   ]
  },
  {
   "cell_type": "code",
   "execution_count": 18,
   "metadata": {},
   "outputs": [
    {
     "name": "stdout",
     "output_type": "stream",
     "text": [
      "No instances found, nothing to be done.\n",
      "Written to: this-82.yaml\n"
     ]
    }
   ],
   "source": [
    "cluster = rh.kubernetes_cluster(\n",
    "            name=\"cpu-cluster-demo\",\n",
    "            namespace=\"default\", # specify context, or namespace, actual EKS cluster, user. context or all three \n",
    "            instance_type=\"CPU:1\",\n",
    "            memory=4,\n",
    "            num_workers=0,\n",
    "            # kube_config_path=\"./my-config\"\n",
    "        )"
   ]
  },
  {
   "cell_type": "code",
   "execution_count": 3,
   "metadata": {},
   "outputs": [
    {
     "name": "stderr",
     "output_type": "stream",
     "text": [
      "INFO | 2023-10-12 11:32:52.420165 | Running helm repo add kuberay https://ray-project.github.io/kuberay-helm/\n",
      "INFO | 2023-10-12 11:32:52.561492 | Running helm install kuberay-operator kuberay/kuberay-operator\n"
     ]
    },
    {
     "name": "stdout",
     "output_type": "stream",
     "text": [
      "\"kuberay\" already exists with the same configuration, skipping\n"
     ]
    },
    {
     "name": "stderr",
     "output_type": "stream",
     "text": [
      "INFO | 2023-10-12 11:33:01.150380 | Running git clone git@github.com:RohanSreerama5/codeflare-operator.git && cd codeflare-operator && make install -e SED=/opt/homebrew/opt/gnu-sed/libexec/gnubin/sed && make deploy -e SED=/opt/homebrew/opt/gnu-sed/libexec/gnubin/sed\n"
     ]
    },
    {
     "name": "stdout",
     "output_type": "stream",
     "text": [
      "NAME: kuberay-operator\n",
      "LAST DEPLOYED: Thu Oct 12 04:32:56 2023\n",
      "NAMESPACE: default\n",
      "STATUS: deployed\n",
      "REVISION: 1\n",
      "TEST SUITE: None\n"
     ]
    },
    {
     "name": "stderr",
     "output_type": "stream",
     "text": [
      "Cloning into 'codeflare-operator'...\n"
     ]
    },
    {
     "name": "stdout",
     "output_type": "stream",
     "text": [
      "mkdir -p /Users/rohansreerama/Desktop/tester_2_rn/runhouse/codeflare-operator/bin\n",
      "test -s /Users/rohansreerama/Desktop/tester_2_rn/runhouse/codeflare-operator/bin/controller-gen || GOBIN=/Users/rohansreerama/Desktop/tester_2_rn/runhouse/codeflare-operator/bin go install sigs.k8s.io/controller-tools/cmd/controller-gen@v0.9.2\n",
      "/Users/rohansreerama/Desktop/tester_2_rn/runhouse/codeflare-operator/bin/controller-gen rbac:roleName=manager-role webhook paths=\"./...\"\n",
      "test -s /Users/rohansreerama/Desktop/tester_2_rn/runhouse/codeflare-operator/bin/kustomize || { curl -s \"https://raw.githubusercontent.com/kubernetes-sigs/kustomize/master/hack/install_kustomize.sh\" | bash -s -- 4.5.4 /Users/rohansreerama/Desktop/tester_2_rn/runhouse/codeflare-operator/bin; }\n",
      "{Version:kustomize/v4.5.4 GitCommit:cf3a452ddd6f83945d39d582243b8592ec627ae3 BuildDate:2022-03-28T23:12:45Z GoOs:darwin GoArch:arm64}\n",
      "kustomize installed to /Users/rohansreerama/Desktop/tester_2_rn/runhouse/codeflare-operator/bin/kustomize\n",
      "/opt/homebrew/opt/gnu-sed/libexec/gnubin/sed -i -E \"s|(- )\\github.com/project-codeflare/multi-cluster-app-dispatcher.*|\\1\\github.com/project-codeflare/multi-cluster-app-dispatcher/config/crd?ref=v1.35.0|\" config/crd/mcad/kustomization.yaml\n",
      "/Users/rohansreerama/Desktop/tester_2_rn/runhouse/codeflare-operator/bin/kustomize build config/crd | kubectl apply -f -\n",
      "customresourcedefinition.apiextensions.k8s.io/appwrappers.workload.codeflare.dev created\n",
      "customresourcedefinition.apiextensions.k8s.io/quotasubtrees.quota.codeflare.dev created\n",
      "customresourcedefinition.apiextensions.k8s.io/schedulingspecs.workload.codeflare.dev created\n",
      "git restore config/*\n",
      "test -s /Users/rohansreerama/Desktop/tester_2_rn/runhouse/codeflare-operator/bin/controller-gen || GOBIN=/Users/rohansreerama/Desktop/tester_2_rn/runhouse/codeflare-operator/bin go install sigs.k8s.io/controller-tools/cmd/controller-gen@v0.9.2\n",
      "/Users/rohansreerama/Desktop/tester_2_rn/runhouse/codeflare-operator/bin/controller-gen rbac:roleName=manager-role webhook paths=\"./...\"\n",
      "/opt/homebrew/opt/gnu-sed/libexec/gnubin/sed -i -E \"s|(- )\\github.com/project-codeflare/multi-cluster-app-dispatcher.*|\\1\\github.com/project-codeflare/multi-cluster-app-dispatcher/config/crd?ref=v1.35.0|\" config/crd/mcad/kustomization.yaml\n",
      "cd config/manager && /Users/rohansreerama/Desktop/tester_2_rn/runhouse/codeflare-operator/bin/kustomize edit set image controller=quay.io/project-codeflare/codeflare-operator:stable\n",
      "/Users/rohansreerama/Desktop/tester_2_rn/runhouse/codeflare-operator/bin/kustomize build config/default | kubectl apply -f -\n",
      "namespace/openshift-operators created\n",
      "customresourcedefinition.apiextensions.k8s.io/appwrappers.workload.codeflare.dev configured\n",
      "customresourcedefinition.apiextensions.k8s.io/quotasubtrees.quota.codeflare.dev configured\n",
      "customresourcedefinition.apiextensions.k8s.io/schedulingspecs.workload.codeflare.dev configured\n",
      "serviceaccount/codeflare-operator-controller-manager created\n",
      "role.rbac.authorization.k8s.io/codeflare-operator-leader-election-role created\n",
      "clusterrole.rbac.authorization.k8s.io/codeflare-operator-instascale-role configured\n",
      "clusterrole.rbac.authorization.k8s.io/codeflare-operator-manager-role created\n",
      "rolebinding.rbac.authorization.k8s.io/codeflare-operator-leader-election-rolebinding created\n",
      "clusterrolebinding.rbac.authorization.k8s.io/codeflare-operator-instascale-rolebinding unchanged\n",
      "clusterrolebinding.rbac.authorization.k8s.io/codeflare-operator-manager-edit-rolebinding created\n",
      "clusterrolebinding.rbac.authorization.k8s.io/codeflare-operator-manager-rolebinding created\n",
      "service/codeflare-operator-manager-metrics created\n"
     ]
    },
    {
     "name": "stderr",
     "output_type": "stream",
     "text": [
      "INFO | 2023-10-12 11:33:18.910150 | Running kubectl apply -f mcad-controller-ray-clusterrole.yaml && kubectl apply -f mcad-controller-ray-clusterrolebinding.yaml\n"
     ]
    },
    {
     "name": "stdout",
     "output_type": "stream",
     "text": [
      "deployment.apps/codeflare-operator-manager created\n",
      "git restore config/*\n",
      "clusterrole.rbac.authorization.k8s.io/mcad-controller-ray-clusterrole unchanged\n",
      "clusterrolebinding.rbac.authorization.k8s.io/mcad-controller-ray-clusterrolebinding unchanged\n"
     ]
    }
   ],
   "source": [
    "cluster.install_k8s_operators()"
   ]
  },
  {
   "cell_type": "code",
   "execution_count": 7,
   "metadata": {},
   "outputs": [
    {
     "name": "stdout",
     "output_type": "stream",
     "text": [
      "Waiting for requested resources to be set up...\n"
     ]
    },
    {
     "name": "stderr",
     "output_type": "stream",
     "text": [
      "INFO | 2023-10-12 12:12:44.753884 | Restarting HTTP server on this-82.\n",
      "INFO | 2023-10-12 12:12:44.755591 | Obtaining name of K8s pod that the head node is running on\n",
      "INFO | 2023-10-12 12:12:44.756180 | Running kubectl get pods -n default | grep this-82-head\n"
     ]
    },
    {
     "name": "stdout",
     "output_type": "stream",
     "text": [
      "Requested cluster is up and running!\n"
     ]
    },
    {
     "name": "stderr",
     "output_type": "stream",
     "text": [
      "INFO | 2023-10-12 12:12:45.498928 | Obtaining IP address of K8s pod that your head node is running on\n",
      "INFO | 2023-10-12 12:12:45.499701 | Running kubectl get pod this-82-head-mbxdg -n default -o jsonpath='{.status.podIP}' | awk '{print $1}'\n"
     ]
    },
    {
     "name": "stdout",
     "output_type": "stream",
     "text": [
      "Found matching pod: this-82-head-mbxdg\n"
     ]
    },
    {
     "name": "stderr",
     "output_type": "stream",
     "text": [
      "INFO | 2023-10-12 12:12:46.157497 | Syncing runhouse code to cluster\n",
      "INFO | 2023-10-12 12:12:46.158715 | Running: kubectl cp ../runhouse/ default/this-82-head-mbxdg:runhouse\n"
     ]
    },
    {
     "name": "stdout",
     "output_type": "stream",
     "text": [
      "Pod IP Address: 10.123.4.211\n"
     ]
    },
    {
     "name": "stderr",
     "output_type": "stream",
     "text": [
      "Defaulted container \"ray-head\" out of: ray-head, create-cert (init)\n",
      "INFO | 2023-10-12 12:13:11.422130 | Installing runhouse python dependencies on the cluster\n",
      "INFO | 2023-10-12 12:13:11.422981 | Running kubectl exec -n default this-82-head-mbxdg -- pip install ./runhouse on this-82\n",
      "INFO | 2023-10-12 12:13:23.566057 | Restarting the HTTP server on the cluster\n",
      "INFO | 2023-10-12 12:13:23.569041 | Running kubectl exec -n default this-82-head-mbxdg -- runhouse restart on this-82\n"
     ]
    },
    {
     "name": "stdout",
     "output_type": "stream",
     "text": [
      "Command Output on this-82:\n",
      "Processing ./runhouse\n",
      "  Preparing metadata (setup.py): started\n",
      "  Preparing metadata (setup.py): finished with status 'done'\n",
      "Requirement already satisfied: fastapi in ./anaconda3/lib/python3.8/site-packages (from runhouse==0.0.13) (0.101.0)\n",
      "Collecting fsspec<=2023.5.0 (from runhouse==0.0.13)\n",
      "  Downloading fsspec-2023.5.0-py3-none-any.whl (160 kB)\n",
      "     ━━━━━━━━━━━━━━━━━━━━━━━━━━━━━━━━━━━━━━ 160.1/160.1 kB 19.8 MB/s eta 0:00:00\n",
      "Requirement already satisfied: pyarrow in ./anaconda3/lib/python3.8/site-packages (from runhouse==0.0.13) (12.0.1)\n",
      "Requirement already satisfied: pyOpenSSL>=21.1.0 in ./anaconda3/lib/python3.8/site-packages (from runhouse==0.0.13) (22.1.0)\n",
      "Requirement already satisfied: rich in ./anaconda3/lib/python3.8/site-packages (from runhouse==0.0.13) (13.5.2)\n",
      "Collecting sentry-sdk (from runhouse==0.0.13)\n",
      "  Obtaining dependency information for sentry-sdk from https://files.pythonhosted.org/packages/63/25/d22e1e152e4eac10d39d9132d7b5f1ea4bdfa0b9a1d65fc606a7b90aeefb/sentry_sdk-1.32.0-py2.py3-none-any.whl.metadata\n",
      "  Downloading sentry_sdk-1.32.0-py2.py3-none-any.whl.metadata (9.8 kB)\n",
      "Collecting skypilot==0.4.0 (from runhouse==0.0.13)\n",
      "  Obtaining dependency information for skypilot==0.4.0 from https://files.pythonhosted.org/packages/8b/d0/cb9dd7d7c3835d307f2d8f7568458ed8d9205ca38ad195c789f5d57a81cf/skypilot-0.4.0-py3-none-any.whl.metadata\n",
      "  Downloading skypilot-0.4.0-py3-none-any.whl.metadata (12 kB)\n",
      "Collecting sshfs (from runhouse==0.0.13)\n",
      "  Obtaining dependency information for sshfs from https://files.pythonhosted.org/packages/57/64/ec804e0afa50071ffa256ae0199a72825459d800655700b717f5dbc4efff/sshfs-2023.7.0-py3-none-any.whl.metadata\n",
      "  Downloading sshfs-2023.7.0-py3-none-any.whl.metadata (4.2 kB)\n",
      "Collecting sshtunnel>=0.3.0 (from runhouse==0.0.13)\n",
      "  Downloading sshtunnel-0.4.0-py2.py3-none-any.whl (24 kB)\n",
      "Requirement already satisfied: typer in ./anaconda3/lib/python3.8/site-packages (from runhouse==0.0.13) (0.9.0)\n",
      "Requirement already satisfied: uvicorn in ./anaconda3/lib/python3.8/site-packages (from runhouse==0.0.13) (0.23.2)\n",
      "Requirement already satisfied: wheel in ./anaconda3/lib/python3.8/site-packages (from runhouse==0.0.13) (0.37.1)\n",
      "Requirement already satisfied: click>=7.0 in ./anaconda3/lib/python3.8/site-packages (from skypilot==0.4.0->runhouse==0.0.13) (8.1.6)\n",
      "Collecting colorama<0.4.5 (from skypilot==0.4.0->runhouse==0.0.13)\n",
      "  Downloading colorama-0.4.4-py2.py3-none-any.whl (16 kB)\n",
      "Requirement already satisfied: cryptography in ./anaconda3/lib/python3.8/site-packages (from skypilot==0.4.0->runhouse==0.0.13) (38.0.1)\n",
      "Collecting jinja2>=3.0 (from skypilot==0.4.0->runhouse==0.0.13)\n",
      "  Downloading Jinja2-3.1.2-py3-none-any.whl (133 kB)\n",
      "     ━━━━━━━━━━━━━━━━━━━━━━━━━━━━━━━━━━━━━━ 133.1/133.1 kB 35.2 MB/s eta 0:00:00\n",
      "Requirement already satisfied: jsonschema in ./anaconda3/lib/python3.8/site-packages (from skypilot==0.4.0->runhouse==0.0.13) (4.19.0)\n",
      "Requirement already satisfied: networkx in ./anaconda3/lib/python3.8/site-packages (from skypilot==0.4.0->runhouse==0.0.13) (3.1)\n",
      "Requirement already satisfied: pandas in ./anaconda3/lib/python3.8/site-packages (from skypilot==0.4.0->runhouse==0.0.13) (2.0.3)\n",
      "Collecting pendulum (from skypilot==0.4.0->runhouse==0.0.13)\n",
      "  Downloading pendulum-2.1.2-cp38-cp38-manylinux1_x86_64.whl (155 kB)\n",
      "     ━━━━━━━━━━━━━━━━━━━━━━━━━━━━━━━━━━━━━━ 155.7/155.7 kB 35.5 MB/s eta 0:00:00\n",
      "Collecting PrettyTable>=2.0.0 (from skypilot==0.4.0->runhouse==0.0.13)\n",
      "  Obtaining dependency information for PrettyTable>=2.0.0 from https://files.pythonhosted.org/packages/4d/81/316b6a55a0d1f327d04cc7b0ba9d04058cb62de6c3a4d4b0df280cbe3b0b/prettytable-3.9.0-py3-none-any.whl.metadata\n",
      "  Downloading prettytable-3.9.0-py3-none-any.whl.metadata (26 kB)\n",
      "Collecting python-dotenv (from skypilot==0.4.0->runhouse==0.0.13)\n",
      "  Downloading python_dotenv-1.0.0-py3-none-any.whl (19 kB)\n",
      "Requirement already satisfied: ray[default]!=2.6.0,<=2.6.3,>=2.2.0 in ./anaconda3/lib/python3.8/site-packages (from skypilot==0.4.0->runhouse==0.0.13) (2.6.3)\n",
      "Requirement already satisfied: tabulate in ./anaconda3/lib/python3.8/site-packages (from skypilot==0.4.0->runhouse==0.0.13) (0.9.0)\n",
      "Requirement already satisfied: filelock>=3.6.0 in ./anaconda3/lib/python3.8/site-packages (from skypilot==0.4.0->runhouse==0.0.13) (3.12.2)\n",
      "Requirement already satisfied: packaging in ./anaconda3/lib/python3.8/site-packages (from skypilot==0.4.0->runhouse==0.0.13) (21.3)\n",
      "Requirement already satisfied: protobuf!=3.19.5,>=3.15.3 in ./anaconda3/lib/python3.8/site-packages (from skypilot==0.4.0->runhouse==0.0.13) (4.24.0)\n",
      "Requirement already satisfied: psutil in ./anaconda3/lib/python3.8/site-packages (from skypilot==0.4.0->runhouse==0.0.13) (5.9.5)\n",
      "Collecting pulp (from skypilot==0.4.0->runhouse==0.0.13)\n",
      "  Downloading PuLP-2.7.0-py3-none-any.whl (14.3 MB)\n",
      "     ━━━━━━━━━━━━━━━━━━━━━━━━━━━━━━━━━━━━━━━━ 14.3/14.3 MB 82.2 MB/s eta 0:00:00\n",
      "Requirement already satisfied: pydantic<2.0,>=1.10.8 in ./anaconda3/lib/python3.8/site-packages (from skypilot==0.4.0->runhouse==0.0.13) (1.10.12)\n",
      "Requirement already satisfied: pyyaml!=5.4.*,>3.13 in ./anaconda3/lib/python3.8/site-packages (from skypilot==0.4.0->runhouse==0.0.13) (6.0.1)\n",
      "Requirement already satisfied: urllib3<2 in ./anaconda3/lib/python3.8/site-packages (from skypilot==0.4.0->runhouse==0.0.13) (1.25.8)\n",
      "Collecting awscli>=1.27.10 (from skypilot==0.4.0->runhouse==0.0.13)\n",
      "  Obtaining dependency information for awscli>=1.27.10 from https://files.pythonhosted.org/packages/7c/af/73e833c99b7e3910b61c5d52ec215369ee94954516bd983504a494339111/awscli-1.29.62-py3-none-any.whl.metadata\n",
      "  Downloading awscli-1.29.62-py3-none-any.whl.metadata (11 kB)\n",
      "Requirement already satisfied: botocore>=1.29.10 in ./anaconda3/lib/python3.8/site-packages (from skypilot==0.4.0->runhouse==0.0.13) (1.29.165)\n",
      "Requirement already satisfied: boto3>=1.26.1 in ./anaconda3/lib/python3.8/site-packages (from skypilot==0.4.0->runhouse==0.0.13) (1.26.76)\n",
      "Collecting grpcio!=1.48.0,<=1.51.3,>=1.32.0 (from skypilot==0.4.0->runhouse==0.0.13)\n",
      "  Downloading grpcio-1.51.3-cp38-cp38-manylinux_2_17_x86_64.manylinux2014_x86_64.whl (4.8 MB)\n",
      "     ━━━━━━━━━━━━━━━━━━━━━━━━━━━━━━━━━━━━━━━━ 4.8/4.8 MB 116.1 MB/s eta 0:00:00\n",
      "Requirement already satisfied: paramiko>=2.7.2 in ./anaconda3/lib/python3.8/site-packages (from sshtunnel>=0.3.0->runhouse==0.0.13) (2.12.0)\n",
      "Requirement already satisfied: starlette<0.28.0,>=0.27.0 in ./anaconda3/lib/python3.8/site-packages (from fastapi->runhouse==0.0.13) (0.27.0)\n",
      "Requirement already satisfied: typing-extensions>=4.5.0 in ./anaconda3/lib/python3.8/site-packages (from fastapi->runhouse==0.0.13) (4.7.1)\n",
      "Requirement already satisfied: numpy>=1.16.6 in ./anaconda3/lib/python3.8/site-packages (from pyarrow->runhouse==0.0.13) (1.24.4)\n",
      "Requirement already satisfied: markdown-it-py>=2.2.0 in ./anaconda3/lib/python3.8/site-packages (from rich->runhouse==0.0.13) (3.0.0)\n",
      "Requirement already satisfied: pygments<3.0.0,>=2.13.0 in ./anaconda3/lib/python3.8/site-packages (from rich->runhouse==0.0.13) (2.16.1)\n",
      "Requirement already satisfied: certifi in ./anaconda3/lib/python3.8/site-packages (from sentry-sdk->runhouse==0.0.13) (2023.7.22)\n",
      "Collecting urllib3<2 (from skypilot==0.4.0->runhouse==0.0.13)\n",
      "  Obtaining dependency information for urllib3<2 from https://files.pythonhosted.org/packages/48/fe/a5c6cc46e9fe9171d7ecf0f33ee7aae14642f8d74baa7af4d7840f9358be/urllib3-1.26.17-py2.py3-none-any.whl.metadata\n",
      "  Downloading urllib3-1.26.17-py2.py3-none-any.whl.metadata (48 kB)\n",
      "     ━━━━━━━━━━━━━━━━━━━━━━━━━━━━━━━━━━━━━━━━ 48.7/48.7 kB 9.9 MB/s eta 0:00:00\n",
      "Collecting asyncssh<3,>=2.11.0 (from sshfs->runhouse==0.0.13)\n",
      "  Obtaining dependency information for asyncssh<3,>=2.11.0 from https://files.pythonhosted.org/packages/da/2d/153462da9ded3e63060be8c282276023d376f2846d2f22fb3519ddf524cc/asyncssh-2.14.0-py3-none-any.whl.metadata\n",
      "  Downloading asyncssh-2.14.0-py3-none-any.whl.metadata (9.8 kB)\n",
      "Requirement already satisfied: h11>=0.8 in ./anaconda3/lib/python3.8/site-packages (from uvicorn->runhouse==0.0.13) (0.14.0)\n",
      "INFO: pip is looking at multiple versions of asyncssh to determine which version is compatible with other requirements. This could take a while.\n",
      "  Obtaining dependency information for asyncssh<3,>=2.11.0 from https://files.pythonhosted.org/packages/c8/82/df5365b647cabf9f0f77135b7d7e845c14c6016f8f320b2a172ffe7e9af3/asyncssh-2.13.2-py3-none-any.whl.metadata\n",
      "  Downloading asyncssh-2.13.2-py3-none-any.whl.metadata (9.8 kB)\n",
      "Collecting botocore>=1.29.10 (from skypilot==0.4.0->runhouse==0.0.13)\n",
      "  Obtaining dependency information for botocore>=1.29.10 from https://files.pythonhosted.org/packages/a8/3f/74138007b045447eac6141c8144efe8e1c9f377cf56c85edfe1111a22f97/botocore-1.31.62-py3-none-any.whl.metadata\n",
      "  Downloading botocore-1.31.62-py3-none-any.whl.metadata (6.1 kB)\n",
      "Collecting docutils<0.17,>=0.10 (from awscli>=1.27.10->skypilot==0.4.0->runhouse==0.0.13)\n",
      "  Downloading docutils-0.16-py2.py3-none-any.whl (548 kB)\n",
      "     ━━━━━━━━━━━━━━━━━━━━━━━━━━━━━━━━━━━━━━ 548.2/548.2 kB 83.1 MB/s eta 0:00:00\n",
      "Collecting s3transfer<0.8.0,>=0.7.0 (from awscli>=1.27.10->skypilot==0.4.0->runhouse==0.0.13)\n",
      "  Obtaining dependency information for s3transfer<0.8.0,>=0.7.0 from https://files.pythonhosted.org/packages/5a/4b/fec9ce18f8874a96c5061422625ba86c3ee1e6587ccd92ff9f5bf7bd91b2/s3transfer-0.7.0-py3-none-any.whl.metadata\n",
      "  Downloading s3transfer-0.7.0-py3-none-any.whl.metadata (1.8 kB)\n",
      "Collecting rsa<4.8,>=3.1.2 (from awscli>=1.27.10->skypilot==0.4.0->runhouse==0.0.13)\n",
      "  Downloading rsa-4.7.2-py3-none-any.whl (34 kB)\n",
      "Requirement already satisfied: jmespath<2.0.0,>=0.7.1 in ./anaconda3/lib/python3.8/site-packages (from botocore>=1.29.10->skypilot==0.4.0->runhouse==0.0.13) (1.0.1)\n",
      "Requirement already satisfied: python-dateutil<3.0.0,>=2.1 in ./anaconda3/lib/python3.8/site-packages (from botocore>=1.29.10->skypilot==0.4.0->runhouse==0.0.13) (2.8.2)\n",
      "INFO: pip is looking at multiple versions of boto3 to determine which version is compatible with other requirements. This could take a while.\n",
      "Collecting boto3>=1.26.1 (from skypilot==0.4.0->runhouse==0.0.13)\n",
      "  Obtaining dependency information for boto3>=1.26.1 from https://files.pythonhosted.org/packages/63/e5/8fc4a69186cb15b0dba9c428da73233c89eb18ee03ce56f6bde205ea2006/boto3-1.28.62-py3-none-any.whl.metadata\n",
      "  Downloading boto3-1.28.62-py3-none-any.whl.metadata (6.7 kB)\n",
      "Requirement already satisfied: cffi>=1.12 in ./anaconda3/lib/python3.8/site-packages (from cryptography->skypilot==0.4.0->runhouse==0.0.13) (1.15.1)\n",
      "Collecting MarkupSafe>=2.0 (from jinja2>=3.0->skypilot==0.4.0->runhouse==0.0.13)\n",
      "  Obtaining dependency information for MarkupSafe>=2.0 from https://files.pythonhosted.org/packages/de/e2/32c14301bb023986dff527a49325b6259cab4ebb4633f69de54af312fc45/MarkupSafe-2.1.3-cp38-cp38-manylinux_2_17_x86_64.manylinux2014_x86_64.whl.metadata\n",
      "  Downloading MarkupSafe-2.1.3-cp38-cp38-manylinux_2_17_x86_64.manylinux2014_x86_64.whl.metadata (3.0 kB)\n",
      "Requirement already satisfied: mdurl~=0.1 in ./anaconda3/lib/python3.8/site-packages (from markdown-it-py>=2.2.0->rich->runhouse==0.0.13) (0.1.2)\n",
      "Requirement already satisfied: bcrypt>=3.1.3 in ./anaconda3/lib/python3.8/site-packages (from paramiko>=2.7.2->sshtunnel>=0.3.0->runhouse==0.0.13) (4.0.1)\n",
      "Requirement already satisfied: pynacl>=1.0.1 in ./anaconda3/lib/python3.8/site-packages (from paramiko>=2.7.2->sshtunnel>=0.3.0->runhouse==0.0.13) (1.5.0)\n",
      "Requirement already satisfied: six in ./anaconda3/lib/python3.8/site-packages (from paramiko>=2.7.2->sshtunnel>=0.3.0->runhouse==0.0.13) (1.13.0)\n",
      "Requirement already satisfied: wcwidth in ./anaconda3/lib/python3.8/site-packages (from PrettyTable>=2.0.0->skypilot==0.4.0->runhouse==0.0.13) (0.2.6)\n",
      "Requirement already satisfied: msgpack<2.0.0,>=1.0.0 in ./anaconda3/lib/python3.8/site-packages (from ray[default]!=2.6.0,<=2.6.3,>=2.2.0->skypilot==0.4.0->runhouse==0.0.13) (1.0.5)\n",
      "Requirement already satisfied: aiosignal in ./anaconda3/lib/python3.8/site-packages (from ray[default]!=2.6.0,<=2.6.3,>=2.2.0->skypilot==0.4.0->runhouse==0.0.13) (1.3.1)\n",
      "Requirement already satisfied: frozenlist in ./anaconda3/lib/python3.8/site-packages (from ray[default]!=2.6.0,<=2.6.3,>=2.2.0->skypilot==0.4.0->runhouse==0.0.13) (1.4.0)\n",
      "Requirement already satisfied: requests in ./anaconda3/lib/python3.8/site-packages (from ray[default]!=2.6.0,<=2.6.3,>=2.2.0->skypilot==0.4.0->runhouse==0.0.13) (2.31.0)\n",
      "Requirement already satisfied: aiohttp>=3.7 in ./anaconda3/lib/python3.8/site-packages (from ray[default]!=2.6.0,<=2.6.3,>=2.2.0->skypilot==0.4.0->runhouse==0.0.13) (3.8.5)\n",
      "Requirement already satisfied: aiohttp-cors in ./anaconda3/lib/python3.8/site-packages (from ray[default]!=2.6.0,<=2.6.3,>=2.2.0->skypilot==0.4.0->runhouse==0.0.13) (0.7.0)\n",
      "Requirement already satisfied: colorful in ./anaconda3/lib/python3.8/site-packages (from ray[default]!=2.6.0,<=2.6.3,>=2.2.0->skypilot==0.4.0->runhouse==0.0.13) (0.5.5)\n",
      "Requirement already satisfied: py-spy>=0.2.0 in ./anaconda3/lib/python3.8/site-packages (from ray[default]!=2.6.0,<=2.6.3,>=2.2.0->skypilot==0.4.0->runhouse==0.0.13) (0.3.14)\n",
      "Requirement already satisfied: gpustat>=1.0.0 in ./anaconda3/lib/python3.8/site-packages (from ray[default]!=2.6.0,<=2.6.3,>=2.2.0->skypilot==0.4.0->runhouse==0.0.13) (1.1)\n",
      "Requirement already satisfied: opencensus in ./anaconda3/lib/python3.8/site-packages (from ray[default]!=2.6.0,<=2.6.3,>=2.2.0->skypilot==0.4.0->runhouse==0.0.13) (0.11.2)\n",
      "Requirement already satisfied: prometheus-client>=0.7.1 in ./anaconda3/lib/python3.8/site-packages (from ray[default]!=2.6.0,<=2.6.3,>=2.2.0->skypilot==0.4.0->runhouse==0.0.13) (0.17.1)\n",
      "Requirement already satisfied: smart-open in ./anaconda3/lib/python3.8/site-packages (from ray[default]!=2.6.0,<=2.6.3,>=2.2.0->skypilot==0.4.0->runhouse==0.0.13) (6.3.0)\n",
      "Requirement already satisfied: virtualenv<20.21.1,>=20.0.24 in ./anaconda3/lib/python3.8/site-packages (from ray[default]!=2.6.0,<=2.6.3,>=2.2.0->skypilot==0.4.0->runhouse==0.0.13) (20.21.0)\n",
      "Requirement already satisfied: anyio<5,>=3.4.0 in ./anaconda3/lib/python3.8/site-packages (from starlette<0.28.0,>=0.27.0->fastapi->runhouse==0.0.13) (3.7.1)\n",
      "Requirement already satisfied: attrs>=22.2.0 in ./anaconda3/lib/python3.8/site-packages (from jsonschema->skypilot==0.4.0->runhouse==0.0.13) (23.1.0)\n",
      "Requirement already satisfied: importlib-resources>=1.4.0 in ./anaconda3/lib/python3.8/site-packages (from jsonschema->skypilot==0.4.0->runhouse==0.0.13) (6.0.1)\n",
      "Requirement already satisfied: jsonschema-specifications>=2023.03.6 in ./anaconda3/lib/python3.8/site-packages (from jsonschema->skypilot==0.4.0->runhouse==0.0.13) (2023.7.1)\n",
      "Requirement already satisfied: pkgutil-resolve-name>=1.3.10 in ./anaconda3/lib/python3.8/site-packages (from jsonschema->skypilot==0.4.0->runhouse==0.0.13) (1.3.10)\n",
      "Requirement already satisfied: referencing>=0.28.4 in ./anaconda3/lib/python3.8/site-packages (from jsonschema->skypilot==0.4.0->runhouse==0.0.13) (0.30.2)\n",
      "Requirement already satisfied: rpds-py>=0.7.1 in ./anaconda3/lib/python3.8/site-packages (from jsonschema->skypilot==0.4.0->runhouse==0.0.13) (0.9.2)\n",
      "Requirement already satisfied: pyparsing!=3.0.5,>=2.0.2 in ./anaconda3/lib/python3.8/site-packages (from packaging->skypilot==0.4.0->runhouse==0.0.13) (3.1.1)\n",
      "Requirement already satisfied: pytz>=2020.1 in ./anaconda3/lib/python3.8/site-packages (from pandas->skypilot==0.4.0->runhouse==0.0.13) (2023.3)\n",
      "Requirement already satisfied: tzdata>=2022.1 in ./anaconda3/lib/python3.8/site-packages (from pandas->skypilot==0.4.0->runhouse==0.0.13) (2023.3)\n",
      "Collecting pytzdata>=2020.1 (from pendulum->skypilot==0.4.0->runhouse==0.0.13)\n",
      "  Downloading pytzdata-2020.1-py2.py3-none-any.whl (489 kB)\n",
      "     ━━━━━━━━━━━━━━━━━━━━━━━━━━━━━━━━━━━━━━ 490.0/490.0 kB 53.6 MB/s eta 0:00:00\n",
      "Requirement already satisfied: charset-normalizer<4.0,>=2.0 in ./anaconda3/lib/python3.8/site-packages (from aiohttp>=3.7->ray[default]!=2.6.0,<=2.6.3,>=2.2.0->skypilot==0.4.0->runhouse==0.0.13) (2.0.4)\n",
      "Requirement already satisfied: multidict<7.0,>=4.5 in ./anaconda3/lib/python3.8/site-packages (from aiohttp>=3.7->ray[default]!=2.6.0,<=2.6.3,>=2.2.0->skypilot==0.4.0->runhouse==0.0.13) (6.0.4)\n",
      "Requirement already satisfied: async-timeout<5.0,>=4.0.0a3 in ./anaconda3/lib/python3.8/site-packages (from aiohttp>=3.7->ray[default]!=2.6.0,<=2.6.3,>=2.2.0->skypilot==0.4.0->runhouse==0.0.13) (4.0.2)\n",
      "Requirement already satisfied: yarl<2.0,>=1.0 in ./anaconda3/lib/python3.8/site-packages (from aiohttp>=3.7->ray[default]!=2.6.0,<=2.6.3,>=2.2.0->skypilot==0.4.0->runhouse==0.0.13) (1.9.2)\n",
      "Requirement already satisfied: idna>=2.8 in ./anaconda3/lib/python3.8/site-packages (from anyio<5,>=3.4.0->starlette<0.28.0,>=0.27.0->fastapi->runhouse==0.0.13) (3.4)\n",
      "Requirement already satisfied: sniffio>=1.1 in ./anaconda3/lib/python3.8/site-packages (from anyio<5,>=3.4.0->starlette<0.28.0,>=0.27.0->fastapi->runhouse==0.0.13) (1.3.0)\n",
      "Requirement already satisfied: exceptiongroup in ./anaconda3/lib/python3.8/site-packages (from anyio<5,>=3.4.0->starlette<0.28.0,>=0.27.0->fastapi->runhouse==0.0.13) (1.1.2)\n",
      "Requirement already satisfied: pycparser in ./anaconda3/lib/python3.8/site-packages (from cffi>=1.12->cryptography->skypilot==0.4.0->runhouse==0.0.13) (2.21)\n",
      "Requirement already satisfied: nvidia-ml-py>=11.450.129 in ./anaconda3/lib/python3.8/site-packages (from gpustat>=1.0.0->ray[default]!=2.6.0,<=2.6.3,>=2.2.0->skypilot==0.4.0->runhouse==0.0.13) (12.535.77)\n",
      "Requirement already satisfied: blessed>=1.17.1 in ./anaconda3/lib/python3.8/site-packages (from gpustat>=1.0.0->ray[default]!=2.6.0,<=2.6.3,>=2.2.0->skypilot==0.4.0->runhouse==0.0.13) (1.20.0)\n",
      "Requirement already satisfied: zipp>=3.1.0 in ./anaconda3/lib/python3.8/site-packages (from importlib-resources>=1.4.0->jsonschema->skypilot==0.4.0->runhouse==0.0.13) (3.11.0)\n",
      "Requirement already satisfied: pyasn1>=0.1.3 in ./anaconda3/lib/python3.8/site-packages (from rsa<4.8,>=3.1.2->awscli>=1.27.10->skypilot==0.4.0->runhouse==0.0.13) (0.5.0)\n",
      "Requirement already satisfied: distlib<1,>=0.3.6 in ./anaconda3/lib/python3.8/site-packages (from virtualenv<20.21.1,>=20.0.24->ray[default]!=2.6.0,<=2.6.3,>=2.2.0->skypilot==0.4.0->runhouse==0.0.13) (0.3.7)\n",
      "Requirement already satisfied: platformdirs<4,>=2.4 in ./anaconda3/lib/python3.8/site-packages (from virtualenv<20.21.1,>=20.0.24->ray[default]!=2.6.0,<=2.6.3,>=2.2.0->skypilot==0.4.0->runhouse==0.0.13) (3.10.0)\n",
      "Requirement already satisfied: opencensus-context>=0.1.3 in ./anaconda3/lib/python3.8/site-packages (from opencensus->ray[default]!=2.6.0,<=2.6.3,>=2.2.0->skypilot==0.4.0->runhouse==0.0.13) (0.1.3)\n",
      "Requirement already satisfied: google-api-core<3.0.0,>=1.0.0 in ./anaconda3/lib/python3.8/site-packages (from opencensus->ray[default]!=2.6.0,<=2.6.3,>=2.2.0->skypilot==0.4.0->runhouse==0.0.13) (2.11.1)\n",
      "Requirement already satisfied: googleapis-common-protos<2.0.dev0,>=1.56.2 in ./anaconda3/lib/python3.8/site-packages (from google-api-core<3.0.0,>=1.0.0->opencensus->ray[default]!=2.6.0,<=2.6.3,>=2.2.0->skypilot==0.4.0->runhouse==0.0.13) (1.60.0)\n",
      "Requirement already satisfied: google-auth<3.0.dev0,>=2.14.1 in ./anaconda3/lib/python3.8/site-packages (from google-api-core<3.0.0,>=1.0.0->opencensus->ray[default]!=2.6.0,<=2.6.3,>=2.2.0->skypilot==0.4.0->runhouse==0.0.13) (2.22.0)\n",
      "Requirement already satisfied: cachetools<6.0,>=2.0.0 in ./anaconda3/lib/python3.8/site-packages (from google-auth<3.0.dev0,>=2.14.1->google-api-core<3.0.0,>=1.0.0->opencensus->ray[default]!=2.6.0,<=2.6.3,>=2.2.0->skypilot==0.4.0->runhouse==0.0.13) (5.3.1)\n",
      "Requirement already satisfied: pyasn1-modules>=0.2.1 in ./anaconda3/lib/python3.8/site-packages (from google-auth<3.0.dev0,>=2.14.1->google-api-core<3.0.0,>=1.0.0->opencensus->ray[default]!=2.6.0,<=2.6.3,>=2.2.0->skypilot==0.4.0->runhouse==0.0.13) (0.3.0)\n",
      "Downloading skypilot-0.4.0-py3-none-any.whl (703 kB)\n",
      "   ━━━━━━━━━━━━━━━━━━━━━━━━━━━━━━━━━━━━━━━━ 703.4/703.4 kB 79.4 MB/s eta 0:00:00\n",
      "Downloading sentry_sdk-1.32.0-py2.py3-none-any.whl (240 kB)\n",
      "   ━━━━━━━━━━━━━━━━━━━━━━━━━━━━━━━━━━━━━━━━ 241.0/241.0 kB 51.7 MB/s eta 0:00:00\n",
      "Downloading sshfs-2023.7.0-py3-none-any.whl (15 kB)\n",
      "Downloading asyncssh-2.13.2-py3-none-any.whl (349 kB)\n",
      "   ━━━━━━━━━━━━━━━━━━━━━━━━━━━━━━━━━━━━━━━━ 349.3/349.3 kB 52.4 MB/s eta 0:00:00\n",
      "Downloading awscli-1.29.62-py3-none-any.whl (4.3 MB)\n",
      "   ━━━━━━━━━━━━━━━━━━━━━━━━━━━━━━━━━━━━━━━━ 4.3/4.3 MB 109.0 MB/s eta 0:00:00\n",
      "Downloading botocore-1.31.62-py3-none-any.whl (11.2 MB)\n",
      "   ━━━━━━━━━━━━━━━━━━━━━━━━━━━━━━━━━━━━━━━━ 11.2/11.2 MB 115.6 MB/s eta 0:00:00\n",
      "Downloading boto3-1.28.62-py3-none-any.whl (135 kB)\n",
      "   ━━━━━━━━━━━━━━━━━━━━━━━━━━━━━━━━━━━━━━━━ 135.8/135.8 kB 31.9 MB/s eta 0:00:00\n",
      "Downloading prettytable-3.9.0-py3-none-any.whl (27 kB)\n",
      "Downloading urllib3-1.26.17-py2.py3-none-any.whl (143 kB)\n",
      "   ━━━━━━━━━━━━━━━━━━━━━━━━━━━━━━━━━━━━━━━━ 143.4/143.4 kB 37.9 MB/s eta 0:00:00\n",
      "Downloading MarkupSafe-2.1.3-cp38-cp38-manylinux_2_17_x86_64.manylinux2014_x86_64.whl (25 kB)\n",
      "Downloading s3transfer-0.7.0-py3-none-any.whl (79 kB)\n",
      "   ━━━━━━━━━━━━━━━━━━━━━━━━━━━━━━━━━━━━━━━━ 79.8/79.8 kB 21.5 MB/s eta 0:00:00\n",
      "Building wheels for collected packages: runhouse\n",
      "  Building wheel for runhouse (setup.py): started\n",
      "  Building wheel for runhouse (setup.py): finished with status 'done'\n",
      "  Created wheel for runhouse: filename=runhouse-0.0.13-py3-none-any.whl size=187851 sha256=200063c4ad3bea4d961f0c1b3e34f6ce72564bcd8b0a8c83f54fb8ca349fc516\n",
      "  Stored in directory: /tmp/pip-ephem-wheel-cache-bn9zch79/wheels/dc/ec/b2/92a925e11e421fd2ad876279404002ddf83049b993ca2219bc\n",
      "Successfully built runhouse\n",
      "Installing collected packages: pulp, urllib3, rsa, pytzdata, python-dotenv, PrettyTable, MarkupSafe, grpcio, fsspec, docutils, colorama, sentry-sdk, pendulum, jinja2, botocore, s3transfer, asyncssh, sshtunnel, sshfs, boto3, awscli, skypilot, runhouse\n",
      "  Attempting uninstall: urllib3\n",
      "    Found existing installation: urllib3 1.25.8\n",
      "    Uninstalling urllib3-1.25.8:\n",
      "      Successfully uninstalled urllib3-1.25.8\n",
      "  Attempting uninstall: rsa\n",
      "    Found existing installation: rsa 4.9\n",
      "    Uninstalling rsa-4.9:\n",
      "      Successfully uninstalled rsa-4.9\n",
      "  Attempting uninstall: grpcio\n",
      "    Found existing installation: grpcio 1.56.2\n",
      "    Uninstalling grpcio-1.56.2:\n",
      "      Successfully uninstalled grpcio-1.56.2\n",
      "  Attempting uninstall: fsspec\n",
      "    Found existing installation: fsspec 2023.6.0\n",
      "    Uninstalling fsspec-2023.6.0:\n",
      "      Successfully uninstalled fsspec-2023.6.0\n",
      "  Attempting uninstall: botocore\n",
      "    Found existing installation: botocore 1.29.165\n",
      "    Uninstalling botocore-1.29.165:\n",
      "      Successfully uninstalled botocore-1.29.165\n",
      "  Attempting uninstall: s3transfer\n",
      "    Found existing installation: s3transfer 0.6.1\n",
      "    Uninstalling s3transfer-0.6.1:\n",
      "      Successfully uninstalled s3transfer-0.6.1\n",
      "  Attempting uninstall: boto3\n",
      "    Found existing installation: boto3 1.26.76\n",
      "    Uninstalling boto3-1.26.76:\n",
      "      Successfully uninstalled boto3-1.26.76\n",
      "Successfully installed MarkupSafe-2.1.3 PrettyTable-3.9.0 asyncssh-2.13.2 awscli-1.29.62 boto3-1.28.62 botocore-1.31.62 colorama-0.4.4 docutils-0.16 fsspec-2023.5.0 grpcio-1.51.3 jinja2-3.1.2 pendulum-2.1.2 pulp-2.7.0 python-dotenv-1.0.0 pytzdata-2020.1 rsa-4.7.2 runhouse-0.0.13 s3transfer-0.7.0 sentry-sdk-1.32.0 skypilot-0.4.0 sshfs-2023.7.0 sshtunnel-0.4.0 urllib3-1.26.17\n",
      "\n"
     ]
    },
    {
     "name": "stderr",
     "output_type": "stream",
     "text": [
      "INFO | 2023-10-12 12:13:32.561694 | Setting up port-forward\n",
      "INFO | 2023-10-12 12:13:32.562467 | Running kubectl port-forward this-82-head-mbxdg 50052:50052\n"
     ]
    },
    {
     "name": "stdout",
     "output_type": "stream",
     "text": [
      "Command Output on this-82:\n",
      "Executing `pkill -f \"/home/ray/anaconda3/bin/python -m \n",
      "runhouse.servers.http.http_server\"`\n",
      "Executing `pkill -f \".*ray.*6379.*\"`\n",
      "Executing `ray start --head --port 6379`\n",
      "2023-10-12 05:13:27,394\tINFO usage_lib.py:407 -- Usage stats collection is enabled by default without user confirmation because this terminal is detected to be non-interactive. To disable this, add `--disable-usage-stats` to the command that starts the cluster, or run the following command: `ray disable-usage-stats` before starting the cluster. See https://docs.ray.io/en/master/cluster/usage-stats.html for more details.\n",
      "2023-10-12 05:13:27,395\tINFO scripts.py:722 -- \u001b[37mLocal node IP\u001b[39m: \u001b[1m10.123.4.211\u001b[22m\n",
      "2023-10-12 05:13:30,553\tSUCC scripts.py:759 -- \u001b[32m--------------------\u001b[39m\n",
      "2023-10-12 05:13:30,553\tSUCC scripts.py:760 -- \u001b[32mRay runtime started.\u001b[39m\n",
      "2023-10-12 05:13:30,553\tSUCC scripts.py:761 -- \u001b[32m--------------------\u001b[39m\n",
      "2023-10-12 05:13:30,553\tINFO scripts.py:763 -- \u001b[36mNext steps\u001b[39m\n",
      "2023-10-12 05:13:30,553\tINFO scripts.py:766 -- To add another node to this Ray cluster, run\n",
      "2023-10-12 05:13:30,553\tINFO scripts.py:769 -- \u001b[1m  ray start --address='10.123.4.211:6379'\u001b[22m\n",
      "2023-10-12 05:13:30,553\tINFO scripts.py:778 -- To connect to this Ray cluster:\n",
      "2023-10-12 05:13:30,553\tINFO scripts.py:780 -- \u001b[35mimport\u001b[39m\u001b[26m ray\n",
      "2023-10-12 05:13:30,553\tINFO scripts.py:781 -- ray\u001b[35m.\u001b[39m\u001b[26minit()\n",
      "2023-10-12 05:13:30,553\tINFO scripts.py:793 -- To submit a Ray job using the Ray Jobs CLI:\n",
      "2023-10-12 05:13:30,553\tINFO scripts.py:794 -- \u001b[1m  RAY_ADDRESS='http://127.0.0.1:8265' ray job submit --working-dir . -- python my_script.py\u001b[22m\n",
      "2023-10-12 05:13:30,553\tINFO scripts.py:803 -- See https://docs.ray.io/en/latest/cluster/running-applications/job-submission/index.html \n",
      "2023-10-12 05:13:30,553\tINFO scripts.py:807 -- for more information on submitting Ray jobs to the Ray cluster.\n",
      "2023-10-12 05:13:30,553\tINFO scripts.py:812 -- To terminate the Ray runtime, run\n",
      "2023-10-12 05:13:30,553\tINFO scripts.py:813 -- \u001b[1m  ray stop\u001b[22m\n",
      "2023-10-12 05:13:30,554\tINFO scripts.py:816 -- To view the status of the cluster, use\n",
      "2023-10-12 05:13:30,554\tINFO scripts.py:817 --   \u001b[1mray status\u001b[22m\u001b[26m\n",
      "2023-10-12 05:13:30,554\tINFO scripts.py:821 -- To monitor and debug Ray, view the dashboard at \n",
      "2023-10-12 05:13:30,554\tINFO scripts.py:822 --   \u001b[1m127.0.0.1:8265\u001b[22m\u001b[26m\n",
      "2023-10-12 05:13:30,554\tINFO scripts.py:829 -- \u001b[4mIf connection to the dashboard fails, check your firewall settings and network configuration.\u001b[24m\n",
      "Executing `screen -dm bash -c \"/home/ray/anaconda3/bin/python -m \n",
      "runhouse.servers.http.http_server |& tee -a '/home/ray/.rh/server.log' 2>&1\"`\n",
      "\n"
     ]
    },
    {
     "data": {
      "text/plain": [
       "<runhouse.resources.hardware.kubernetes_cluster.KubernetesCluster at 0x12f8c9940>"
      ]
     },
     "execution_count": 7,
     "metadata": {},
     "output_type": "execute_result"
    },
    {
     "name": "stdout",
     "output_type": "stream",
     "text": [
      "Forwarding from 127.0.0.1:50052 -> 50052\n",
      "Forwarding from [::1]:50052 -> 50052\n"
     ]
    }
   ],
   "source": [
    "cluster.up()"
   ]
  },
  {
   "cell_type": "code",
   "execution_count": 8,
   "metadata": {},
   "outputs": [],
   "source": [
    "def num_cpus():\n",
    "    import multiprocessing\n",
    "    return f\"Num cpus: {multiprocessing.cpu_count()}\""
   ]
  },
  {
   "cell_type": "code",
   "execution_count": 11,
   "metadata": {},
   "outputs": [
    {
     "name": "stderr",
     "output_type": "stream",
     "text": [
      "INFO | 2023-10-12 12:24:16.420381 | Writing out function to /Users/rohansreerama/Desktop/tester_2_rn/runhouse/num_cpus_fn.py. Please make sure the function does not rely on any local variables, including imports (which should be moved inside the function body).\n",
      "INFO | 2023-10-12 12:24:16.423655 | Setting up Function on cluster.\n",
      "INFO | 2023-10-12 12:24:16.425303 | Copying package from file:///Users/rohansreerama/Desktop/tester_2_rn/runhouse to: this-82\n"
     ]
    },
    {
     "name": "stdout",
     "output_type": "stream",
     "text": [
      "Handling connection for 50052\n"
     ]
    },
    {
     "name": "stderr",
     "output_type": "stream",
     "text": [
      "INFO | 2023-10-12 12:24:16.831442 | Calling base_env.install\n"
     ]
    },
    {
     "name": "stdout",
     "output_type": "stream",
     "text": [
      "Handling connection for 50052\n",
      "base_env servlet: Calling method install on module base_env\n",
      "Env already installed, skipping\n"
     ]
    },
    {
     "name": "stderr",
     "output_type": "stream",
     "text": [
      "INFO | 2023-10-12 12:24:17.336879 | Time to call base_env.install: 0.51 seconds\n"
     ]
    },
    {
     "name": "stdout",
     "output_type": "stream",
     "text": [
      "Handling connection for 50052\n"
     ]
    },
    {
     "name": "stderr",
     "output_type": "stream",
     "text": [
      "INFO | 2023-10-12 12:24:17.716123 | Function setup complete.\n"
     ]
    }
   ],
   "source": [
    "num_cpus_cluster = rh.function(name=\"num_cpus_cluster\", fn=num_cpus).to(system=cluster, reqs=[\"./\"])"
   ]
  },
  {
   "cell_type": "code",
   "execution_count": 12,
   "metadata": {},
   "outputs": [
    {
     "name": "stderr",
     "output_type": "stream",
     "text": [
      "INFO | 2023-10-12 12:24:19.318147 | Calling num_cpus_cluster.call\n"
     ]
    },
    {
     "name": "stdout",
     "output_type": "stream",
     "text": [
      "Handling connection for 50052\n",
      "base_env servlet: Calling method call on module num_cpus_cluster\n"
     ]
    },
    {
     "name": "stderr",
     "output_type": "stream",
     "text": [
      "INFO | 2023-10-12 12:24:19.818441 | Time to call num_cpus_cluster.call: 0.5 seconds\n"
     ]
    },
    {
     "data": {
      "text/plain": [
       "'Num cpus: 4'"
      ]
     },
     "execution_count": 12,
     "metadata": {},
     "output_type": "execute_result"
    }
   ],
   "source": [
    "num_cpus_cluster()"
   ]
  },
  {
   "cell_type": "code",
   "execution_count": 19,
   "metadata": {},
   "outputs": [
    {
     "name": "stdout",
     "output_type": "stream",
     "text": [
      "No instances found, nothing to be done.\n"
     ]
    }
   ],
   "source": [
    "cluster.teardown()"
   ]
  },
  {
   "cell_type": "code",
   "execution_count": 14,
   "metadata": {},
   "outputs": [
    {
     "data": {
      "text/html": [
       "<pre style=\"white-space:pre;overflow-x:auto;line-height:normal;font-family:Menlo,'DejaVu Sans Mono',consolas,'Courier New',monospace\"><span style=\"font-style: italic\">                 </span><span style=\"font-weight: bold; font-style: italic\"> 🚀 CodeFlare Cluster Status 🚀</span><span style=\"font-style: italic\">                  </span>\n",
       "<span style=\"font-weight: bold\">                                                                  </span>\n",
       " ╭──────────────────────────────────────────────────────────────╮ \n",
       " │   <span style=\"color: #c0c0c0; text-decoration-color: #c0c0c0; background-color: #008000; font-weight: bold\">Name</span>                                                       │ \n",
       " │   <span style=\"font-weight: bold; text-decoration: underline\">this-82</span>                                        Active ✅   │ \n",
       " │                                                              │ \n",
       " │   <span style=\"font-weight: bold\">URI:</span> ray://this-82-head-svc.default.svc:10001              │ \n",
       " │                                                              │ \n",
       " │   <a href=\"None\" target=\"_blank\"><span style=\"color: #000080; text-decoration-color: #000080; text-decoration: underline\">Dashboard🔗</span></a>                                                │ \n",
       " │                                                              │ \n",
       " ╰──────────────────────────────────────────────────────────────╯ \n",
       "</pre>\n"
      ],
      "text/plain": [
       "\u001b[3m                 \u001b[0m\u001b[1;3m 🚀 CodeFlare Cluster Status 🚀\u001b[0m\u001b[3m                  \u001b[0m\n",
       "\u001b[1m \u001b[0m\u001b[1m                                                                \u001b[0m\u001b[1m \u001b[0m\n",
       " ╭──────────────────────────────────────────────────────────────╮ \n",
       " │   \u001b[1;37;42mName\u001b[0m                                                       │ \n",
       " │   \u001b[1;4mthis-82\u001b[0m                                        Active ✅   │ \n",
       " │                                                              │ \n",
       " │   \u001b[1mURI:\u001b[0m ray://this-82-head-svc.default.svc:10001              │ \n",
       " │                                                              │ \n",
       " │   \u001b]8;id=575562;None\u001b\\\u001b[4;34mDashboard🔗\u001b[0m\u001b]8;;\u001b\\                                                │ \n",
       " │                                                              │ \n",
       " ╰──────────────────────────────────────────────────────────────╯ \n"
      ]
     },
     "metadata": {},
     "output_type": "display_data"
    },
    {
     "data": {
      "text/plain": [
       "True"
      ]
     },
     "execution_count": 14,
     "metadata": {},
     "output_type": "execute_result"
    }
   ],
   "source": [
    "cluster.is_up()"
   ]
  }
 ],
 "metadata": {
  "kernelspec": {
   "display_name": "rh_fin_1",
   "language": "python",
   "name": "python3"
  },
  "language_info": {
   "codemirror_mode": {
    "name": "ipython",
    "version": 3
   },
   "file_extension": ".py",
   "mimetype": "text/x-python",
   "name": "python",
   "nbconvert_exporter": "python",
   "pygments_lexer": "ipython3",
   "version": "3.8.13"
  },
  "orig_nbformat": 4
 },
 "nbformat": 4,
 "nbformat_minor": 2
}
