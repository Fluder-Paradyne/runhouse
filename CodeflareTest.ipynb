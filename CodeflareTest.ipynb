{
 "cells": [
  {
   "cell_type": "code",
   "execution_count": 1,
   "metadata": {},
   "outputs": [
    {
     "name": "stderr",
     "output_type": "stream",
     "text": [
      "2023-10-12 00:55:07,111\tINFO util.py:159 -- Missing packages: ['ipywidgets']. Run `pip install -U ipywidgets`, then restart the notebook server for rich notebook output.\n"
     ]
    }
   ],
   "source": [
    "import runhouse as rh"
   ]
  },
  {
   "cell_type": "code",
   "execution_count": 2,
   "metadata": {},
   "outputs": [
    {
     "name": "stderr",
     "output_type": "stream",
     "text": [
      "INFO | 2023-10-12 07:55:11.054405 | Running cd runhouse/resources/hardware/codeflare-sdk && pip install -e .\n"
     ]
    },
    {
     "name": "stdout",
     "output_type": "stream",
     "text": [
      "Obtaining file:///Users/rohansreerama/Desktop/flare_tests/runhouse/runhouse/resources/hardware/codeflare-sdk\n",
      "  Installing build dependencies: started\n",
      "  Installing build dependencies: finished with status 'done'\n",
      "  Checking if build backend supports build_editable: started\n",
      "  Checking if build backend supports build_editable: finished with status 'done'\n",
      "  Getting requirements to build editable: started\n",
      "  Getting requirements to build editable: finished with status 'done'\n",
      "  Preparing editable metadata (pyproject.toml): started\n",
      "  Preparing editable metadata (pyproject.toml): finished with status 'done'\n",
      "Building wheels for collected packages: codeflare-sdk\n",
      "  Building editable for codeflare-sdk (pyproject.toml): started\n",
      "  Building editable for codeflare-sdk (pyproject.toml): finished with status 'done'\n",
      "  Created wheel for codeflare-sdk: filename=codeflare_sdk-0.0.0-0.editable-py3-none-any.whl size=5438 sha256=4ce6d24be9c6750a4fee1e15c29f0394f5bbfc756478696001ae82d1c744ca67\n",
      "  Stored in directory: /private/var/folders/vx/8t2h_49n1rd2ql06vcc9gplm0000gn/T/pip-ephem-wheel-cache-j3nikrrc/wheels/5a/a0/70/ee9d3675a6f2024206ee299315818ba9786d5fbb87787fe722\n",
      "Successfully built codeflare-sdk\n",
      "Installing collected packages: codeflare-sdk\n",
      "  Attempting uninstall: codeflare-sdk\n",
      "    Found existing installation: codeflare-sdk 0.0.0\n",
      "    Uninstalling codeflare-sdk-0.0.0:\n",
      "      Successfully uninstalled codeflare-sdk-0.0.0\n",
      "Successfully installed codeflare-sdk-0.0.0\n",
      "No instances found, nothing to be done.\n",
      "Written to: this-67.yaml\n"
     ]
    }
   ],
   "source": [
    "cluster = rh.kubernetes_cluster(\n",
    "            name=\"this-67\",\n",
    "            namespace=\"default\", # specify context, or namespace, actual EKS cluster, user. context or all three \n",
    "            instance_type=\"CPU:1\",\n",
    "            memory=4,\n",
    "            num_workers=0,\n",
    "            # kube_config_path=\"./my-config\"\n",
    "        )"
   ]
  },
  {
   "cell_type": "code",
   "execution_count": 3,
   "metadata": {},
   "outputs": [
    {
     "data": {
      "text/html": [
       "<pre style=\"white-space:pre;overflow-x:auto;line-height:normal;font-family:Menlo,'DejaVu Sans Mono',consolas,'Courier New',monospace\">╭─────────────────────────────────────────────────────────────────────────────────────────────────────────────────╮\n",
       "│ <span style=\"color: #800000; text-decoration-color: #800000\">No resources found, have you run cluster.up() yet?</span>                                                              │\n",
       "╰─────────────────────────────────────────────────────────────────────────────────────────────────────────────────╯\n",
       "</pre>\n"
      ],
      "text/plain": [
       "╭─────────────────────────────────────────────────────────────────────────────────────────────────────────────────╮\n",
       "│ \u001b[31mNo resources found, have you run cluster.up() yet?\u001b[0m                                                              │\n",
       "╰─────────────────────────────────────────────────────────────────────────────────────────────────────────────────╯\n"
      ]
     },
     "metadata": {},
     "output_type": "display_data"
    },
    {
     "name": "stdout",
     "output_type": "stream",
     "text": [
      "Waiting for requested resources to be set up...\n"
     ]
    },
    {
     "name": "stderr",
     "output_type": "stream",
     "text": [
      "INFO | 2023-10-12 07:55:24.268464 | Restarting HTTP server on this-67.\n",
      "INFO | 2023-10-12 07:55:24.270353 | Obtaining name of K8s pod that the head node is running on\n",
      "INFO | 2023-10-12 07:55:24.271045 | Running kubectl get pods -n default | grep this-67-head\n"
     ]
    },
    {
     "name": "stdout",
     "output_type": "stream",
     "text": [
      "Requested cluster is up and running!\n"
     ]
    },
    {
     "name": "stderr",
     "output_type": "stream",
     "text": [
      "INFO | 2023-10-12 07:55:25.211032 | Obtaining IP address of K8s pod that your head node is running on\n",
      "INFO | 2023-10-12 07:55:25.212233 | Running kubectl get pod this-67-head-bglcr -n default -o jsonpath='{.status.podIP}' | awk '{print $1}'\n"
     ]
    },
    {
     "name": "stdout",
     "output_type": "stream",
     "text": [
      "Found matching pod: this-67-head-bglcr\n"
     ]
    },
    {
     "name": "stderr",
     "output_type": "stream",
     "text": [
      "INFO | 2023-10-12 07:55:25.878859 | Syncing runhouse code to cluster\n",
      "INFO | 2023-10-12 07:55:25.879638 | Running: kubectl cp ../runhouse/ default/this-67-head-bglcr:runhouse\n"
     ]
    },
    {
     "name": "stdout",
     "output_type": "stream",
     "text": [
      "Pod IP Address: 10.123.3.206\n"
     ]
    },
    {
     "name": "stderr",
     "output_type": "stream",
     "text": [
      "Defaulted container \"ray-head\" out of: ray-head, create-cert (init)\n",
      "INFO | 2023-10-12 07:55:51.194566 | Installing runhouse python dependencies on the cluster\n",
      "INFO | 2023-10-12 07:55:51.195147 | Running kubectl exec -n default this-67-head-bglcr -- pip install ./runhouse on this-67\n",
      "INFO | 2023-10-12 07:56:03.325637 | Restarting the HTTP server on the cluster\n",
      "INFO | 2023-10-12 07:56:03.327441 | Running kubectl exec -n default this-67-head-bglcr -- runhouse restart on this-67\n"
     ]
    },
    {
     "name": "stdout",
     "output_type": "stream",
     "text": [
      "Command Output on this-67:\n",
      "Processing ./runhouse\n",
      "  Preparing metadata (setup.py): started\n",
      "  Preparing metadata (setup.py): finished with status 'done'\n",
      "Requirement already satisfied: fastapi in ./anaconda3/lib/python3.8/site-packages (from runhouse==0.0.13) (0.101.0)\n",
      "Collecting fsspec<=2023.5.0 (from runhouse==0.0.13)\n",
      "  Downloading fsspec-2023.5.0-py3-none-any.whl (160 kB)\n",
      "     ━━━━━━━━━━━━━━━━━━━━━━━━━━━━━━━━━━━━━━ 160.1/160.1 kB 22.5 MB/s eta 0:00:00\n",
      "Requirement already satisfied: pyarrow in ./anaconda3/lib/python3.8/site-packages (from runhouse==0.0.13) (12.0.1)\n",
      "Requirement already satisfied: pyOpenSSL>=21.1.0 in ./anaconda3/lib/python3.8/site-packages (from runhouse==0.0.13) (22.1.0)\n",
      "Requirement already satisfied: rich in ./anaconda3/lib/python3.8/site-packages (from runhouse==0.0.13) (13.5.2)\n",
      "Collecting sentry-sdk (from runhouse==0.0.13)\n",
      "  Obtaining dependency information for sentry-sdk from https://files.pythonhosted.org/packages/63/25/d22e1e152e4eac10d39d9132d7b5f1ea4bdfa0b9a1d65fc606a7b90aeefb/sentry_sdk-1.32.0-py2.py3-none-any.whl.metadata\n",
      "  Downloading sentry_sdk-1.32.0-py2.py3-none-any.whl.metadata (9.8 kB)\n",
      "Collecting skypilot==0.4.0 (from runhouse==0.0.13)\n",
      "  Obtaining dependency information for skypilot==0.4.0 from https://files.pythonhosted.org/packages/8b/d0/cb9dd7d7c3835d307f2d8f7568458ed8d9205ca38ad195c789f5d57a81cf/skypilot-0.4.0-py3-none-any.whl.metadata\n",
      "  Downloading skypilot-0.4.0-py3-none-any.whl.metadata (12 kB)\n",
      "Collecting sshfs (from runhouse==0.0.13)\n",
      "  Obtaining dependency information for sshfs from https://files.pythonhosted.org/packages/57/64/ec804e0afa50071ffa256ae0199a72825459d800655700b717f5dbc4efff/sshfs-2023.7.0-py3-none-any.whl.metadata\n",
      "  Downloading sshfs-2023.7.0-py3-none-any.whl.metadata (4.2 kB)\n",
      "Collecting sshtunnel>=0.3.0 (from runhouse==0.0.13)\n",
      "  Downloading sshtunnel-0.4.0-py2.py3-none-any.whl (24 kB)\n",
      "Requirement already satisfied: typer in ./anaconda3/lib/python3.8/site-packages (from runhouse==0.0.13) (0.9.0)\n",
      "Requirement already satisfied: uvicorn in ./anaconda3/lib/python3.8/site-packages (from runhouse==0.0.13) (0.23.2)\n",
      "Requirement already satisfied: wheel in ./anaconda3/lib/python3.8/site-packages (from runhouse==0.0.13) (0.37.1)\n",
      "Requirement already satisfied: click>=7.0 in ./anaconda3/lib/python3.8/site-packages (from skypilot==0.4.0->runhouse==0.0.13) (8.1.6)\n",
      "Collecting colorama<0.4.5 (from skypilot==0.4.0->runhouse==0.0.13)\n",
      "  Downloading colorama-0.4.4-py2.py3-none-any.whl (16 kB)\n",
      "Requirement already satisfied: cryptography in ./anaconda3/lib/python3.8/site-packages (from skypilot==0.4.0->runhouse==0.0.13) (38.0.1)\n",
      "Collecting jinja2>=3.0 (from skypilot==0.4.0->runhouse==0.0.13)\n",
      "  Downloading Jinja2-3.1.2-py3-none-any.whl (133 kB)\n",
      "     ━━━━━━━━━━━━━━━━━━━━━━━━━━━━━━━━━━━━━━ 133.1/133.1 kB 25.9 MB/s eta 0:00:00\n",
      "Requirement already satisfied: jsonschema in ./anaconda3/lib/python3.8/site-packages (from skypilot==0.4.0->runhouse==0.0.13) (4.19.0)\n",
      "Requirement already satisfied: networkx in ./anaconda3/lib/python3.8/site-packages (from skypilot==0.4.0->runhouse==0.0.13) (3.1)\n",
      "Requirement already satisfied: pandas in ./anaconda3/lib/python3.8/site-packages (from skypilot==0.4.0->runhouse==0.0.13) (2.0.3)\n",
      "Collecting pendulum (from skypilot==0.4.0->runhouse==0.0.13)\n",
      "  Downloading pendulum-2.1.2-cp38-cp38-manylinux1_x86_64.whl (155 kB)\n",
      "     ━━━━━━━━━━━━━━━━━━━━━━━━━━━━━━━━━━━━━━ 155.7/155.7 kB 32.1 MB/s eta 0:00:00\n",
      "Collecting PrettyTable>=2.0.0 (from skypilot==0.4.0->runhouse==0.0.13)\n",
      "  Obtaining dependency information for PrettyTable>=2.0.0 from https://files.pythonhosted.org/packages/4d/81/316b6a55a0d1f327d04cc7b0ba9d04058cb62de6c3a4d4b0df280cbe3b0b/prettytable-3.9.0-py3-none-any.whl.metadata\n",
      "  Downloading prettytable-3.9.0-py3-none-any.whl.metadata (26 kB)\n",
      "Collecting python-dotenv (from skypilot==0.4.0->runhouse==0.0.13)\n",
      "  Downloading python_dotenv-1.0.0-py3-none-any.whl (19 kB)\n",
      "Requirement already satisfied: ray[default]!=2.6.0,<=2.6.3,>=2.2.0 in ./anaconda3/lib/python3.8/site-packages (from skypilot==0.4.0->runhouse==0.0.13) (2.6.3)\n",
      "Requirement already satisfied: tabulate in ./anaconda3/lib/python3.8/site-packages (from skypilot==0.4.0->runhouse==0.0.13) (0.9.0)\n",
      "Requirement already satisfied: filelock>=3.6.0 in ./anaconda3/lib/python3.8/site-packages (from skypilot==0.4.0->runhouse==0.0.13) (3.12.2)\n",
      "Requirement already satisfied: packaging in ./anaconda3/lib/python3.8/site-packages (from skypilot==0.4.0->runhouse==0.0.13) (21.3)\n",
      "Requirement already satisfied: protobuf!=3.19.5,>=3.15.3 in ./anaconda3/lib/python3.8/site-packages (from skypilot==0.4.0->runhouse==0.0.13) (4.24.0)\n",
      "Requirement already satisfied: psutil in ./anaconda3/lib/python3.8/site-packages (from skypilot==0.4.0->runhouse==0.0.13) (5.9.5)\n",
      "Collecting pulp (from skypilot==0.4.0->runhouse==0.0.13)\n",
      "  Downloading PuLP-2.7.0-py3-none-any.whl (14.3 MB)\n",
      "     ━━━━━━━━━━━━━━━━━━━━━━━━━━━━━━━━━━━━━━━ 14.3/14.3 MB 102.2 MB/s eta 0:00:00\n",
      "Requirement already satisfied: pydantic<2.0,>=1.10.8 in ./anaconda3/lib/python3.8/site-packages (from skypilot==0.4.0->runhouse==0.0.13) (1.10.12)\n",
      "Requirement already satisfied: pyyaml!=5.4.*,>3.13 in ./anaconda3/lib/python3.8/site-packages (from skypilot==0.4.0->runhouse==0.0.13) (6.0.1)\n",
      "Requirement already satisfied: urllib3<2 in ./anaconda3/lib/python3.8/site-packages (from skypilot==0.4.0->runhouse==0.0.13) (1.25.8)\n",
      "Collecting awscli>=1.27.10 (from skypilot==0.4.0->runhouse==0.0.13)\n",
      "  Obtaining dependency information for awscli>=1.27.10 from https://files.pythonhosted.org/packages/7c/af/73e833c99b7e3910b61c5d52ec215369ee94954516bd983504a494339111/awscli-1.29.62-py3-none-any.whl.metadata\n",
      "  Downloading awscli-1.29.62-py3-none-any.whl.metadata (11 kB)\n",
      "Requirement already satisfied: botocore>=1.29.10 in ./anaconda3/lib/python3.8/site-packages (from skypilot==0.4.0->runhouse==0.0.13) (1.29.165)\n",
      "Requirement already satisfied: boto3>=1.26.1 in ./anaconda3/lib/python3.8/site-packages (from skypilot==0.4.0->runhouse==0.0.13) (1.26.76)\n",
      "Collecting grpcio!=1.48.0,<=1.51.3,>=1.32.0 (from skypilot==0.4.0->runhouse==0.0.13)\n",
      "  Downloading grpcio-1.51.3-cp38-cp38-manylinux_2_17_x86_64.manylinux2014_x86_64.whl (4.8 MB)\n",
      "     ━━━━━━━━━━━━━━━━━━━━━━━━━━━━━━━━━━━━━━━━ 4.8/4.8 MB 125.4 MB/s eta 0:00:00\n",
      "Requirement already satisfied: paramiko>=2.7.2 in ./anaconda3/lib/python3.8/site-packages (from sshtunnel>=0.3.0->runhouse==0.0.13) (2.12.0)\n",
      "Requirement already satisfied: starlette<0.28.0,>=0.27.0 in ./anaconda3/lib/python3.8/site-packages (from fastapi->runhouse==0.0.13) (0.27.0)\n",
      "Requirement already satisfied: typing-extensions>=4.5.0 in ./anaconda3/lib/python3.8/site-packages (from fastapi->runhouse==0.0.13) (4.7.1)\n",
      "Requirement already satisfied: numpy>=1.16.6 in ./anaconda3/lib/python3.8/site-packages (from pyarrow->runhouse==0.0.13) (1.24.4)\n",
      "Requirement already satisfied: markdown-it-py>=2.2.0 in ./anaconda3/lib/python3.8/site-packages (from rich->runhouse==0.0.13) (3.0.0)\n",
      "Requirement already satisfied: pygments<3.0.0,>=2.13.0 in ./anaconda3/lib/python3.8/site-packages (from rich->runhouse==0.0.13) (2.16.1)\n",
      "Requirement already satisfied: certifi in ./anaconda3/lib/python3.8/site-packages (from sentry-sdk->runhouse==0.0.13) (2023.7.22)\n",
      "Collecting urllib3<2 (from skypilot==0.4.0->runhouse==0.0.13)\n",
      "  Obtaining dependency information for urllib3<2 from https://files.pythonhosted.org/packages/48/fe/a5c6cc46e9fe9171d7ecf0f33ee7aae14642f8d74baa7af4d7840f9358be/urllib3-1.26.17-py2.py3-none-any.whl.metadata\n",
      "  Downloading urllib3-1.26.17-py2.py3-none-any.whl.metadata (48 kB)\n",
      "     ━━━━━━━━━━━━━━━━━━━━━━━━━━━━━━━━━━━━━━━━ 48.7/48.7 kB 16.1 MB/s eta 0:00:00\n",
      "Collecting asyncssh<3,>=2.11.0 (from sshfs->runhouse==0.0.13)\n",
      "  Obtaining dependency information for asyncssh<3,>=2.11.0 from https://files.pythonhosted.org/packages/da/2d/153462da9ded3e63060be8c282276023d376f2846d2f22fb3519ddf524cc/asyncssh-2.14.0-py3-none-any.whl.metadata\n",
      "  Downloading asyncssh-2.14.0-py3-none-any.whl.metadata (9.8 kB)\n",
      "Requirement already satisfied: h11>=0.8 in ./anaconda3/lib/python3.8/site-packages (from uvicorn->runhouse==0.0.13) (0.14.0)\n",
      "INFO: pip is looking at multiple versions of asyncssh to determine which version is compatible with other requirements. This could take a while.\n",
      "  Obtaining dependency information for asyncssh<3,>=2.11.0 from https://files.pythonhosted.org/packages/c8/82/df5365b647cabf9f0f77135b7d7e845c14c6016f8f320b2a172ffe7e9af3/asyncssh-2.13.2-py3-none-any.whl.metadata\n",
      "  Downloading asyncssh-2.13.2-py3-none-any.whl.metadata (9.8 kB)\n",
      "Collecting botocore>=1.29.10 (from skypilot==0.4.0->runhouse==0.0.13)\n",
      "  Obtaining dependency information for botocore>=1.29.10 from https://files.pythonhosted.org/packages/a8/3f/74138007b045447eac6141c8144efe8e1c9f377cf56c85edfe1111a22f97/botocore-1.31.62-py3-none-any.whl.metadata\n",
      "  Downloading botocore-1.31.62-py3-none-any.whl.metadata (6.1 kB)\n",
      "Collecting docutils<0.17,>=0.10 (from awscli>=1.27.10->skypilot==0.4.0->runhouse==0.0.13)\n",
      "  Downloading docutils-0.16-py2.py3-none-any.whl (548 kB)\n",
      "     ━━━━━━━━━━━━━━━━━━━━━━━━━━━━━━━━━━━━━━ 548.2/548.2 kB 71.5 MB/s eta 0:00:00\n",
      "Collecting s3transfer<0.8.0,>=0.7.0 (from awscli>=1.27.10->skypilot==0.4.0->runhouse==0.0.13)\n",
      "  Obtaining dependency information for s3transfer<0.8.0,>=0.7.0 from https://files.pythonhosted.org/packages/5a/4b/fec9ce18f8874a96c5061422625ba86c3ee1e6587ccd92ff9f5bf7bd91b2/s3transfer-0.7.0-py3-none-any.whl.metadata\n",
      "  Downloading s3transfer-0.7.0-py3-none-any.whl.metadata (1.8 kB)\n",
      "Collecting rsa<4.8,>=3.1.2 (from awscli>=1.27.10->skypilot==0.4.0->runhouse==0.0.13)\n",
      "  Downloading rsa-4.7.2-py3-none-any.whl (34 kB)\n",
      "Requirement already satisfied: jmespath<2.0.0,>=0.7.1 in ./anaconda3/lib/python3.8/site-packages (from botocore>=1.29.10->skypilot==0.4.0->runhouse==0.0.13) (1.0.1)\n",
      "Requirement already satisfied: python-dateutil<3.0.0,>=2.1 in ./anaconda3/lib/python3.8/site-packages (from botocore>=1.29.10->skypilot==0.4.0->runhouse==0.0.13) (2.8.2)\n",
      "INFO: pip is looking at multiple versions of boto3 to determine which version is compatible with other requirements. This could take a while.\n",
      "Collecting boto3>=1.26.1 (from skypilot==0.4.0->runhouse==0.0.13)\n",
      "  Obtaining dependency information for boto3>=1.26.1 from https://files.pythonhosted.org/packages/63/e5/8fc4a69186cb15b0dba9c428da73233c89eb18ee03ce56f6bde205ea2006/boto3-1.28.62-py3-none-any.whl.metadata\n",
      "  Downloading boto3-1.28.62-py3-none-any.whl.metadata (6.7 kB)\n",
      "Requirement already satisfied: cffi>=1.12 in ./anaconda3/lib/python3.8/site-packages (from cryptography->skypilot==0.4.0->runhouse==0.0.13) (1.15.1)\n",
      "Collecting MarkupSafe>=2.0 (from jinja2>=3.0->skypilot==0.4.0->runhouse==0.0.13)\n",
      "  Obtaining dependency information for MarkupSafe>=2.0 from https://files.pythonhosted.org/packages/de/e2/32c14301bb023986dff527a49325b6259cab4ebb4633f69de54af312fc45/MarkupSafe-2.1.3-cp38-cp38-manylinux_2_17_x86_64.manylinux2014_x86_64.whl.metadata\n",
      "  Downloading MarkupSafe-2.1.3-cp38-cp38-manylinux_2_17_x86_64.manylinux2014_x86_64.whl.metadata (3.0 kB)\n",
      "Requirement already satisfied: mdurl~=0.1 in ./anaconda3/lib/python3.8/site-packages (from markdown-it-py>=2.2.0->rich->runhouse==0.0.13) (0.1.2)\n",
      "Requirement already satisfied: bcrypt>=3.1.3 in ./anaconda3/lib/python3.8/site-packages (from paramiko>=2.7.2->sshtunnel>=0.3.0->runhouse==0.0.13) (4.0.1)\n",
      "Requirement already satisfied: pynacl>=1.0.1 in ./anaconda3/lib/python3.8/site-packages (from paramiko>=2.7.2->sshtunnel>=0.3.0->runhouse==0.0.13) (1.5.0)\n",
      "Requirement already satisfied: six in ./anaconda3/lib/python3.8/site-packages (from paramiko>=2.7.2->sshtunnel>=0.3.0->runhouse==0.0.13) (1.13.0)\n",
      "Requirement already satisfied: wcwidth in ./anaconda3/lib/python3.8/site-packages (from PrettyTable>=2.0.0->skypilot==0.4.0->runhouse==0.0.13) (0.2.6)\n",
      "Requirement already satisfied: msgpack<2.0.0,>=1.0.0 in ./anaconda3/lib/python3.8/site-packages (from ray[default]!=2.6.0,<=2.6.3,>=2.2.0->skypilot==0.4.0->runhouse==0.0.13) (1.0.5)\n",
      "Requirement already satisfied: aiosignal in ./anaconda3/lib/python3.8/site-packages (from ray[default]!=2.6.0,<=2.6.3,>=2.2.0->skypilot==0.4.0->runhouse==0.0.13) (1.3.1)\n",
      "Requirement already satisfied: frozenlist in ./anaconda3/lib/python3.8/site-packages (from ray[default]!=2.6.0,<=2.6.3,>=2.2.0->skypilot==0.4.0->runhouse==0.0.13) (1.4.0)\n",
      "Requirement already satisfied: requests in ./anaconda3/lib/python3.8/site-packages (from ray[default]!=2.6.0,<=2.6.3,>=2.2.0->skypilot==0.4.0->runhouse==0.0.13) (2.31.0)\n",
      "Requirement already satisfied: aiohttp>=3.7 in ./anaconda3/lib/python3.8/site-packages (from ray[default]!=2.6.0,<=2.6.3,>=2.2.0->skypilot==0.4.0->runhouse==0.0.13) (3.8.5)\n",
      "Requirement already satisfied: aiohttp-cors in ./anaconda3/lib/python3.8/site-packages (from ray[default]!=2.6.0,<=2.6.3,>=2.2.0->skypilot==0.4.0->runhouse==0.0.13) (0.7.0)\n",
      "Requirement already satisfied: colorful in ./anaconda3/lib/python3.8/site-packages (from ray[default]!=2.6.0,<=2.6.3,>=2.2.0->skypilot==0.4.0->runhouse==0.0.13) (0.5.5)\n",
      "Requirement already satisfied: py-spy>=0.2.0 in ./anaconda3/lib/python3.8/site-packages (from ray[default]!=2.6.0,<=2.6.3,>=2.2.0->skypilot==0.4.0->runhouse==0.0.13) (0.3.14)\n",
      "Requirement already satisfied: gpustat>=1.0.0 in ./anaconda3/lib/python3.8/site-packages (from ray[default]!=2.6.0,<=2.6.3,>=2.2.0->skypilot==0.4.0->runhouse==0.0.13) (1.1)\n",
      "Requirement already satisfied: opencensus in ./anaconda3/lib/python3.8/site-packages (from ray[default]!=2.6.0,<=2.6.3,>=2.2.0->skypilot==0.4.0->runhouse==0.0.13) (0.11.2)\n",
      "Requirement already satisfied: prometheus-client>=0.7.1 in ./anaconda3/lib/python3.8/site-packages (from ray[default]!=2.6.0,<=2.6.3,>=2.2.0->skypilot==0.4.0->runhouse==0.0.13) (0.17.1)\n",
      "Requirement already satisfied: smart-open in ./anaconda3/lib/python3.8/site-packages (from ray[default]!=2.6.0,<=2.6.3,>=2.2.0->skypilot==0.4.0->runhouse==0.0.13) (6.3.0)\n",
      "Requirement already satisfied: virtualenv<20.21.1,>=20.0.24 in ./anaconda3/lib/python3.8/site-packages (from ray[default]!=2.6.0,<=2.6.3,>=2.2.0->skypilot==0.4.0->runhouse==0.0.13) (20.21.0)\n",
      "Requirement already satisfied: anyio<5,>=3.4.0 in ./anaconda3/lib/python3.8/site-packages (from starlette<0.28.0,>=0.27.0->fastapi->runhouse==0.0.13) (3.7.1)\n",
      "Requirement already satisfied: attrs>=22.2.0 in ./anaconda3/lib/python3.8/site-packages (from jsonschema->skypilot==0.4.0->runhouse==0.0.13) (23.1.0)\n",
      "Requirement already satisfied: importlib-resources>=1.4.0 in ./anaconda3/lib/python3.8/site-packages (from jsonschema->skypilot==0.4.0->runhouse==0.0.13) (6.0.1)\n",
      "Requirement already satisfied: jsonschema-specifications>=2023.03.6 in ./anaconda3/lib/python3.8/site-packages (from jsonschema->skypilot==0.4.0->runhouse==0.0.13) (2023.7.1)\n",
      "Requirement already satisfied: pkgutil-resolve-name>=1.3.10 in ./anaconda3/lib/python3.8/site-packages (from jsonschema->skypilot==0.4.0->runhouse==0.0.13) (1.3.10)\n",
      "Requirement already satisfied: referencing>=0.28.4 in ./anaconda3/lib/python3.8/site-packages (from jsonschema->skypilot==0.4.0->runhouse==0.0.13) (0.30.2)\n",
      "Requirement already satisfied: rpds-py>=0.7.1 in ./anaconda3/lib/python3.8/site-packages (from jsonschema->skypilot==0.4.0->runhouse==0.0.13) (0.9.2)\n",
      "Requirement already satisfied: pyparsing!=3.0.5,>=2.0.2 in ./anaconda3/lib/python3.8/site-packages (from packaging->skypilot==0.4.0->runhouse==0.0.13) (3.1.1)\n",
      "Requirement already satisfied: pytz>=2020.1 in ./anaconda3/lib/python3.8/site-packages (from pandas->skypilot==0.4.0->runhouse==0.0.13) (2023.3)\n",
      "Requirement already satisfied: tzdata>=2022.1 in ./anaconda3/lib/python3.8/site-packages (from pandas->skypilot==0.4.0->runhouse==0.0.13) (2023.3)\n",
      "Collecting pytzdata>=2020.1 (from pendulum->skypilot==0.4.0->runhouse==0.0.13)\n",
      "  Downloading pytzdata-2020.1-py2.py3-none-any.whl (489 kB)\n",
      "     ━━━━━━━━━━━━━━━━━━━━━━━━━━━━━━━━━━━━━━ 490.0/490.0 kB 70.1 MB/s eta 0:00:00\n",
      "Requirement already satisfied: charset-normalizer<4.0,>=2.0 in ./anaconda3/lib/python3.8/site-packages (from aiohttp>=3.7->ray[default]!=2.6.0,<=2.6.3,>=2.2.0->skypilot==0.4.0->runhouse==0.0.13) (2.0.4)\n",
      "Requirement already satisfied: multidict<7.0,>=4.5 in ./anaconda3/lib/python3.8/site-packages (from aiohttp>=3.7->ray[default]!=2.6.0,<=2.6.3,>=2.2.0->skypilot==0.4.0->runhouse==0.0.13) (6.0.4)\n",
      "Requirement already satisfied: async-timeout<5.0,>=4.0.0a3 in ./anaconda3/lib/python3.8/site-packages (from aiohttp>=3.7->ray[default]!=2.6.0,<=2.6.3,>=2.2.0->skypilot==0.4.0->runhouse==0.0.13) (4.0.2)\n",
      "Requirement already satisfied: yarl<2.0,>=1.0 in ./anaconda3/lib/python3.8/site-packages (from aiohttp>=3.7->ray[default]!=2.6.0,<=2.6.3,>=2.2.0->skypilot==0.4.0->runhouse==0.0.13) (1.9.2)\n",
      "Requirement already satisfied: idna>=2.8 in ./anaconda3/lib/python3.8/site-packages (from anyio<5,>=3.4.0->starlette<0.28.0,>=0.27.0->fastapi->runhouse==0.0.13) (3.4)\n",
      "Requirement already satisfied: sniffio>=1.1 in ./anaconda3/lib/python3.8/site-packages (from anyio<5,>=3.4.0->starlette<0.28.0,>=0.27.0->fastapi->runhouse==0.0.13) (1.3.0)\n",
      "Requirement already satisfied: exceptiongroup in ./anaconda3/lib/python3.8/site-packages (from anyio<5,>=3.4.0->starlette<0.28.0,>=0.27.0->fastapi->runhouse==0.0.13) (1.1.2)\n",
      "Requirement already satisfied: pycparser in ./anaconda3/lib/python3.8/site-packages (from cffi>=1.12->cryptography->skypilot==0.4.0->runhouse==0.0.13) (2.21)\n",
      "Requirement already satisfied: nvidia-ml-py>=11.450.129 in ./anaconda3/lib/python3.8/site-packages (from gpustat>=1.0.0->ray[default]!=2.6.0,<=2.6.3,>=2.2.0->skypilot==0.4.0->runhouse==0.0.13) (12.535.77)\n",
      "Requirement already satisfied: blessed>=1.17.1 in ./anaconda3/lib/python3.8/site-packages (from gpustat>=1.0.0->ray[default]!=2.6.0,<=2.6.3,>=2.2.0->skypilot==0.4.0->runhouse==0.0.13) (1.20.0)\n",
      "Requirement already satisfied: zipp>=3.1.0 in ./anaconda3/lib/python3.8/site-packages (from importlib-resources>=1.4.0->jsonschema->skypilot==0.4.0->runhouse==0.0.13) (3.11.0)\n",
      "Requirement already satisfied: pyasn1>=0.1.3 in ./anaconda3/lib/python3.8/site-packages (from rsa<4.8,>=3.1.2->awscli>=1.27.10->skypilot==0.4.0->runhouse==0.0.13) (0.5.0)\n",
      "Requirement already satisfied: distlib<1,>=0.3.6 in ./anaconda3/lib/python3.8/site-packages (from virtualenv<20.21.1,>=20.0.24->ray[default]!=2.6.0,<=2.6.3,>=2.2.0->skypilot==0.4.0->runhouse==0.0.13) (0.3.7)\n",
      "Requirement already satisfied: platformdirs<4,>=2.4 in ./anaconda3/lib/python3.8/site-packages (from virtualenv<20.21.1,>=20.0.24->ray[default]!=2.6.0,<=2.6.3,>=2.2.0->skypilot==0.4.0->runhouse==0.0.13) (3.10.0)\n",
      "Requirement already satisfied: opencensus-context>=0.1.3 in ./anaconda3/lib/python3.8/site-packages (from opencensus->ray[default]!=2.6.0,<=2.6.3,>=2.2.0->skypilot==0.4.0->runhouse==0.0.13) (0.1.3)\n",
      "Requirement already satisfied: google-api-core<3.0.0,>=1.0.0 in ./anaconda3/lib/python3.8/site-packages (from opencensus->ray[default]!=2.6.0,<=2.6.3,>=2.2.0->skypilot==0.4.0->runhouse==0.0.13) (2.11.1)\n",
      "Requirement already satisfied: googleapis-common-protos<2.0.dev0,>=1.56.2 in ./anaconda3/lib/python3.8/site-packages (from google-api-core<3.0.0,>=1.0.0->opencensus->ray[default]!=2.6.0,<=2.6.3,>=2.2.0->skypilot==0.4.0->runhouse==0.0.13) (1.60.0)\n",
      "Requirement already satisfied: google-auth<3.0.dev0,>=2.14.1 in ./anaconda3/lib/python3.8/site-packages (from google-api-core<3.0.0,>=1.0.0->opencensus->ray[default]!=2.6.0,<=2.6.3,>=2.2.0->skypilot==0.4.0->runhouse==0.0.13) (2.22.0)\n",
      "Requirement already satisfied: cachetools<6.0,>=2.0.0 in ./anaconda3/lib/python3.8/site-packages (from google-auth<3.0.dev0,>=2.14.1->google-api-core<3.0.0,>=1.0.0->opencensus->ray[default]!=2.6.0,<=2.6.3,>=2.2.0->skypilot==0.4.0->runhouse==0.0.13) (5.3.1)\n",
      "Requirement already satisfied: pyasn1-modules>=0.2.1 in ./anaconda3/lib/python3.8/site-packages (from google-auth<3.0.dev0,>=2.14.1->google-api-core<3.0.0,>=1.0.0->opencensus->ray[default]!=2.6.0,<=2.6.3,>=2.2.0->skypilot==0.4.0->runhouse==0.0.13) (0.3.0)\n",
      "Downloading skypilot-0.4.0-py3-none-any.whl (703 kB)\n",
      "   ━━━━━━━━━━━━━━━━━━━━━━━━━━━━━━━━━━━━━━━━ 703.4/703.4 kB 87.9 MB/s eta 0:00:00\n",
      "Downloading sentry_sdk-1.32.0-py2.py3-none-any.whl (240 kB)\n",
      "   ━━━━━━━━━━━━━━━━━━━━━━━━━━━━━━━━━━━━━━━━ 241.0/241.0 kB 48.4 MB/s eta 0:00:00\n",
      "Downloading sshfs-2023.7.0-py3-none-any.whl (15 kB)\n",
      "Downloading asyncssh-2.13.2-py3-none-any.whl (349 kB)\n",
      "   ━━━━━━━━━━━━━━━━━━━━━━━━━━━━━━━━━━━━━━━━ 349.3/349.3 kB 58.9 MB/s eta 0:00:00\n",
      "Downloading awscli-1.29.62-py3-none-any.whl (4.3 MB)\n",
      "   ━━━━━━━━━━━━━━━━━━━━━━━━━━━━━━━━━━━━━━━━ 4.3/4.3 MB 131.1 MB/s eta 0:00:00\n",
      "Downloading botocore-1.31.62-py3-none-any.whl (11.2 MB)\n",
      "   ━━━━━━━━━━━━━━━━━━━━━━━━━━━━━━━━━━━━━━━━ 11.2/11.2 MB 132.9 MB/s eta 0:00:00\n",
      "Downloading boto3-1.28.62-py3-none-any.whl (135 kB)\n",
      "   ━━━━━━━━━━━━━━━━━━━━━━━━━━━━━━━━━━━━━━━━ 135.8/135.8 kB 43.4 MB/s eta 0:00:00\n",
      "Downloading prettytable-3.9.0-py3-none-any.whl (27 kB)\n",
      "Downloading urllib3-1.26.17-py2.py3-none-any.whl (143 kB)\n",
      "   ━━━━━━━━━━━━━━━━━━━━━━━━━━━━━━━━━━━━━━━━ 143.4/143.4 kB 37.0 MB/s eta 0:00:00\n",
      "Downloading MarkupSafe-2.1.3-cp38-cp38-manylinux_2_17_x86_64.manylinux2014_x86_64.whl (25 kB)\n",
      "Downloading s3transfer-0.7.0-py3-none-any.whl (79 kB)\n",
      "   ━━━━━━━━━━━━━━━━━━━━━━━━━━━━━━━━━━━━━━━━ 79.8/79.8 kB 28.3 MB/s eta 0:00:00\n",
      "Building wheels for collected packages: runhouse\n",
      "  Building wheel for runhouse (setup.py): started\n",
      "  Building wheel for runhouse (setup.py): finished with status 'done'\n",
      "  Created wheel for runhouse: filename=runhouse-0.0.13-py3-none-any.whl size=188880 sha256=d8d6dbf96158e29a994e47e3cbe721d547dd1103dccbdbce3766f33f7c28f37c\n",
      "  Stored in directory: /tmp/pip-ephem-wheel-cache-avisq8nc/wheels/dc/ec/b2/92a925e11e421fd2ad876279404002ddf83049b993ca2219bc\n",
      "Successfully built runhouse\n",
      "Installing collected packages: pulp, urllib3, rsa, pytzdata, python-dotenv, PrettyTable, MarkupSafe, grpcio, fsspec, docutils, colorama, sentry-sdk, pendulum, jinja2, botocore, s3transfer, asyncssh, sshtunnel, sshfs, boto3, awscli, skypilot, runhouse\n",
      "  Attempting uninstall: urllib3\n",
      "    Found existing installation: urllib3 1.25.8\n",
      "    Uninstalling urllib3-1.25.8:\n",
      "      Successfully uninstalled urllib3-1.25.8\n",
      "  Attempting uninstall: rsa\n",
      "    Found existing installation: rsa 4.9\n",
      "    Uninstalling rsa-4.9:\n",
      "      Successfully uninstalled rsa-4.9\n",
      "  Attempting uninstall: grpcio\n",
      "    Found existing installation: grpcio 1.56.2\n",
      "    Uninstalling grpcio-1.56.2:\n",
      "      Successfully uninstalled grpcio-1.56.2\n",
      "  Attempting uninstall: fsspec\n",
      "    Found existing installation: fsspec 2023.6.0\n",
      "    Uninstalling fsspec-2023.6.0:\n",
      "      Successfully uninstalled fsspec-2023.6.0\n",
      "  Attempting uninstall: botocore\n",
      "    Found existing installation: botocore 1.29.165\n",
      "    Uninstalling botocore-1.29.165:\n",
      "      Successfully uninstalled botocore-1.29.165\n",
      "  Attempting uninstall: s3transfer\n",
      "    Found existing installation: s3transfer 0.6.1\n",
      "    Uninstalling s3transfer-0.6.1:\n",
      "      Successfully uninstalled s3transfer-0.6.1\n",
      "  Attempting uninstall: boto3\n",
      "    Found existing installation: boto3 1.26.76\n",
      "    Uninstalling boto3-1.26.76:\n",
      "      Successfully uninstalled boto3-1.26.76\n",
      "Successfully installed MarkupSafe-2.1.3 PrettyTable-3.9.0 asyncssh-2.13.2 awscli-1.29.62 boto3-1.28.62 botocore-1.31.62 colorama-0.4.4 docutils-0.16 fsspec-2023.5.0 grpcio-1.51.3 jinja2-3.1.2 pendulum-2.1.2 pulp-2.7.0 python-dotenv-1.0.0 pytzdata-2020.1 rsa-4.7.2 runhouse-0.0.13 s3transfer-0.7.0 sentry-sdk-1.32.0 skypilot-0.4.0 sshfs-2023.7.0 sshtunnel-0.4.0 urllib3-1.26.17\n",
      "\n"
     ]
    },
    {
     "name": "stderr",
     "output_type": "stream",
     "text": [
      "INFO | 2023-10-12 07:56:12.497116 | Setting up port-forward\n",
      "INFO | 2023-10-12 07:56:12.498889 | Running kubectl port-forward this-67-head-bglcr 50052:50052\n"
     ]
    },
    {
     "name": "stdout",
     "output_type": "stream",
     "text": [
      "Command Output on this-67:\n",
      "Executing `pkill -f \"/home/ray/anaconda3/bin/python -m \n",
      "runhouse.servers.http.http_server\"`\n",
      "Executing `pkill -f \".*ray.*6379.*\"`\n",
      "Executing `ray start --head --port 6379`\n",
      "2023-10-12 00:56:07,178\tINFO usage_lib.py:407 -- Usage stats collection is enabled by default without user confirmation because this terminal is detected to be non-interactive. To disable this, add `--disable-usage-stats` to the command that starts the cluster, or run the following command: `ray disable-usage-stats` before starting the cluster. See https://docs.ray.io/en/master/cluster/usage-stats.html for more details.\n",
      "2023-10-12 00:56:07,179\tINFO scripts.py:722 -- \u001b[37mLocal node IP\u001b[39m: \u001b[1m10.123.3.206\u001b[22m\n",
      "2023-10-12 00:56:10,328\tSUCC scripts.py:759 -- \u001b[32m--------------------\u001b[39m\n",
      "2023-10-12 00:56:10,328\tSUCC scripts.py:760 -- \u001b[32mRay runtime started.\u001b[39m\n",
      "2023-10-12 00:56:10,328\tSUCC scripts.py:761 -- \u001b[32m--------------------\u001b[39m\n",
      "2023-10-12 00:56:10,328\tINFO scripts.py:763 -- \u001b[36mNext steps\u001b[39m\n",
      "2023-10-12 00:56:10,328\tINFO scripts.py:766 -- To add another node to this Ray cluster, run\n",
      "2023-10-12 00:56:10,328\tINFO scripts.py:769 -- \u001b[1m  ray start --address='10.123.3.206:6379'\u001b[22m\n",
      "2023-10-12 00:56:10,328\tINFO scripts.py:778 -- To connect to this Ray cluster:\n",
      "2023-10-12 00:56:10,328\tINFO scripts.py:780 -- \u001b[35mimport\u001b[39m\u001b[26m ray\n",
      "2023-10-12 00:56:10,328\tINFO scripts.py:781 -- ray\u001b[35m.\u001b[39m\u001b[26minit()\n",
      "2023-10-12 00:56:10,328\tINFO scripts.py:793 -- To submit a Ray job using the Ray Jobs CLI:\n",
      "2023-10-12 00:56:10,328\tINFO scripts.py:794 -- \u001b[1m  RAY_ADDRESS='http://127.0.0.1:8265' ray job submit --working-dir . -- python my_script.py\u001b[22m\n",
      "2023-10-12 00:56:10,328\tINFO scripts.py:803 -- See https://docs.ray.io/en/latest/cluster/running-applications/job-submission/index.html \n",
      "2023-10-12 00:56:10,328\tINFO scripts.py:807 -- for more information on submitting Ray jobs to the Ray cluster.\n",
      "2023-10-12 00:56:10,329\tINFO scripts.py:812 -- To terminate the Ray runtime, run\n",
      "2023-10-12 00:56:10,329\tINFO scripts.py:813 -- \u001b[1m  ray stop\u001b[22m\n",
      "2023-10-12 00:56:10,329\tINFO scripts.py:816 -- To view the status of the cluster, use\n",
      "2023-10-12 00:56:10,329\tINFO scripts.py:817 --   \u001b[1mray status\u001b[22m\u001b[26m\n",
      "2023-10-12 00:56:10,329\tINFO scripts.py:821 -- To monitor and debug Ray, view the dashboard at \n",
      "2023-10-12 00:56:10,329\tINFO scripts.py:822 --   \u001b[1m127.0.0.1:8265\u001b[22m\u001b[26m\n",
      "2023-10-12 00:56:10,329\tINFO scripts.py:829 -- \u001b[4mIf connection to the dashboard fails, check your firewall settings and network configuration.\u001b[24m\n",
      "Executing `screen -dm bash -c \"/home/ray/anaconda3/bin/python -m \n",
      "runhouse.servers.http.http_server |& tee -a '/home/ray/.rh/server.log' 2>&1\"`\n",
      "\n"
     ]
    },
    {
     "data": {
      "text/plain": [
       "<runhouse.resources.hardware.kubernetes_cluster.KubernetesCluster at 0x129609c40>"
      ]
     },
     "execution_count": 3,
     "metadata": {},
     "output_type": "execute_result"
    },
    {
     "name": "stdout",
     "output_type": "stream",
     "text": [
      "Forwarding from 127.0.0.1:50052 -> 50052\n",
      "Forwarding from [::1]:50052 -> 50052\n"
     ]
    }
   ],
   "source": [
    "cluster.up()"
   ]
  },
  {
   "cell_type": "code",
   "execution_count": 3,
   "metadata": {},
   "outputs": [
    {
     "name": "stdout",
     "output_type": "stream",
     "text": [
      "./my-config\n"
     ]
    }
   ],
   "source": [
    "print(cluster.kube_config_path)"
   ]
  },
  {
   "cell_type": "code",
   "execution_count": 7,
   "metadata": {},
   "outputs": [
    {
     "name": "stdout",
     "output_type": "stream",
     "text": [
      "4\n"
     ]
    }
   ],
   "source": [
    "print(cluster.memory)"
   ]
  },
  {
   "cell_type": "code",
   "execution_count": 4,
   "metadata": {},
   "outputs": [],
   "source": [
    "def num_cpus():\n",
    "    import multiprocessing\n",
    "    return f\"Num cpus: {multiprocessing.cpu_count()}\""
   ]
  },
  {
   "cell_type": "code",
   "execution_count": 7,
   "metadata": {},
   "outputs": [
    {
     "name": "stderr",
     "output_type": "stream",
     "text": [
      "INFO | 2023-10-11 20:44:26.968875 | TELL ME: {'env_name': 'base_env',\n",
      " 'env_vars': {},\n",
      " 'name': '~/base_env',\n",
      " 'provenance': None,\n",
      " 'reqs': [],\n",
      " 'resource_subtype': 'Env',\n",
      " 'resource_type': 'env',\n",
      " 'setup_cmds': None,\n",
      " 'working_dir': './'}\n"
     ]
    },
    {
     "name": "stdout",
     "output_type": "stream",
     "text": [
      "> \u001b[0;32m/Users/rohansreerama/Desktop/flare_tests/runhouse/runhouse/resources/hardware/cluster.py\u001b[0m(274)\u001b[0;36mput_resource\u001b[0;34m()\u001b[0m\n",
      "\u001b[0;32m    272 \u001b[0;31m        \u001b[0;32mimport\u001b[0m \u001b[0mpdb\u001b[0m\u001b[0;34m\u001b[0m\u001b[0;34m\u001b[0m\u001b[0m\n",
      "\u001b[0m\u001b[0;32m    273 \u001b[0;31m        \u001b[0mpdb\u001b[0m\u001b[0;34m.\u001b[0m\u001b[0mset_trace\u001b[0m\u001b[0;34m(\u001b[0m\u001b[0;34m)\u001b[0m\u001b[0;34m\u001b[0m\u001b[0;34m\u001b[0m\u001b[0m\n",
      "\u001b[0m\u001b[0;32m--> 274 \u001b[0;31m        return self.client.put_resource(\n",
      "\u001b[0m\u001b[0;32m    275 \u001b[0;31m            \u001b[0mresource\u001b[0m\u001b[0;34m,\u001b[0m \u001b[0mstate\u001b[0m\u001b[0;34m=\u001b[0m\u001b[0mstate\u001b[0m \u001b[0;32mor\u001b[0m \u001b[0;34m{\u001b[0m\u001b[0;34m}\u001b[0m\u001b[0;34m,\u001b[0m \u001b[0menv\u001b[0m\u001b[0;34m=\u001b[0m\u001b[0menv\u001b[0m\u001b[0;34m,\u001b[0m \u001b[0mdryrun\u001b[0m\u001b[0;34m=\u001b[0m\u001b[0mdryrun\u001b[0m\u001b[0;34m\u001b[0m\u001b[0;34m\u001b[0m\u001b[0m\n",
      "\u001b[0m\u001b[0;32m    276 \u001b[0;31m        )\n",
      "\u001b[0m\n",
      "> \u001b[0;32m/Users/rohansreerama/Desktop/flare_tests/runhouse/runhouse/servers/http/http_client.py\u001b[0m(201)\u001b[0;36mput_resource\u001b[0;34m()\u001b[0m\n",
      "\u001b[0;32m    199 \u001b[0;31m        \u001b[0;32mimport\u001b[0m \u001b[0mpdb\u001b[0m\u001b[0;34m\u001b[0m\u001b[0;34m\u001b[0m\u001b[0m\n",
      "\u001b[0m\u001b[0;32m    200 \u001b[0;31m        \u001b[0mpdb\u001b[0m\u001b[0;34m.\u001b[0m\u001b[0mset_trace\u001b[0m\u001b[0;34m(\u001b[0m\u001b[0;34m)\u001b[0m\u001b[0;34m\u001b[0m\u001b[0;34m\u001b[0m\u001b[0m\n",
      "\u001b[0m\u001b[0;32m--> 201 \u001b[0;31m        return self.request(\n",
      "\u001b[0m\u001b[0;32m    202 \u001b[0;31m            \u001b[0;34m\"resource\"\u001b[0m\u001b[0;34m,\u001b[0m\u001b[0;34m\u001b[0m\u001b[0;34m\u001b[0m\u001b[0m\n",
      "\u001b[0m\u001b[0;32m    203 \u001b[0;31m            \u001b[0mreq_type\u001b[0m\u001b[0;34m=\u001b[0m\u001b[0;34m\"post\"\u001b[0m\u001b[0;34m,\u001b[0m\u001b[0;34m\u001b[0m\u001b[0;34m\u001b[0m\u001b[0m\n",
      "\u001b[0m\n",
      "> \u001b[0;32m/Users/rohansreerama/Desktop/flare_tests/runhouse/runhouse/servers/http/http_client.py\u001b[0m(55)\u001b[0;36mrequest\u001b[0;34m()\u001b[0m\n",
      "\u001b[0;32m     53 \u001b[0;31m        \u001b[0;32mimport\u001b[0m \u001b[0mpdb\u001b[0m\u001b[0;34m\u001b[0m\u001b[0;34m\u001b[0m\u001b[0m\n",
      "\u001b[0m\u001b[0;32m     54 \u001b[0;31m        \u001b[0mpdb\u001b[0m\u001b[0;34m.\u001b[0m\u001b[0mset_trace\u001b[0m\u001b[0;34m(\u001b[0m\u001b[0;34m)\u001b[0m\u001b[0;34m\u001b[0m\u001b[0;34m\u001b[0m\u001b[0m\n",
      "\u001b[0m\u001b[0;32m---> 55 \u001b[0;31m        response = req_fn(\n",
      "\u001b[0m\u001b[0;32m     56 \u001b[0;31m            \u001b[0;34mf\"http://{self.host}:{self.port}/{endpoint}\"\u001b[0m\u001b[0;34m,\u001b[0m\u001b[0;34m\u001b[0m\u001b[0;34m\u001b[0m\u001b[0m\n",
      "\u001b[0m\u001b[0;32m     57 \u001b[0;31m            json={\n",
      "\u001b[0m\n"
     ]
    },
    {
     "data": {
      "text/plain": [
       "'base_env'"
      ]
     },
     "execution_count": 7,
     "metadata": {},
     "output_type": "execute_result"
    }
   ],
   "source": [
    "env = rh.env()\n",
    "cluster.put_resource(env)"
   ]
  },
  {
   "cell_type": "code",
   "execution_count": 13,
   "metadata": {},
   "outputs": [
    {
     "name": "stderr",
     "output_type": "stream",
     "text": [
      "INFO | 2023-10-10 20:50:50.065985 | This is cluster config: dict_keys(['name', 'resource_type', 'resource_subtype', 'provenance', 'ips', 'ssh_creds', 'num_workers', 'provider', 'memory', 'num_gpus', 'head_cpus', 'upped_cluster'])\n",
      "INFO | 2023-10-10 20:50:50.067163 | Checking server this-29\n",
      "INFO | 2023-10-10 20:50:51.452422 | Server this-29 is up.\n",
      "INFO | 2023-10-10 20:50:51.453723 | TELL ME: {'head_cpus': 1,\n",
      " 'ips': ['default'],\n",
      " 'memory': 2,\n",
      " 'name': 'this-29',\n",
      " 'num_gpus': 0,\n",
      " 'num_workers': 0,\n",
      " 'provenance': None,\n",
      " 'provider': 'kubernetes',\n",
      " 'resource_subtype': 'KubernetesCluster',\n",
      " 'resource_type': 'cluster',\n",
      " 'ssh_creds': {},\n",
      " 'upped_cluster': True}\n"
     ]
    },
    {
     "data": {
      "text/plain": [
       "'this-29'"
      ]
     },
     "execution_count": 13,
     "metadata": {},
     "output_type": "execute_result"
    }
   ],
   "source": [
    "cluster.put_resource(cluster)"
   ]
  },
  {
   "cell_type": "code",
   "execution_count": 8,
   "metadata": {},
   "outputs": [
    {
     "name": "stdout",
     "output_type": "stream",
     "text": [
      "{'name': '~/base_env', 'resource_type': 'env', 'resource_subtype': 'Env', 'provenance': None, 'reqs': [], 'setup_cmds': None, 'env_vars': {}, 'working_dir': './', 'env_name': 'base_env'}\n"
     ]
    }
   ],
   "source": [
    "print(env.config_for_rns)\n",
    "# cluster.restart_server(resync_rh=True)\n"
   ]
  },
  {
   "cell_type": "code",
   "execution_count": 5,
   "metadata": {},
   "outputs": [
    {
     "name": "stderr",
     "output_type": "stream",
     "text": [
      "INFO | 2023-10-12 07:56:24.377682 | Writing out function to /Users/rohansreerama/Desktop/flare_tests/runhouse/num_cpus_fn.py. Please make sure the function does not rely on any local variables, including imports (which should be moved inside the function body).\n",
      "/Users/rohansreerama/Desktop/flare_tests/runhouse/runhouse/resources/function.py:106: UserWarning: ``reqs`` and ``setup_cmds`` arguments has been deprecated. Please use ``env`` instead.\n",
      "  warnings.warn(\n",
      "INFO | 2023-10-12 07:56:24.381022 | Setting up Function on cluster.\n",
      "INFO | 2023-10-12 07:56:24.381531 | This is cluster config: dict_keys(['name', 'resource_type', 'resource_subtype', 'provenance', 'ips', 'ssh_creds', 'num_workers', 'provider', 'cpus', 'memory', 'num_gpus', 'head_cpus', 'head_memory', 'namespace', 'pod_name', 'kube_config_path'])\n",
      "INFO | 2023-10-12 07:56:24.381819 | Checking server this-67\n"
     ]
    },
    {
     "name": "stdout",
     "output_type": "stream",
     "text": [
      "> \u001b[0;32m/Users/rohansreerama/Desktop/flare_tests/runhouse/runhouse/servers/http/http_client.py\u001b[0m(55)\u001b[0;36mrequest\u001b[0;34m()\u001b[0m\n",
      "\u001b[0;32m     53 \u001b[0;31m        \u001b[0;32mimport\u001b[0m \u001b[0mpdb\u001b[0m\u001b[0;34m\u001b[0m\u001b[0;34m\u001b[0m\u001b[0m\n",
      "\u001b[0m\u001b[0;32m     54 \u001b[0;31m        \u001b[0mpdb\u001b[0m\u001b[0;34m.\u001b[0m\u001b[0mset_trace\u001b[0m\u001b[0;34m(\u001b[0m\u001b[0;34m)\u001b[0m\u001b[0;34m\u001b[0m\u001b[0;34m\u001b[0m\u001b[0m\n",
      "\u001b[0m\u001b[0;32m---> 55 \u001b[0;31m        response = req_fn(\n",
      "\u001b[0m\u001b[0;32m     56 \u001b[0;31m            \u001b[0;34mf\"http://{self.host}:{self.port}/{endpoint}\"\u001b[0m\u001b[0;34m,\u001b[0m\u001b[0;34m\u001b[0m\u001b[0;34m\u001b[0m\u001b[0m\n",
      "\u001b[0m\u001b[0;32m     57 \u001b[0;31m            json={\n",
      "\u001b[0m\n",
      "Handling connection for 50052\n"
     ]
    },
    {
     "name": "stderr",
     "output_type": "stream",
     "text": [
      "INFO | 2023-10-12 07:56:27.461918 | Server this-67 is up.\n",
      "INFO | 2023-10-12 07:56:27.464188 | Copying package from file:///Users/rohansreerama/Desktop/flare_tests/runhouse to: this-67\n",
      "INFO | 2023-10-12 07:56:27.465934 | TELL ME: {'env_name': 'base_env',\n",
      " 'env_vars': {},\n",
      " 'name': '~/base_env',\n",
      " 'provenance': None,\n",
      " 'reqs': [{'install_args': '',\n",
      "           'install_method': 'reqs',\n",
      "           'install_target': {'data_config': {'client_keys': [],\n",
      "                                              'connect_timeout': '3s',\n",
      "                                              'host': '10.123.3.206',\n",
      "                                              'password': None,\n",
      "                                              'proxy_command': None,\n",
      "                                              'username': None},\n",
      "                              'name': None,\n",
      "                              'path': 'runhouse',\n",
      "                              'provenance': None,\n",
      "                              'resource_subtype': 'Folder',\n",
      "                              'resource_type': 'folder',\n",
      "                              'system': '~/this-67'},\n",
      "           'name': None,\n",
      "           'provenance': None,\n",
      "           'resource_subtype': 'Package',\n",
      "           'resource_type': 'package'}],\n",
      " 'resource_subtype': 'Env',\n",
      " 'resource_type': 'env',\n",
      " 'setup_cmds': [],\n",
      " 'working_dir': None}\n"
     ]
    },
    {
     "name": "stdout",
     "output_type": "stream",
     "text": [
      "> \u001b[0;32m/Users/rohansreerama/Desktop/flare_tests/runhouse/runhouse/resources/hardware/cluster.py\u001b[0m(274)\u001b[0;36mput_resource\u001b[0;34m()\u001b[0m\n",
      "\u001b[0;32m    272 \u001b[0;31m        \u001b[0;32mimport\u001b[0m \u001b[0mpdb\u001b[0m\u001b[0;34m\u001b[0m\u001b[0;34m\u001b[0m\u001b[0m\n",
      "\u001b[0m\u001b[0;32m    273 \u001b[0;31m        \u001b[0mpdb\u001b[0m\u001b[0;34m.\u001b[0m\u001b[0mset_trace\u001b[0m\u001b[0;34m(\u001b[0m\u001b[0;34m)\u001b[0m\u001b[0;34m\u001b[0m\u001b[0;34m\u001b[0m\u001b[0m\n",
      "\u001b[0m\u001b[0;32m--> 274 \u001b[0;31m        return self.client.put_resource(\n",
      "\u001b[0m\u001b[0;32m    275 \u001b[0;31m            \u001b[0mresource\u001b[0m\u001b[0;34m,\u001b[0m \u001b[0mstate\u001b[0m\u001b[0;34m=\u001b[0m\u001b[0mstate\u001b[0m \u001b[0;32mor\u001b[0m \u001b[0;34m{\u001b[0m\u001b[0;34m}\u001b[0m\u001b[0;34m,\u001b[0m \u001b[0menv\u001b[0m\u001b[0;34m=\u001b[0m\u001b[0menv\u001b[0m\u001b[0;34m,\u001b[0m \u001b[0mdryrun\u001b[0m\u001b[0;34m=\u001b[0m\u001b[0mdryrun\u001b[0m\u001b[0;34m\u001b[0m\u001b[0;34m\u001b[0m\u001b[0m\n",
      "\u001b[0m\u001b[0;32m    276 \u001b[0;31m        )\n",
      "\u001b[0m\n",
      "> \u001b[0;32m/Users/rohansreerama/Desktop/flare_tests/runhouse/runhouse/servers/http/http_client.py\u001b[0m(201)\u001b[0;36mput_resource\u001b[0;34m()\u001b[0m\n",
      "\u001b[0;32m    199 \u001b[0;31m        \u001b[0;32mimport\u001b[0m \u001b[0mpdb\u001b[0m\u001b[0;34m\u001b[0m\u001b[0;34m\u001b[0m\u001b[0m\n",
      "\u001b[0m\u001b[0;32m    200 \u001b[0;31m        \u001b[0mpdb\u001b[0m\u001b[0;34m.\u001b[0m\u001b[0mset_trace\u001b[0m\u001b[0;34m(\u001b[0m\u001b[0;34m)\u001b[0m\u001b[0;34m\u001b[0m\u001b[0;34m\u001b[0m\u001b[0m\n",
      "\u001b[0m\u001b[0;32m--> 201 \u001b[0;31m        return self.request(\n",
      "\u001b[0m\u001b[0;32m    202 \u001b[0;31m            \u001b[0;34m\"resource\"\u001b[0m\u001b[0;34m,\u001b[0m\u001b[0;34m\u001b[0m\u001b[0;34m\u001b[0m\u001b[0m\n",
      "\u001b[0m\u001b[0;32m    203 \u001b[0;31m            \u001b[0mreq_type\u001b[0m\u001b[0;34m=\u001b[0m\u001b[0;34m\"post\"\u001b[0m\u001b[0;34m,\u001b[0m\u001b[0;34m\u001b[0m\u001b[0;34m\u001b[0m\u001b[0m\n",
      "\u001b[0m\n",
      "> \u001b[0;32m/Users/rohansreerama/Desktop/flare_tests/runhouse/runhouse/servers/http/http_client.py\u001b[0m(55)\u001b[0;36mrequest\u001b[0;34m()\u001b[0m\n",
      "\u001b[0;32m     53 \u001b[0;31m        \u001b[0;32mimport\u001b[0m \u001b[0mpdb\u001b[0m\u001b[0;34m\u001b[0m\u001b[0;34m\u001b[0m\u001b[0m\n",
      "\u001b[0m\u001b[0;32m     54 \u001b[0;31m        \u001b[0mpdb\u001b[0m\u001b[0;34m.\u001b[0m\u001b[0mset_trace\u001b[0m\u001b[0;34m(\u001b[0m\u001b[0;34m)\u001b[0m\u001b[0;34m\u001b[0m\u001b[0;34m\u001b[0m\u001b[0m\n",
      "\u001b[0m\u001b[0;32m---> 55 \u001b[0;31m        response = req_fn(\n",
      "\u001b[0m\u001b[0;32m     56 \u001b[0;31m            \u001b[0;34mf\"http://{self.host}:{self.port}/{endpoint}\"\u001b[0m\u001b[0;34m,\u001b[0m\u001b[0;34m\u001b[0m\u001b[0;34m\u001b[0m\u001b[0m\n",
      "\u001b[0m\u001b[0;32m     57 \u001b[0;31m            json={\n",
      "\u001b[0m\n",
      "Handling connection for 50052\n"
     ]
    },
    {
     "name": "stderr",
     "output_type": "stream",
     "text": [
      "INFO | 2023-10-12 07:56:30.881883 | Calling base_env.install\n"
     ]
    },
    {
     "name": "stdout",
     "output_type": "stream",
     "text": [
      "Handling connection for 50052\n",
      "base_env servlet: Calling method install on module base_env\n",
      "Installing package: Package: runhouse\n",
      "Installing Package: runhouse with method reqs.\n",
      "reqs path: runhouse/requirements.txt\n",
      "pip installing requirements from runhouse/requirements.txt with: -r runhouse/requirements.txt\n",
      "Running: /home/ray/anaconda3/bin/python -m pip install -r runhouse/requirements.txt\n"
     ]
    },
    {
     "name": "stderr",
     "output_type": "stream",
     "text": [
      "INFO | 2023-10-12 07:56:34.560984 | Time to call base_env.install: 3.68 seconds\n",
      "INFO | 2023-10-12 07:56:34.561988 | TELL ME: {'env': '~/base_env',\n",
      " 'fn_pointers': ('runhouse', 'num_cpus_fn', 'num_cpus'),\n",
      " 'name': '~/num_cpus_cluster',\n",
      " 'provenance': None,\n",
      " 'resource_subtype': 'Function',\n",
      " 'resource_type': 'function',\n",
      " 'resources': {},\n",
      " 'system': '~/this-67'}\n"
     ]
    },
    {
     "name": "stdout",
     "output_type": "stream",
     "text": [
      "> \u001b[0;32m/Users/rohansreerama/Desktop/flare_tests/runhouse/runhouse/resources/hardware/cluster.py\u001b[0m(274)\u001b[0;36mput_resource\u001b[0;34m()\u001b[0m\n",
      "\u001b[0;32m    272 \u001b[0;31m        \u001b[0;32mimport\u001b[0m \u001b[0mpdb\u001b[0m\u001b[0;34m\u001b[0m\u001b[0;34m\u001b[0m\u001b[0m\n",
      "\u001b[0m\u001b[0;32m    273 \u001b[0;31m        \u001b[0mpdb\u001b[0m\u001b[0;34m.\u001b[0m\u001b[0mset_trace\u001b[0m\u001b[0;34m(\u001b[0m\u001b[0;34m)\u001b[0m\u001b[0;34m\u001b[0m\u001b[0;34m\u001b[0m\u001b[0m\n",
      "\u001b[0m\u001b[0;32m--> 274 \u001b[0;31m        return self.client.put_resource(\n",
      "\u001b[0m\u001b[0;32m    275 \u001b[0;31m            \u001b[0mresource\u001b[0m\u001b[0;34m,\u001b[0m \u001b[0mstate\u001b[0m\u001b[0;34m=\u001b[0m\u001b[0mstate\u001b[0m \u001b[0;32mor\u001b[0m \u001b[0;34m{\u001b[0m\u001b[0;34m}\u001b[0m\u001b[0;34m,\u001b[0m \u001b[0menv\u001b[0m\u001b[0;34m=\u001b[0m\u001b[0menv\u001b[0m\u001b[0;34m,\u001b[0m \u001b[0mdryrun\u001b[0m\u001b[0;34m=\u001b[0m\u001b[0mdryrun\u001b[0m\u001b[0;34m\u001b[0m\u001b[0;34m\u001b[0m\u001b[0m\n",
      "\u001b[0m\u001b[0;32m    276 \u001b[0;31m        )\n",
      "\u001b[0m\n",
      "> \u001b[0;32m/Users/rohansreerama/Desktop/flare_tests/runhouse/runhouse/servers/http/http_client.py\u001b[0m(201)\u001b[0;36mput_resource\u001b[0;34m()\u001b[0m\n",
      "\u001b[0;32m    199 \u001b[0;31m        \u001b[0;32mimport\u001b[0m \u001b[0mpdb\u001b[0m\u001b[0;34m\u001b[0m\u001b[0;34m\u001b[0m\u001b[0m\n",
      "\u001b[0m\u001b[0;32m    200 \u001b[0;31m        \u001b[0mpdb\u001b[0m\u001b[0;34m.\u001b[0m\u001b[0mset_trace\u001b[0m\u001b[0;34m(\u001b[0m\u001b[0;34m)\u001b[0m\u001b[0;34m\u001b[0m\u001b[0;34m\u001b[0m\u001b[0m\n",
      "\u001b[0m\u001b[0;32m--> 201 \u001b[0;31m        return self.request(\n",
      "\u001b[0m\u001b[0;32m    202 \u001b[0;31m            \u001b[0;34m\"resource\"\u001b[0m\u001b[0;34m,\u001b[0m\u001b[0;34m\u001b[0m\u001b[0;34m\u001b[0m\u001b[0m\n",
      "\u001b[0m\u001b[0;32m    203 \u001b[0;31m            \u001b[0mreq_type\u001b[0m\u001b[0;34m=\u001b[0m\u001b[0;34m\"post\"\u001b[0m\u001b[0;34m,\u001b[0m\u001b[0;34m\u001b[0m\u001b[0;34m\u001b[0m\u001b[0m\n",
      "\u001b[0m\n",
      "> \u001b[0;32m/Users/rohansreerama/Desktop/flare_tests/runhouse/runhouse/servers/http/http_client.py\u001b[0m(55)\u001b[0;36mrequest\u001b[0;34m()\u001b[0m\n",
      "\u001b[0;32m     53 \u001b[0;31m        \u001b[0;32mimport\u001b[0m \u001b[0mpdb\u001b[0m\u001b[0;34m\u001b[0m\u001b[0;34m\u001b[0m\u001b[0m\n",
      "\u001b[0m\u001b[0;32m     54 \u001b[0;31m        \u001b[0mpdb\u001b[0m\u001b[0;34m.\u001b[0m\u001b[0mset_trace\u001b[0m\u001b[0;34m(\u001b[0m\u001b[0;34m)\u001b[0m\u001b[0;34m\u001b[0m\u001b[0;34m\u001b[0m\u001b[0m\n",
      "\u001b[0m\u001b[0;32m---> 55 \u001b[0;31m        response = req_fn(\n",
      "\u001b[0m\u001b[0;32m     56 \u001b[0;31m            \u001b[0;34mf\"http://{self.host}:{self.port}/{endpoint}\"\u001b[0m\u001b[0;34m,\u001b[0m\u001b[0;34m\u001b[0m\u001b[0;34m\u001b[0m\u001b[0m\n",
      "\u001b[0m\u001b[0;32m     57 \u001b[0;31m            json={\n",
      "\u001b[0m\n",
      "Handling connection for 50052\n"
     ]
    },
    {
     "name": "stderr",
     "output_type": "stream",
     "text": [
      "INFO | 2023-10-12 07:56:43.322120 | Function setup complete.\n"
     ]
    }
   ],
   "source": [
    "num_cpus_cluster = rh.function(name=\"num_cpus_cluster\", fn=num_cpus).to(system=cluster, reqs=[\"./\"])"
   ]
  },
  {
   "cell_type": "code",
   "execution_count": 6,
   "metadata": {},
   "outputs": [
    {
     "name": "stderr",
     "output_type": "stream",
     "text": [
      "INFO | 2023-10-12 07:56:46.097578 | Calling num_cpus_cluster.call\n"
     ]
    },
    {
     "name": "stdout",
     "output_type": "stream",
     "text": [
      "Handling connection for 50052\n",
      "base_env servlet: Calling method call on module num_cpus_cluster\n"
     ]
    },
    {
     "name": "stderr",
     "output_type": "stream",
     "text": [
      "INFO | 2023-10-12 07:56:46.611984 | Time to call num_cpus_cluster.call: 0.51 seconds\n"
     ]
    },
    {
     "data": {
      "text/plain": [
       "'Num cpus: 4'"
      ]
     },
     "execution_count": 6,
     "metadata": {},
     "output_type": "execute_result"
    }
   ],
   "source": [
    "num_cpus_cluster()"
   ]
  },
  {
   "cell_type": "code",
   "execution_count": 9,
   "metadata": {},
   "outputs": [],
   "source": [
    "cluster.teardown()"
   ]
  },
  {
   "cell_type": "code",
   "execution_count": 6,
   "metadata": {},
   "outputs": [
    {
     "name": "stdout",
     "output_type": "stream",
     "text": [
      "Num cpus: 12\n"
     ]
    }
   ],
   "source": [
    "import multiprocessing\n",
    "print(f\"Num cpus: {multiprocessing.cpu_count()}\")"
   ]
  },
  {
   "cell_type": "code",
   "execution_count": 10,
   "metadata": {},
   "outputs": [
    {
     "data": {
      "text/html": [
       "<pre style=\"white-space:pre;overflow-x:auto;line-height:normal;font-family:Menlo,'DejaVu Sans Mono',consolas,'Courier New',monospace\">╭─────────────────────────────────────────────────────────────────────────────────────────────────────────────────╮\n",
       "│ <span style=\"color: #800000; text-decoration-color: #800000\">No resources found, have you run cluster.up() yet?</span>                                                              │\n",
       "╰─────────────────────────────────────────────────────────────────────────────────────────────────────────────────╯\n",
       "</pre>\n"
      ],
      "text/plain": [
       "╭─────────────────────────────────────────────────────────────────────────────────────────────────────────────────╮\n",
       "│ \u001b[31mNo resources found, have you run cluster.up() yet?\u001b[0m                                                              │\n",
       "╰─────────────────────────────────────────────────────────────────────────────────────────────────────────────────╯\n"
      ]
     },
     "metadata": {},
     "output_type": "display_data"
    },
    {
     "name": "stdout",
     "output_type": "stream",
     "text": [
      "False\n"
     ]
    }
   ],
   "source": [
    "print(cluster.is_up())"
   ]
  },
  {
   "cell_type": "code",
   "execution_count": 8,
   "metadata": {},
   "outputs": [
    {
     "name": "stdout",
     "output_type": "stream",
     "text": [
      "False\n"
     ]
    }
   ],
   "source": [
    "print(cluster.on_this_cluster())"
   ]
  },
  {
   "cell_type": "code",
   "execution_count": 7,
   "metadata": {},
   "outputs": [
    {
     "name": "stderr",
     "output_type": "stream",
     "text": [
      "Defaulted container \"ray-head\" out of: ray-head, create-cert (init)\n",
      "Unable to use a TTY - input is not a terminal or the right kind of file\n"
     ]
    },
    {
     "ename": "KeyboardInterrupt",
     "evalue": "",
     "output_type": "error",
     "traceback": [
      "\u001b[0;31m---------------------------------------------------------------------------\u001b[0m",
      "\u001b[0;31mKeyboardInterrupt\u001b[0m                         Traceback (most recent call last)",
      "Cell \u001b[0;32mIn[7], line 1\u001b[0m\n\u001b[0;32m----> 1\u001b[0m cluster\u001b[39m.\u001b[39;49mshell()\n",
      "File \u001b[0;32m~/Desktop/flare_tests/runhouse/runhouse/resources/hardware/kubernetes_cluster.py:457\u001b[0m, in \u001b[0;36mKubernetesCluster.shell\u001b[0;34m(self)\u001b[0m\n\u001b[1;32m    455\u001b[0m cmd \u001b[39m=\u001b[39m \u001b[39mf\u001b[39m\u001b[39m\"\u001b[39m\u001b[39mkubectl exec -it \u001b[39m\u001b[39m{\u001b[39;00m\u001b[39mself\u001b[39m\u001b[39m.\u001b[39mpod_name\u001b[39m}\u001b[39;00m\u001b[39m -- /bin/bash\u001b[39m\u001b[39m\"\u001b[39m\n\u001b[1;32m    456\u001b[0m \u001b[39mtry\u001b[39;00m:\n\u001b[0;32m--> 457\u001b[0m     process \u001b[39m=\u001b[39m subprocess\u001b[39m.\u001b[39;49mrun(cmd, shell\u001b[39m=\u001b[39;49m\u001b[39mTrue\u001b[39;49;00m, check\u001b[39m=\u001b[39;49m\u001b[39mTrue\u001b[39;49;00m, text\u001b[39m=\u001b[39;49m\u001b[39mTrue\u001b[39;49;00m)\n\u001b[1;32m    458\u001b[0m \u001b[39mexcept\u001b[39;00m subprocess\u001b[39m.\u001b[39mCalledProcessError \u001b[39mas\u001b[39;00m e:\n\u001b[1;32m    459\u001b[0m     \u001b[39mprint\u001b[39m(\u001b[39mf\u001b[39m\u001b[39m\"\u001b[39m\u001b[39mError: \u001b[39m\u001b[39m{\u001b[39;00me\u001b[39m}\u001b[39;00m\u001b[39m\"\u001b[39m)\n",
      "File \u001b[0;32m~/anaconda3/envs/cf_test_2/lib/python3.8/subprocess.py:495\u001b[0m, in \u001b[0;36mrun\u001b[0;34m(input, capture_output, timeout, check, *popenargs, **kwargs)\u001b[0m\n\u001b[1;32m    493\u001b[0m \u001b[39mwith\u001b[39;00m Popen(\u001b[39m*\u001b[39mpopenargs, \u001b[39m*\u001b[39m\u001b[39m*\u001b[39mkwargs) \u001b[39mas\u001b[39;00m process:\n\u001b[1;32m    494\u001b[0m     \u001b[39mtry\u001b[39;00m:\n\u001b[0;32m--> 495\u001b[0m         stdout, stderr \u001b[39m=\u001b[39m process\u001b[39m.\u001b[39;49mcommunicate(\u001b[39minput\u001b[39;49m, timeout\u001b[39m=\u001b[39;49mtimeout)\n\u001b[1;32m    496\u001b[0m     \u001b[39mexcept\u001b[39;00m TimeoutExpired \u001b[39mas\u001b[39;00m exc:\n\u001b[1;32m    497\u001b[0m         process\u001b[39m.\u001b[39mkill()\n",
      "File \u001b[0;32m~/anaconda3/envs/cf_test_2/lib/python3.8/site-packages/sentry_sdk/integrations/stdlib.py:250\u001b[0m, in \u001b[0;36m_install_subprocess.<locals>.sentry_patched_popen_communicate\u001b[0;34m(self, *a, **kw)\u001b[0m\n\u001b[1;32m    248\u001b[0m \u001b[39mwith\u001b[39;00m hub\u001b[39m.\u001b[39mstart_span(op\u001b[39m=\u001b[39mOP\u001b[39m.\u001b[39mSUBPROCESS_COMMUNICATE) \u001b[39mas\u001b[39;00m span:\n\u001b[1;32m    249\u001b[0m     span\u001b[39m.\u001b[39mset_tag(\u001b[39m\"\u001b[39m\u001b[39msubprocess.pid\u001b[39m\u001b[39m\"\u001b[39m, \u001b[39mself\u001b[39m\u001b[39m.\u001b[39mpid)\n\u001b[0;32m--> 250\u001b[0m     \u001b[39mreturn\u001b[39;00m old_popen_communicate(\u001b[39mself\u001b[39;49m, \u001b[39m*\u001b[39;49ma, \u001b[39m*\u001b[39;49m\u001b[39m*\u001b[39;49mkw)\n",
      "File \u001b[0;32m~/anaconda3/envs/cf_test_2/lib/python3.8/subprocess.py:1020\u001b[0m, in \u001b[0;36mPopen.communicate\u001b[0;34m(self, input, timeout)\u001b[0m\n\u001b[1;32m   1018\u001b[0m         stderr \u001b[39m=\u001b[39m \u001b[39mself\u001b[39m\u001b[39m.\u001b[39mstderr\u001b[39m.\u001b[39mread()\n\u001b[1;32m   1019\u001b[0m         \u001b[39mself\u001b[39m\u001b[39m.\u001b[39mstderr\u001b[39m.\u001b[39mclose()\n\u001b[0;32m-> 1020\u001b[0m     \u001b[39mself\u001b[39;49m\u001b[39m.\u001b[39;49mwait()\n\u001b[1;32m   1021\u001b[0m \u001b[39melse\u001b[39;00m:\n\u001b[1;32m   1022\u001b[0m     \u001b[39mif\u001b[39;00m timeout \u001b[39mis\u001b[39;00m \u001b[39mnot\u001b[39;00m \u001b[39mNone\u001b[39;00m:\n",
      "File \u001b[0;32m~/anaconda3/envs/cf_test_2/lib/python3.8/site-packages/sentry_sdk/integrations/stdlib.py:235\u001b[0m, in \u001b[0;36m_install_subprocess.<locals>.sentry_patched_popen_wait\u001b[0;34m(self, *a, **kw)\u001b[0m\n\u001b[1;32m    233\u001b[0m \u001b[39mwith\u001b[39;00m hub\u001b[39m.\u001b[39mstart_span(op\u001b[39m=\u001b[39mOP\u001b[39m.\u001b[39mSUBPROCESS_WAIT) \u001b[39mas\u001b[39;00m span:\n\u001b[1;32m    234\u001b[0m     span\u001b[39m.\u001b[39mset_tag(\u001b[39m\"\u001b[39m\u001b[39msubprocess.pid\u001b[39m\u001b[39m\"\u001b[39m, \u001b[39mself\u001b[39m\u001b[39m.\u001b[39mpid)\n\u001b[0;32m--> 235\u001b[0m     \u001b[39mreturn\u001b[39;00m old_popen_wait(\u001b[39mself\u001b[39;49m, \u001b[39m*\u001b[39;49ma, \u001b[39m*\u001b[39;49m\u001b[39m*\u001b[39;49mkw)\n",
      "File \u001b[0;32m~/anaconda3/envs/cf_test_2/lib/python3.8/subprocess.py:1083\u001b[0m, in \u001b[0;36mPopen.wait\u001b[0;34m(self, timeout)\u001b[0m\n\u001b[1;32m   1081\u001b[0m     endtime \u001b[39m=\u001b[39m _time() \u001b[39m+\u001b[39m timeout\n\u001b[1;32m   1082\u001b[0m \u001b[39mtry\u001b[39;00m:\n\u001b[0;32m-> 1083\u001b[0m     \u001b[39mreturn\u001b[39;00m \u001b[39mself\u001b[39;49m\u001b[39m.\u001b[39;49m_wait(timeout\u001b[39m=\u001b[39;49mtimeout)\n\u001b[1;32m   1084\u001b[0m \u001b[39mexcept\u001b[39;00m \u001b[39mKeyboardInterrupt\u001b[39;00m:\n\u001b[1;32m   1085\u001b[0m     \u001b[39m# https://bugs.python.org/issue25942\u001b[39;00m\n\u001b[1;32m   1086\u001b[0m     \u001b[39m# The first keyboard interrupt waits briefly for the child to\u001b[39;00m\n\u001b[1;32m   1087\u001b[0m     \u001b[39m# exit under the common assumption that it also received the ^C\u001b[39;00m\n\u001b[1;32m   1088\u001b[0m     \u001b[39m# generated SIGINT and will exit rapidly.\u001b[39;00m\n\u001b[1;32m   1089\u001b[0m     \u001b[39mif\u001b[39;00m timeout \u001b[39mis\u001b[39;00m \u001b[39mnot\u001b[39;00m \u001b[39mNone\u001b[39;00m:\n",
      "File \u001b[0;32m~/anaconda3/envs/cf_test_2/lib/python3.8/subprocess.py:1806\u001b[0m, in \u001b[0;36mPopen._wait\u001b[0;34m(self, timeout)\u001b[0m\n\u001b[1;32m   1804\u001b[0m \u001b[39mif\u001b[39;00m \u001b[39mself\u001b[39m\u001b[39m.\u001b[39mreturncode \u001b[39mis\u001b[39;00m \u001b[39mnot\u001b[39;00m \u001b[39mNone\u001b[39;00m:\n\u001b[1;32m   1805\u001b[0m     \u001b[39mbreak\u001b[39;00m  \u001b[39m# Another thread waited.\u001b[39;00m\n\u001b[0;32m-> 1806\u001b[0m (pid, sts) \u001b[39m=\u001b[39m \u001b[39mself\u001b[39;49m\u001b[39m.\u001b[39;49m_try_wait(\u001b[39m0\u001b[39;49m)\n\u001b[1;32m   1807\u001b[0m \u001b[39m# Check the pid and loop as waitpid has been known to\u001b[39;00m\n\u001b[1;32m   1808\u001b[0m \u001b[39m# return 0 even without WNOHANG in odd situations.\u001b[39;00m\n\u001b[1;32m   1809\u001b[0m \u001b[39m# http://bugs.python.org/issue14396.\u001b[39;00m\n\u001b[1;32m   1810\u001b[0m \u001b[39mif\u001b[39;00m pid \u001b[39m==\u001b[39m \u001b[39mself\u001b[39m\u001b[39m.\u001b[39mpid:\n",
      "File \u001b[0;32m~/anaconda3/envs/cf_test_2/lib/python3.8/subprocess.py:1764\u001b[0m, in \u001b[0;36mPopen._try_wait\u001b[0;34m(self, wait_flags)\u001b[0m\n\u001b[1;32m   1762\u001b[0m \u001b[39m\u001b[39m\u001b[39m\"\"\"All callers to this function MUST hold self._waitpid_lock.\"\"\"\u001b[39;00m\n\u001b[1;32m   1763\u001b[0m \u001b[39mtry\u001b[39;00m:\n\u001b[0;32m-> 1764\u001b[0m     (pid, sts) \u001b[39m=\u001b[39m os\u001b[39m.\u001b[39;49mwaitpid(\u001b[39mself\u001b[39;49m\u001b[39m.\u001b[39;49mpid, wait_flags)\n\u001b[1;32m   1765\u001b[0m \u001b[39mexcept\u001b[39;00m \u001b[39mChildProcessError\u001b[39;00m:\n\u001b[1;32m   1766\u001b[0m     \u001b[39m# This happens if SIGCLD is set to be ignored or waiting\u001b[39;00m\n\u001b[1;32m   1767\u001b[0m     \u001b[39m# for child processes has otherwise been disabled for our\u001b[39;00m\n\u001b[1;32m   1768\u001b[0m     \u001b[39m# process.  This child is dead, we can't get the status.\u001b[39;00m\n\u001b[1;32m   1769\u001b[0m     pid \u001b[39m=\u001b[39m \u001b[39mself\u001b[39m\u001b[39m.\u001b[39mpid\n",
      "\u001b[0;31mKeyboardInterrupt\u001b[0m: "
     ]
    }
   ],
   "source": [
    "cluster.shell()"
   ]
  }
 ],
 "metadata": {
  "kernelspec": {
   "display_name": "rh_fin_1",
   "language": "python",
   "name": "python3"
  },
  "language_info": {
   "codemirror_mode": {
    "name": "ipython",
    "version": 3
   },
   "file_extension": ".py",
   "mimetype": "text/x-python",
   "name": "python",
   "nbconvert_exporter": "python",
   "pygments_lexer": "ipython3",
   "version": "3.8.13"
  },
  "orig_nbformat": 4
 },
 "nbformat": 4,
 "nbformat_minor": 2
}
