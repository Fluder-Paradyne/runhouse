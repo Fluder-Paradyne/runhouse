{
 "cells": [
  {
   "cell_type": "code",
   "execution_count": 1,
   "metadata": {},
   "outputs": [
    {
     "name": "stderr",
     "output_type": "stream",
     "text": [
      "2023-09-22 15:52:44,834\tINFO util.py:159 -- Missing packages: ['ipywidgets']. Run `pip install -U ipywidgets`, then restart the notebook server for rich notebook output.\n"
     ]
    }
   ],
   "source": [
    "import runhouse as rh"
   ]
  },
  {
   "cell_type": "code",
   "execution_count": 2,
   "metadata": {},
   "outputs": [],
   "source": [
    "cluster = rh.kubernetes_cluster(\n",
    "              name=\"cpu-cluster-demo\",\n",
    "              instance_type=\"CPU:1\",\n",
    "              provider=\"kubernetes\",      \n",
    "          )"
   ]
  },
  {
   "cell_type": "code",
   "execution_count": 3,
   "metadata": {},
   "outputs": [
    {
     "name": "stdout",
     "output_type": "stream",
     "text": [
      "I 09-22 15:53:11 optimizer.py:682] == Optimizer ==\n",
      "I 09-22 15:53:11 optimizer.py:705] \u001b[1mEstimated cost: \u001b[0m$0.0 / hour\n",
      "I 09-22 15:53:11 optimizer.py:705] \n",
      "I 09-22 15:53:11 optimizer.py:778] \u001b[1mConsidered resources (1 node):\u001b[0m\n",
      "I 09-22 15:53:11 optimizer.py:827] ---------------------------------------------------------------------------------------------\n",
      "I 09-22 15:53:11 optimizer.py:827]  CLOUD        INSTANCE    vCPUs   Mem(GB)   ACCELERATORS   REGION/ZONE   COST ($)   CHOSEN   \n",
      "I 09-22 15:53:11 optimizer.py:827] ---------------------------------------------------------------------------------------------\n",
      "I 09-22 15:53:11 optimizer.py:827]  \u001b[1mKubernetes\u001b[0m   \u001b[1m1CPU--1GB\u001b[0m   \u001b[1m1\u001b[0m       \u001b[1m1\u001b[0m         \u001b[1m-\u001b[0m              \u001b[1mkubernetes\u001b[0m    \u001b[1m0.00\u001b[0m       \u001b[1m\u001b[32m   ✔\u001b[0m\u001b[0m     \n",
      "I 09-22 15:53:11 optimizer.py:827] ---------------------------------------------------------------------------------------------\n",
      "I 09-22 15:53:11 optimizer.py:827] \n",
      "I 09-22 15:53:11 cloud_vm_ray_backend.py:4237] \u001b[36mCreating a new cluster: \"cpu-cluster-demo\" [1x Kubernetes(1CPU--1GB, cpus=1)].\u001b[0m\n",
      "I 09-22 15:53:11 cloud_vm_ray_backend.py:4237] Tip: to reuse an existing cluster, specify --cluster (-c). Run `sky status` to see existing clusters.\n",
      "I 09-22 15:53:12 cloud_vm_ray_backend.py:1427] To view detailed progress: \u001b[1mtail -n100 -f /Users/rohansreerama/sky_logs/sky-2023-09-22-15-53-10-289959/provision.log\u001b[0m\n"
     ]
    },
    {
     "data": {
      "text/html": [
       "<pre style=\"white-space:pre;overflow-x:auto;line-height:normal;font-family:Menlo,'DejaVu Sans Mono',consolas,'Courier New',monospace\">/Users/rohansreerama/anaconda3/envs/rh_demo_env/lib/python3.9/site-packages/rich/live.py:231: UserWarning: install \n",
       "\"ipywidgets\" for Jupyter support\n",
       "  warnings.warn('install \"ipywidgets\" for Jupyter support')\n",
       "</pre>\n"
      ],
      "text/plain": [
       "/Users/rohansreerama/anaconda3/envs/rh_demo_env/lib/python3.9/site-packages/rich/live.py:231: UserWarning: install \n",
       "\"ipywidgets\" for Jupyter support\n",
       "  warnings.warn('install \"ipywidgets\" for Jupyter support')\n"
      ]
     },
     "metadata": {},
     "output_type": "display_data"
    },
    {
     "data": {
      "text/html": [
       "<pre style=\"white-space:pre;overflow-x:auto;line-height:normal;font-family:Menlo,'DejaVu Sans Mono',consolas,'Courier New',monospace\"></pre>\n"
      ],
      "text/plain": []
     },
     "metadata": {},
     "output_type": "display_data"
    },
    {
     "name": "stdout",
     "output_type": "stream",
     "text": [
      "I 09-22 15:53:13 kubernetes_utils.py:787] Created SSH Jump Service sky-ssh-jump-dc19c5ae.\n",
      "I 09-22 15:53:13 cloud_vm_ray_backend.py:1813] \u001b[1mLaunching on Kubernetes \u001b[0m\n"
     ]
    },
    {
     "data": {
      "text/html": [
       "<pre style=\"white-space:pre;overflow-x:auto;line-height:normal;font-family:Menlo,'DejaVu Sans Mono',consolas,'Courier New',monospace\">/Users/rohansreerama/anaconda3/envs/rh_demo_env/lib/python3.9/site-packages/rich/live.py:231: UserWarning: install \n",
       "\"ipywidgets\" for Jupyter support\n",
       "  warnings.warn('install \"ipywidgets\" for Jupyter support')\n",
       "</pre>\n"
      ],
      "text/plain": [
       "/Users/rohansreerama/anaconda3/envs/rh_demo_env/lib/python3.9/site-packages/rich/live.py:231: UserWarning: install \n",
       "\"ipywidgets\" for Jupyter support\n",
       "  warnings.warn('install \"ipywidgets\" for Jupyter support')\n"
      ]
     },
     "metadata": {},
     "output_type": "display_data"
    },
    {
     "data": {
      "text/html": [
       "<pre style=\"white-space:pre;overflow-x:auto;line-height:normal;font-family:Menlo,'DejaVu Sans Mono',consolas,'Courier New',monospace\"></pre>\n"
      ],
      "text/plain": []
     },
     "metadata": {},
     "output_type": "display_data"
    },
    {
     "name": "stdout",
     "output_type": "stream",
     "text": [
      "I 09-22 15:53:36 log_utils.py:45] \u001b[32mHead node is up.\u001b[0m\n"
     ]
    },
    {
     "data": {
      "text/html": [
       "<pre style=\"white-space:pre;overflow-x:auto;line-height:normal;font-family:Menlo,'DejaVu Sans Mono',consolas,'Courier New',monospace\"></pre>\n"
      ],
      "text/plain": []
     },
     "metadata": {},
     "output_type": "display_data"
    },
    {
     "name": "stdout",
     "output_type": "stream",
     "text": [
      "I 09-22 15:53:52 cloud_vm_ray_backend.py:1623] \u001b[32mSuccessfully provisioned or found existing VM.\u001b[0m\n"
     ]
    },
    {
     "data": {
      "text/html": [
       "<pre style=\"white-space:pre;overflow-x:auto;line-height:normal;font-family:Menlo,'DejaVu Sans Mono',consolas,'Courier New',monospace\">/Users/rohansreerama/anaconda3/envs/rh_demo_env/lib/python3.9/site-packages/rich/live.py:231: UserWarning: install \n",
       "\"ipywidgets\" for Jupyter support\n",
       "  warnings.warn('install \"ipywidgets\" for Jupyter support')\n",
       "</pre>\n"
      ],
      "text/plain": [
       "/Users/rohansreerama/anaconda3/envs/rh_demo_env/lib/python3.9/site-packages/rich/live.py:231: UserWarning: install \n",
       "\"ipywidgets\" for Jupyter support\n",
       "  warnings.warn('install \"ipywidgets\" for Jupyter support')\n"
      ]
     },
     "metadata": {},
     "output_type": "display_data"
    },
    {
     "data": {
      "text/html": [
       "<pre style=\"white-space:pre;overflow-x:auto;line-height:normal;font-family:Menlo,'DejaVu Sans Mono',consolas,'Courier New',monospace\"></pre>\n"
      ],
      "text/plain": []
     },
     "metadata": {},
     "output_type": "display_data"
    },
    {
     "name": "stdout",
     "output_type": "stream",
     "text": [
      "I 09-22 15:53:57 cloud_vm_ray_backend.py:4287] \u001b[36mProcessing file mounts.\u001b[0m\n",
      "I 09-22 15:53:57 cloud_vm_ray_backend.py:4319] To view detailed progress: \u001b[1mtail -n100 -f ~/sky_logs/sky-2023-09-22-15-53-10-289959/file_mounts.log\u001b[0m\n",
      "I 09-22 15:53:57 backend_utils.py:1433] \u001b[36mSyncing (to 1 node): \u001b[1m~/.rh\u001b[0m -> \u001b[1m~/.rh\u001b[0m\n"
     ]
    },
    {
     "data": {
      "text/html": [
       "<pre style=\"white-space:pre;overflow-x:auto;line-height:normal;font-family:Menlo,'DejaVu Sans Mono',consolas,'Courier New',monospace\">/Users/rohansreerama/anaconda3/envs/rh_demo_env/lib/python3.9/site-packages/rich/live.py:231: UserWarning: install \n",
       "\"ipywidgets\" for Jupyter support\n",
       "  warnings.warn('install \"ipywidgets\" for Jupyter support')\n",
       "</pre>\n"
      ],
      "text/plain": [
       "/Users/rohansreerama/anaconda3/envs/rh_demo_env/lib/python3.9/site-packages/rich/live.py:231: UserWarning: install \n",
       "\"ipywidgets\" for Jupyter support\n",
       "  warnings.warn('install \"ipywidgets\" for Jupyter support')\n"
      ]
     },
     "metadata": {},
     "output_type": "display_data"
    },
    {
     "data": {
      "text/html": [
       "<pre style=\"white-space:pre;overflow-x:auto;line-height:normal;font-family:Menlo,'DejaVu Sans Mono',consolas,'Courier New',monospace\">/Users/rohansreerama/anaconda3/envs/rh_demo_env/lib/python3.9/site-packages/rich/live.py:231: UserWarning: install \n",
       "\"ipywidgets\" for Jupyter support\n",
       "  warnings.warn('install \"ipywidgets\" for Jupyter support')\n",
       "</pre>\n"
      ],
      "text/plain": [
       "/Users/rohansreerama/anaconda3/envs/rh_demo_env/lib/python3.9/site-packages/rich/live.py:231: UserWarning: install \n",
       "\"ipywidgets\" for Jupyter support\n",
       "  warnings.warn('install \"ipywidgets\" for Jupyter support')\n"
      ]
     },
     "metadata": {},
     "output_type": "display_data"
    },
    {
     "data": {
      "text/html": [
       "<pre style=\"white-space:pre;overflow-x:auto;line-height:normal;font-family:Menlo,'DejaVu Sans Mono',consolas,'Courier New',monospace\"></pre>\n"
      ],
      "text/plain": []
     },
     "metadata": {},
     "output_type": "display_data"
    },
    {
     "name": "stderr",
     "output_type": "stream",
     "text": [
      "Connection to 127.0.0.1 port 23100 [tcp/*] succeeded!\n",
      "Warning: Permanently added '[127.0.0.1]:23100' (ED25519) to the list of known hosts.\n",
      "Warning: Permanently added '10.123.4.142' (ED25519) to the list of known hosts.\n"
     ]
    },
    {
     "name": "stdout",
     "output_type": "stream",
     "text": [
      "I 09-22 15:54:08 cloud_vm_ray_backend.py:3338] Run commands not specified or empty.\n",
      "Clusters\n",
      "NAME               LAUNCHED     RESOURCES                         STATUS  AUTOSTOP  COMMAND                       \n",
      "cpu-cluster-demo   12 secs ago  1x Kubernetes(1CPU--1GB, cpus=1)  UP      (down)    /Users/rohansreerama/anac...  \n",
      "cpu-cluster-final  16 hrs ago   1x Kubernetes(1CPU--1GB, cpus=1)  UP      (down)    /Users/rohansreerama/anac...  \n",
      "\n",
      "\u001b[?25h"
     ]
    },
    {
     "name": "stderr",
     "output_type": "stream",
     "text": [
      "/Users/rohansreerama/anaconda3/envs/rh_demo_env/lib/python3.9/site-packages/rich/live.py:231: UserWarning: install \"ipywidgets\" for Jupyter support\n",
      "  warnings.warn('install \"ipywidgets\" for Jupyter support')\n",
      "/Users/rohansreerama/anaconda3/envs/rh_demo_env/lib/python3.9/site-packages/rich/live.py:231: UserWarning: install \"ipywidgets\" for Jupyter support\n",
      "  warnings.warn('install \"ipywidgets\" for Jupyter support')\n"
     ]
    },
    {
     "data": {
      "text/html": [
       "<pre style=\"white-space:pre;overflow-x:auto;line-height:normal;font-family:Menlo,'DejaVu Sans Mono',consolas,'Courier New',monospace\"></pre>\n"
      ],
      "text/plain": []
     },
     "metadata": {},
     "output_type": "display_data"
    },
    {
     "data": {
      "text/html": [
       "<pre style=\"white-space:pre;overflow-x:auto;line-height:normal;font-family:Menlo,'DejaVu Sans Mono',consolas,'Courier New',monospace\">\n",
       "</pre>\n"
      ],
      "text/plain": [
       "\n"
      ]
     },
     "metadata": {},
     "output_type": "display_data"
    },
    {
     "name": "stderr",
     "output_type": "stream",
     "text": [
      "INFO | 2023-09-22 22:54:15.687172 | Restarting HTTP server on cpu-cluster-demo.\n",
      "INFO | 2023-09-22 22:54:35.629335 | Running command on cpu-cluster-demo: pip install ./runhouse && runhouse restart\n",
      "INFO | 2023-09-22 22:54:35.634149 | Running command: ssh -T -i ~/.ssh/sky-key -o StrictHostKeyChecking=no -o UserKnownHostsFile=/dev/null -o IdentitiesOnly=yes -o ExitOnForwardFailure=yes -o ServerAliveInterval=5 -o ServerAliveCountMax=3 -o ConnectTimeout=30s -o ForwardAgent=yes -o ControlMaster=auto -o ControlPath=/tmp/skypilot_ssh_rohansreerama/303baf7ba7/%C -o ControlPersist=300s -o ProxyCommand='ssh -tt -i ~/.ssh/sky-key -o StrictHostKeyChecking=no -o UserKnownHostsFile=/dev/null -o IdentitiesOnly=yes -p 23100 -W %h:%p sky@127.0.0.1 -o ProxyCommand='\"'\"'/Users/rohansreerama/.sky/port-forward-proxy-cmd.sh'\"'\"' ' sky@10.123.4.142 'bash --login -c -i '\"'\"'true && source ~/.bashrc && export OMP_NUM_THREADS=1 PYTHONWARNINGS=ignore && (pip install ./runhouse && runhouse restart)'\"'\"' 2>&1'\n",
      "Warning: Permanently added '10.123.4.142' (ED25519) to the list of known hosts.\n"
     ]
    },
    {
     "name": "stdout",
     "output_type": "stream",
     "text": [
      "Defaulting to user installation because normal site-packages is not writeable\n",
      "Processing ./runhouse\n",
      "  Preparing metadata (setup.py): started\n",
      "  Preparing metadata (setup.py): finished with status 'done'\n",
      "Requirement already satisfied: wheel in /opt/conda/lib/python3.10/site-packages (from runhouse==0.0.13) (0.37.1)\n",
      "Requirement already satisfied: rich in ./.local/lib/python3.10/site-packages (from runhouse==0.0.13) (13.5.2)\n",
      "Collecting fsspec<=2023.5.0\n",
      "  Downloading fsspec-2023.5.0-py3-none-any.whl (160 kB)\n",
      "     ━━━━━━━━━━━━━━━━━━━━━━━━━━━━━━━━━━━━━━ 160.1/160.1 kB 27.3 MB/s eta 0:00:00\n",
      "Collecting pyarrow\n",
      "  Downloading pyarrow-13.0.0-cp310-cp310-manylinux_2_28_x86_64.whl (40.0 MB)\n",
      "     ━━━━━━━━━━━━━━━━━━━━━━━━━━━━━━━━━━━━━━━━ 40.0/40.0 MB 59.0 MB/s eta 0:00:00\n",
      "Collecting sshtunnel>=0.3.0\n",
      "  Downloading sshtunnel-0.4.0-py2.py3-none-any.whl (24 kB)\n",
      "Collecting sshfs\n",
      "  Downloading sshfs-2023.7.0-py3-none-any.whl (15 kB)\n",
      "Collecting typer\n",
      "  Downloading typer-0.9.0-py3-none-any.whl (45 kB)\n",
      "     ━━━━━━━━━━━━━━━━━━━━━━━━━━━━━━━━━━━━━━━━ 45.9/45.9 kB 14.7 MB/s eta 0:00:00\n",
      "Requirement already satisfied: skypilot==0.4.0 in ./.local/lib/python3.10/site-packages (from runhouse==0.0.13) (0.4.0)\n",
      "Collecting sentry-sdk\n",
      "  Downloading sentry_sdk-1.31.0-py2.py3-none-any.whl (224 kB)\n",
      "     ━━━━━━━━━━━━━━━━━━━━━━━━━━━━━━━━━━━━━━ 224.8/224.8 kB 57.5 MB/s eta 0:00:00\n",
      "Collecting fastapi\n",
      "  Downloading fastapi-0.103.1-py3-none-any.whl (66 kB)\n",
      "     ━━━━━━━━━━━━━━━━━━━━━━━━━━━━━━━━━━━━━━━━ 66.2/66.2 kB 25.1 MB/s eta 0:00:00\n",
      "Collecting uvicorn\n",
      "  Downloading uvicorn-0.23.2-py3-none-any.whl (59 kB)\n",
      "     ━━━━━━━━━━━━━━━━━━━━━━━━━━━━━━━━━━━━━━━━ 59.5/59.5 kB 21.0 MB/s eta 0:00:00\n",
      "Requirement already satisfied: pyOpenSSL>=21.1.0 in /opt/conda/lib/python3.10/site-packages (from runhouse==0.0.13) (22.0.0)\n",
      "Requirement already satisfied: colorama<0.4.5 in ./.local/lib/python3.10/site-packages (from skypilot==0.4.0->runhouse==0.0.13) (0.4.4)\n",
      "Requirement already satisfied: urllib3<2 in /opt/conda/lib/python3.10/site-packages (from skypilot==0.4.0->runhouse==0.0.13) (1.26.13)\n",
      "Requirement already satisfied: pandas in ./.local/lib/python3.10/site-packages (from skypilot==0.4.0->runhouse==0.0.13) (2.1.0)\n",
      "Requirement already satisfied: filelock>=3.6.0 in ./.local/lib/python3.10/site-packages (from skypilot==0.4.0->runhouse==0.0.13) (3.12.4)\n",
      "Requirement already satisfied: protobuf!=3.19.5,>=3.15.3 in ./.local/lib/python3.10/site-packages (from skypilot==0.4.0->runhouse==0.0.13) (3.20.3)\n",
      "Requirement already satisfied: tabulate in ./.local/lib/python3.10/site-packages (from skypilot==0.4.0->runhouse==0.0.13) (0.9.0)\n",
      "Requirement already satisfied: jinja2>=3.0 in ./.local/lib/python3.10/site-packages (from skypilot==0.4.0->runhouse==0.0.13) (3.1.2)\n",
      "Requirement already satisfied: networkx in ./.local/lib/python3.10/site-packages (from skypilot==0.4.0->runhouse==0.0.13) (3.1)\n",
      "Requirement already satisfied: pendulum in ./.local/lib/python3.10/site-packages (from skypilot==0.4.0->runhouse==0.0.13) (2.1.2)\n",
      "Requirement already satisfied: pulp in ./.local/lib/python3.10/site-packages (from skypilot==0.4.0->runhouse==0.0.13) (2.7.0)\n",
      "Requirement already satisfied: grpcio!=1.48.0,<=1.51.3,>=1.42.0 in ./.local/lib/python3.10/site-packages (from skypilot==0.4.0->runhouse==0.0.13) (1.51.3)\n",
      "Requirement already satisfied: awscli>=1.27.10 in ./.local/lib/python3.10/site-packages (from skypilot==0.4.0->runhouse==0.0.13) (1.29.49)\n",
      "Requirement already satisfied: psutil in ./.local/lib/python3.10/site-packages (from skypilot==0.4.0->runhouse==0.0.13) (5.9.5)\n",
      "Requirement already satisfied: pydantic<2.0,>=1.10.8 in ./.local/lib/python3.10/site-packages (from skypilot==0.4.0->runhouse==0.0.13) (1.10.12)\n",
      "Requirement already satisfied: botocore>=1.29.10 in ./.local/lib/python3.10/site-packages (from skypilot==0.4.0->runhouse==0.0.13) (1.31.49)\n",
      "Requirement already satisfied: PrettyTable>=2.0.0 in ./.local/lib/python3.10/site-packages (from skypilot==0.4.0->runhouse==0.0.13) (3.9.0)\n",
      "Requirement already satisfied: jsonschema in ./.local/lib/python3.10/site-packages (from skypilot==0.4.0->runhouse==0.0.13) (4.19.0)\n",
      "Requirement already satisfied: click>=7.0 in ./.local/lib/python3.10/site-packages (from skypilot==0.4.0->runhouse==0.0.13) (8.1.7)\n",
      "Requirement already satisfied: ray[default]!=2.6.0,<=2.6.3,>=2.2.0 in ./.local/lib/python3.10/site-packages (from skypilot==0.4.0->runhouse==0.0.13) (2.4.0)\n",
      "Requirement already satisfied: boto3>=1.26.1 in ./.local/lib/python3.10/site-packages (from skypilot==0.4.0->runhouse==0.0.13) (1.28.49)\n",
      "Requirement already satisfied: packaging in ./.local/lib/python3.10/site-packages (from skypilot==0.4.0->runhouse==0.0.13) (23.1)\n",
      "Requirement already satisfied: pyyaml!=5.4.*,>3.13 in ./.local/lib/python3.10/site-packages (from skypilot==0.4.0->runhouse==0.0.13) (6.0.1)\n",
      "Requirement already satisfied: cryptography in /opt/conda/lib/python3.10/site-packages (from skypilot==0.4.0->runhouse==0.0.13) (38.0.1)\n",
      "Requirement already satisfied: python-dotenv in ./.local/lib/python3.10/site-packages (from skypilot==0.4.0->runhouse==0.0.13) (1.0.0)\n",
      "Collecting paramiko>=2.7.2\n",
      "  Downloading paramiko-3.3.1-py3-none-any.whl (224 kB)\n",
      "     ━━━━━━━━━━━━━━━━━━━━━━━━━━━━━━━━━━━━━━ 224.8/224.8 kB 49.3 MB/s eta 0:00:00\n",
      "Collecting anyio<4.0.0,>=3.7.1\n",
      "  Downloading anyio-3.7.1-py3-none-any.whl (80 kB)\n",
      "     ━━━━━━━━━━━━━━━━━━━━━━━━━━━━━━━━━━━━━━━━ 80.9/80.9 kB 30.1 MB/s eta 0:00:00\n",
      "Requirement already satisfied: typing-extensions>=4.5.0 in ./.local/lib/python3.10/site-packages (from fastapi->runhouse==0.0.13) (4.7.1)\n",
      "Collecting starlette<0.28.0,>=0.27.0\n",
      "  Downloading starlette-0.27.0-py3-none-any.whl (66 kB)\n",
      "     ━━━━━━━━━━━━━━━━━━━━━━━━━━━━━━━━━━━━━━━━ 67.0/67.0 kB 25.0 MB/s eta 0:00:00\n",
      "Requirement already satisfied: numpy>=1.16.6 in ./.local/lib/python3.10/site-packages (from pyarrow->runhouse==0.0.13) (1.25.2)\n",
      "Requirement already satisfied: pygments<3.0.0,>=2.13.0 in ./.local/lib/python3.10/site-packages (from rich->runhouse==0.0.13) (2.16.1)\n",
      "Requirement already satisfied: markdown-it-py>=2.2.0 in ./.local/lib/python3.10/site-packages (from rich->runhouse==0.0.13) (3.0.0)\n",
      "Requirement already satisfied: certifi in /opt/conda/lib/python3.10/site-packages (from sentry-sdk->runhouse==0.0.13) (2022.12.7)\n",
      "Collecting asyncssh<3,>=2.11.0\n",
      "  Downloading asyncssh-2.13.2-py3-none-any.whl (349 kB)\n",
      "     ━━━━━━━━━━━━━━━━━━━━━━━━━━━━━━━━━━━━━━ 349.3/349.3 kB 76.7 MB/s eta 0:00:00\n",
      "Collecting h11>=0.8\n",
      "  Downloading h11-0.14.0-py3-none-any.whl (58 kB)\n",
      "     ━━━━━━━━━━━━━━━━━━━━━━━━━━━━━━━━━━━━━━━━ 58.3/58.3 kB 20.9 MB/s eta 0:00:00\n",
      "Requirement already satisfied: idna>=2.8 in /opt/conda/lib/python3.10/site-packages (from anyio<4.0.0,>=3.7.1->fastapi->runhouse==0.0.13) (3.4)\n",
      "Collecting exceptiongroup\n",
      "  Downloading exceptiongroup-1.1.3-py3-none-any.whl (14 kB)\n",
      "Collecting sniffio>=1.1\n",
      "  Downloading sniffio-1.3.0-py3-none-any.whl (10 kB)\n",
      "Requirement already satisfied: s3transfer<0.7.0,>=0.6.0 in ./.local/lib/python3.10/site-packages (from awscli>=1.27.10->skypilot==0.4.0->runhouse==0.0.13) (0.6.2)\n",
      "Requirement already satisfied: docutils<0.17,>=0.10 in ./.local/lib/python3.10/site-packages (from awscli>=1.27.10->skypilot==0.4.0->runhouse==0.0.13) (0.16)\n",
      "Requirement already satisfied: rsa<4.8,>=3.1.2 in ./.local/lib/python3.10/site-packages (from awscli>=1.27.10->skypilot==0.4.0->runhouse==0.0.13) (4.7.2)\n",
      "Requirement already satisfied: jmespath<2.0.0,>=0.7.1 in ./.local/lib/python3.10/site-packages (from botocore>=1.29.10->skypilot==0.4.0->runhouse==0.0.13) (1.0.1)\n",
      "Requirement already satisfied: python-dateutil<3.0.0,>=2.1 in ./.local/lib/python3.10/site-packages (from botocore>=1.29.10->skypilot==0.4.0->runhouse==0.0.13) (2.8.2)\n",
      "Requirement already satisfied: cffi>=1.12 in /opt/conda/lib/python3.10/site-packages (from cryptography->skypilot==0.4.0->runhouse==0.0.13) (1.15.1)\n",
      "Requirement already satisfied: MarkupSafe>=2.0 in ./.local/lib/python3.10/site-packages (from jinja2>=3.0->skypilot==0.4.0->runhouse==0.0.13) (2.1.3)\n",
      "Requirement already satisfied: mdurl~=0.1 in ./.local/lib/python3.10/site-packages (from markdown-it-py>=2.2.0->rich->runhouse==0.0.13) (0.1.2)\n",
      "Collecting pynacl>=1.5\n",
      "  Downloading PyNaCl-1.5.0-cp36-abi3-manylinux_2_17_x86_64.manylinux2014_x86_64.manylinux_2_24_x86_64.whl (856 kB)\n",
      "     ━━━━━━━━━━━━━━━━━━━━━━━━━━━━━━━━━━━━━━ 856.7/856.7 kB 98.5 MB/s eta 0:00:00\n",
      "Collecting bcrypt>=3.2\n",
      "  Downloading bcrypt-4.0.1-cp36-abi3-manylinux_2_28_x86_64.whl (593 kB)\n",
      "     ━━━━━━━━━━━━━━━━━━━━━━━━━━━━━━━━━━━━━━ 593.7/593.7 kB 93.1 MB/s eta 0:00:00\n",
      "Requirement already satisfied: wcwidth in ./.local/lib/python3.10/site-packages (from PrettyTable>=2.0.0->skypilot==0.4.0->runhouse==0.0.13) (0.2.6)\n",
      "Requirement already satisfied: aiosignal in ./.local/lib/python3.10/site-packages (from ray[default]!=2.6.0,<=2.6.3,>=2.2.0->skypilot==0.4.0->runhouse==0.0.13) (1.3.1)\n",
      "Requirement already satisfied: virtualenv<20.21.1,>=20.0.24 in ./.local/lib/python3.10/site-packages (from ray[default]!=2.6.0,<=2.6.3,>=2.2.0->skypilot==0.4.0->runhouse==0.0.13) (20.21.0)\n",
      "Requirement already satisfied: msgpack<2.0.0,>=1.0.0 in ./.local/lib/python3.10/site-packages (from ray[default]!=2.6.0,<=2.6.3,>=2.2.0->skypilot==0.4.0->runhouse==0.0.13) (1.0.5)\n",
      "Requirement already satisfied: frozenlist in ./.local/lib/python3.10/site-packages (from ray[default]!=2.6.0,<=2.6.3,>=2.2.0->skypilot==0.4.0->runhouse==0.0.13) (1.4.0)\n",
      "Requirement already satisfied: requests in /opt/conda/lib/python3.10/site-packages (from ray[default]!=2.6.0,<=2.6.3,>=2.2.0->skypilot==0.4.0->runhouse==0.0.13) (2.28.1)\n",
      "Requirement already satisfied: attrs in ./.local/lib/python3.10/site-packages (from ray[default]!=2.6.0,<=2.6.3,>=2.2.0->skypilot==0.4.0->runhouse==0.0.13) (23.1.0)\n",
      "Requirement already satisfied: colorful in ./.local/lib/python3.10/site-packages (from ray[default]!=2.6.0,<=2.6.3,>=2.2.0->skypilot==0.4.0->runhouse==0.0.13) (0.5.5)\n",
      "Requirement already satisfied: aiohttp>=3.7 in ./.local/lib/python3.10/site-packages (from ray[default]!=2.6.0,<=2.6.3,>=2.2.0->skypilot==0.4.0->runhouse==0.0.13) (3.8.5)\n",
      "Requirement already satisfied: opencensus in ./.local/lib/python3.10/site-packages (from ray[default]!=2.6.0,<=2.6.3,>=2.2.0->skypilot==0.4.0->runhouse==0.0.13) (0.11.2)\n",
      "Requirement already satisfied: smart-open in ./.local/lib/python3.10/site-packages (from ray[default]!=2.6.0,<=2.6.3,>=2.2.0->skypilot==0.4.0->runhouse==0.0.13) (6.4.0)\n",
      "Requirement already satisfied: prometheus-client>=0.7.1 in ./.local/lib/python3.10/site-packages (from ray[default]!=2.6.0,<=2.6.3,>=2.2.0->skypilot==0.4.0->runhouse==0.0.13) (0.17.1)\n",
      "Requirement already satisfied: aiohttp-cors in ./.local/lib/python3.10/site-packages (from ray[default]!=2.6.0,<=2.6.3,>=2.2.0->skypilot==0.4.0->runhouse==0.0.13) (0.7.0)\n",
      "Requirement already satisfied: gpustat>=1.0.0 in ./.local/lib/python3.10/site-packages (from ray[default]!=2.6.0,<=2.6.3,>=2.2.0->skypilot==0.4.0->runhouse==0.0.13) (1.1.1)\n",
      "Requirement already satisfied: py-spy>=0.2.0 in ./.local/lib/python3.10/site-packages (from ray[default]!=2.6.0,<=2.6.3,>=2.2.0->skypilot==0.4.0->runhouse==0.0.13) (0.3.14)\n",
      "Requirement already satisfied: referencing>=0.28.4 in ./.local/lib/python3.10/site-packages (from jsonschema->skypilot==0.4.0->runhouse==0.0.13) (0.30.2)\n",
      "Requirement already satisfied: rpds-py>=0.7.1 in ./.local/lib/python3.10/site-packages (from jsonschema->skypilot==0.4.0->runhouse==0.0.13) (0.10.3)\n",
      "Requirement already satisfied: jsonschema-specifications>=2023.03.6 in ./.local/lib/python3.10/site-packages (from jsonschema->skypilot==0.4.0->runhouse==0.0.13) (2023.7.1)\n",
      "Requirement already satisfied: tzdata>=2022.1 in ./.local/lib/python3.10/site-packages (from pandas->skypilot==0.4.0->runhouse==0.0.13) (2023.3)\n",
      "Requirement already satisfied: pytz>=2020.1 in ./.local/lib/python3.10/site-packages (from pandas->skypilot==0.4.0->runhouse==0.0.13) (2023.3.post1)\n",
      "Requirement already satisfied: pytzdata>=2020.1 in ./.local/lib/python3.10/site-packages (from pendulum->skypilot==0.4.0->runhouse==0.0.13) (2020.1)\n",
      "Requirement already satisfied: charset-normalizer<4.0,>=2.0 in /opt/conda/lib/python3.10/site-packages (from aiohttp>=3.7->ray[default]!=2.6.0,<=2.6.3,>=2.2.0->skypilot==0.4.0->runhouse==0.0.13) (2.0.4)\n",
      "Requirement already satisfied: yarl<2.0,>=1.0 in ./.local/lib/python3.10/site-packages (from aiohttp>=3.7->ray[default]!=2.6.0,<=2.6.3,>=2.2.0->skypilot==0.4.0->runhouse==0.0.13) (1.9.2)\n",
      "Requirement already satisfied: async-timeout<5.0,>=4.0.0a3 in ./.local/lib/python3.10/site-packages (from aiohttp>=3.7->ray[default]!=2.6.0,<=2.6.3,>=2.2.0->skypilot==0.4.0->runhouse==0.0.13) (4.0.3)\n",
      "Requirement already satisfied: multidict<7.0,>=4.5 in ./.local/lib/python3.10/site-packages (from aiohttp>=3.7->ray[default]!=2.6.0,<=2.6.3,>=2.2.0->skypilot==0.4.0->runhouse==0.0.13) (6.0.4)\n",
      "Requirement already satisfied: pycparser in /opt/conda/lib/python3.10/site-packages (from cffi>=1.12->cryptography->skypilot==0.4.0->runhouse==0.0.13) (2.21)\n",
      "Requirement already satisfied: nvidia-ml-py>=11.450.129 in ./.local/lib/python3.10/site-packages (from gpustat>=1.0.0->ray[default]!=2.6.0,<=2.6.3,>=2.2.0->skypilot==0.4.0->runhouse==0.0.13) (12.535.108)\n",
      "Requirement already satisfied: blessed>=1.17.1 in ./.local/lib/python3.10/site-packages (from gpustat>=1.0.0->ray[default]!=2.6.0,<=2.6.3,>=2.2.0->skypilot==0.4.0->runhouse==0.0.13) (1.20.0)\n",
      "Requirement already satisfied: six>=1.5 in /opt/conda/lib/python3.10/site-packages (from python-dateutil<3.0.0,>=2.1->botocore>=1.29.10->skypilot==0.4.0->runhouse==0.0.13) (1.16.0)\n",
      "Requirement already satisfied: pyasn1>=0.1.3 in ./.local/lib/python3.10/site-packages (from rsa<4.8,>=3.1.2->awscli>=1.27.10->skypilot==0.4.0->runhouse==0.0.13) (0.5.0)\n",
      "Requirement already satisfied: platformdirs<4,>=2.4 in ./.local/lib/python3.10/site-packages (from virtualenv<20.21.1,>=20.0.24->ray[default]!=2.6.0,<=2.6.3,>=2.2.0->skypilot==0.4.0->runhouse==0.0.13) (3.10.0)\n",
      "Requirement already satisfied: distlib<1,>=0.3.6 in ./.local/lib/python3.10/site-packages (from virtualenv<20.21.1,>=20.0.24->ray[default]!=2.6.0,<=2.6.3,>=2.2.0->skypilot==0.4.0->runhouse==0.0.13) (0.3.7)\n",
      "Requirement already satisfied: google-api-core<3.0.0,>=1.0.0 in ./.local/lib/python3.10/site-packages (from opencensus->ray[default]!=2.6.0,<=2.6.3,>=2.2.0->skypilot==0.4.0->runhouse==0.0.13) (2.11.1)\n",
      "Requirement already satisfied: opencensus-context>=0.1.3 in ./.local/lib/python3.10/site-packages (from opencensus->ray[default]!=2.6.0,<=2.6.3,>=2.2.0->skypilot==0.4.0->runhouse==0.0.13) (0.1.3)\n",
      "Requirement already satisfied: google-auth<3.0.dev0,>=2.14.1 in ./.local/lib/python3.10/site-packages (from google-api-core<3.0.0,>=1.0.0->opencensus->ray[default]!=2.6.0,<=2.6.3,>=2.2.0->skypilot==0.4.0->runhouse==0.0.13) (2.23.0)\n",
      "Requirement already satisfied: googleapis-common-protos<2.0.dev0,>=1.56.2 in ./.local/lib/python3.10/site-packages (from google-api-core<3.0.0,>=1.0.0->opencensus->ray[default]!=2.6.0,<=2.6.3,>=2.2.0->skypilot==0.4.0->runhouse==0.0.13) (1.60.0)\n",
      "Requirement already satisfied: cachetools<6.0,>=2.0.0 in ./.local/lib/python3.10/site-packages (from google-auth<3.0.dev0,>=2.14.1->google-api-core<3.0.0,>=1.0.0->opencensus->ray[default]!=2.6.0,<=2.6.3,>=2.2.0->skypilot==0.4.0->runhouse==0.0.13) (5.3.1)\n",
      "Requirement already satisfied: pyasn1-modules>=0.2.1 in ./.local/lib/python3.10/site-packages (from google-auth<3.0.dev0,>=2.14.1->google-api-core<3.0.0,>=1.0.0->opencensus->ray[default]!=2.6.0,<=2.6.3,>=2.2.0->skypilot==0.4.0->runhouse==0.0.13) (0.3.0)\n",
      "Building wheels for collected packages: runhouse\n",
      "  Building wheel for runhouse (setup.py): started\n",
      "  Building wheel for runhouse (setup.py): finished with status 'done'\n",
      "  Created wheel for runhouse: filename=runhouse-0.0.13-py3-none-any.whl size=181036 sha256=3ff0d853c2ed56a414e34b6c6bb545769320d0ff0ca46c489bbfbe07f6c691c4\n",
      "  Stored in directory: /tmp/pip-ephem-wheel-cache-vt0d5pl3/wheels/14/c0/a2/7d89dce63624f712fd3904874f3ed8ce2b4464ab218b7cb014\n",
      "Successfully built runhouse\n",
      "Installing collected packages: typer, sniffio, sentry-sdk, pyarrow, h11, fsspec, exceptiongroup, bcrypt, uvicorn, pynacl, anyio, starlette, paramiko, asyncssh, sshtunnel, sshfs, fastapi, runhouse\n",
      "Successfully installed anyio-3.7.1 asyncssh-2.13.2 bcrypt-4.0.1 exceptiongroup-1.1.3 fastapi-0.103.1 fsspec-2023.5.0 h11-0.14.0 paramiko-3.3.1 pyarrow-13.0.0 pynacl-1.5.0 runhouse-0.0.13 sentry-sdk-1.31.0 sniffio-1.3.0 sshfs-2023.7.0 sshtunnel-0.4.0 starlette-0.27.0 typer-0.9.0 uvicorn-0.23.2\n",
      "Executing `pkill -f \"/opt/conda/bin/python -m \n",
      "runhouse.servers.http.http_server\"`\n",
      "Executing `pkill -f \".*ray.*6379.*\"`\n",
      "Executing `ray start --head --port 6379`\n",
      "2023-09-22 22:54:45,999\tINFO usage_lib.py:398 -- Usage stats collection is enabled by default without user confirmation because this terminal is detected to be non-interactive. To disable this, add `--disable-usage-stats` to the command that starts the cluster, or run the following command: `ray disable-usage-stats` before starting the cluster. See https://docs.ray.io/en/master/cluster/usage-stats.html for more details.\n",
      "2023-09-22 22:54:45,999\tINFO scripts.py:710 -- \u001b[37mLocal node IP\u001b[39m: \u001b[1m10.123.4.142\u001b[22m\n",
      "2023-09-22 22:54:47,860\tSUCC scripts.py:747 -- \u001b[32m--------------------\u001b[39m\n",
      "2023-09-22 22:54:47,861\tSUCC scripts.py:748 -- \u001b[32mRay runtime started.\u001b[39m\n",
      "2023-09-22 22:54:47,861\tSUCC scripts.py:749 -- \u001b[32m--------------------\u001b[39m\n",
      "2023-09-22 22:54:47,861\tINFO scripts.py:751 -- \u001b[36mNext steps\u001b[39m\n",
      "2023-09-22 22:54:47,861\tINFO scripts.py:754 -- To add another node to this Ray cluster, run\n",
      "2023-09-22 22:54:47,861\tINFO scripts.py:757 -- \u001b[1m  ray start --address='10.123.4.142:6379'\u001b[22m\n",
      "2023-09-22 22:54:47,861\tINFO scripts.py:766 -- To connect to this Ray cluster:\n",
      "2023-09-22 22:54:47,862\tINFO scripts.py:768 -- \u001b[35mimport\u001b[39m\u001b[26m ray\n",
      "2023-09-22 22:54:47,862\tINFO scripts.py:769 -- ray\u001b[35m.\u001b[39m\u001b[26minit()\n",
      "2023-09-22 22:54:47,862\tINFO scripts.py:781 -- To submit a Ray job using the Ray Jobs CLI:\n",
      "2023-09-22 22:54:47,862\tINFO scripts.py:782 -- \u001b[1m  RAY_ADDRESS='http://127.0.0.1:8265' ray job submit --working-dir . -- python my_script.py\u001b[22m\n",
      "2023-09-22 22:54:47,862\tINFO scripts.py:791 -- See https://docs.ray.io/en/latest/cluster/running-applications/job-submission/index.html \n",
      "2023-09-22 22:54:47,862\tINFO scripts.py:795 -- for more information on submitting Ray jobs to the Ray cluster.\n",
      "2023-09-22 22:54:47,862\tINFO scripts.py:800 -- To terminate the Ray runtime, run\n",
      "2023-09-22 22:54:47,862\tINFO scripts.py:801 -- \u001b[1m  ray stop\u001b[22m\n",
      "2023-09-22 22:54:47,862\tINFO scripts.py:804 -- To view the status of the cluster, use\n",
      "2023-09-22 22:54:47,862\tINFO scripts.py:805 --   \u001b[1mray status\u001b[22m\u001b[26m\n",
      "2023-09-22 22:54:47,862\tINFO scripts.py:809 -- To monitor and debug Ray, view the dashboard at \n",
      "2023-09-22 22:54:47,863\tINFO scripts.py:810 --   \u001b[1m127.0.0.1:8265\u001b[22m\u001b[26m\n",
      "2023-09-22 22:54:47,863\tINFO scripts.py:817 -- \u001b[4mIf connection to the dashboard fails, check your firewall settings and network configuration.\u001b[24m\n",
      "Executing `nohup /opt/conda/bin/python -m runhouse.servers.http.http_server >> \n",
      "/home/sky/.rh/server.log 2>&1 &`\n"
     ]
    },
    {
     "data": {
      "text/plain": [
       "<runhouse.resources.hardware.kubernetes_cluster.KubernetesCluster at 0x16c6463d0>"
      ]
     },
     "execution_count": 3,
     "metadata": {},
     "output_type": "execute_result"
    }
   ],
   "source": [
    "cluster.up_if_not()"
   ]
  },
  {
   "cell_type": "code",
   "execution_count": 4,
   "metadata": {},
   "outputs": [],
   "source": [
    "def num_cpus():\n",
    "    import multiprocessing\n",
    "    return f\"Num cpus: {multiprocessing.cpu_count()}\""
   ]
  },
  {
   "cell_type": "code",
   "execution_count": 5,
   "metadata": {},
   "outputs": [
    {
     "name": "stderr",
     "output_type": "stream",
     "text": [
      "INFO | 2023-09-22 22:55:18.912651 | Writing out function to /Users/rohansreerama/Desktop/k8s_proj/runhouse_fin/runhouse/num_cpus_fn.py. Please make sure the function does not rely on any local variables, including imports (which should be moved inside the function body).\n",
      "/Users/rohansreerama/Desktop/k8s_proj/runhouse_fin/runhouse/runhouse/resources/function.py:100: UserWarning: ``reqs`` and ``setup_cmds`` arguments has been deprecated. Please use ``env`` instead.\n",
      "  warnings.warn(\n",
      "INFO | 2023-09-22 22:55:18.915583 | Setting up Function on cluster.\n",
      "INFO | 2023-09-22 22:55:18.916018 | Forwarding port 50052 to port 50052 on localhost.\n",
      "INFO | 2023-09-22 22:55:18.916662 | Running command: ssh -T -L 50052:localhost:50052 -i ~/.ssh/sky-key -o StrictHostKeyChecking=no -o UserKnownHostsFile=/dev/null -o IdentitiesOnly=yes -o ExitOnForwardFailure=yes -o ServerAliveInterval=5 -o ServerAliveCountMax=3 -o ConnectTimeout=30s -o ForwardAgent=yes -o ControlMaster=auto -o ControlPath=/tmp/skypilot_ssh_rohansreerama/303baf7ba7/%C -o ControlPersist=300s -o ProxyCommand='ssh -tt -i ~/.ssh/sky-key -o StrictHostKeyChecking=no -o UserKnownHostsFile=/dev/null -o IdentitiesOnly=yes -p 23100 -W %h:%p sky@127.0.0.1 -o ProxyCommand='\"'\"'/Users/rohansreerama/.sky/port-forward-proxy-cmd.sh'\"'\"' ' sky@10.123.4.142 tail\n",
      "INFO | 2023-09-22 22:55:21.932241 | Checking server cpu-cluster-demo\n",
      "INFO | 2023-09-22 22:55:23.155808 | Server cpu-cluster-demo is up.\n",
      "INFO | 2023-09-22 22:55:24.603314 | Function setup complete.\n"
     ]
    }
   ],
   "source": [
    "num_cpus_cluster = rh.function(name=\"num_cpus_cluster\", fn=num_cpus).to(system=cluster, reqs=[\"./\"])"
   ]
  },
  {
   "cell_type": "code",
   "execution_count": 6,
   "metadata": {},
   "outputs": [
    {
     "name": "stderr",
     "output_type": "stream",
     "text": [
      "INFO | 2023-09-22 22:55:38.878811 | Calling num_cpus_cluster.call\n"
     ]
    },
    {
     "name": "stdout",
     "output_type": "stream",
     "text": [
      "base_env servlet: Calling method call on module num_cpus_cluster\n"
     ]
    },
    {
     "name": "stderr",
     "output_type": "stream",
     "text": [
      "INFO | 2023-09-22 22:55:39.312025 | Time to call num_cpus_cluster.call: 0.43 seconds\n"
     ]
    },
    {
     "data": {
      "text/plain": [
       "'Num cpus: 4'"
      ]
     },
     "execution_count": 6,
     "metadata": {},
     "output_type": "execute_result"
    }
   ],
   "source": [
    "num_cpus_cluster()"
   ]
  }
 ],
 "metadata": {
  "kernelspec": {
   "display_name": "rh_fin_1",
   "language": "python",
   "name": "python3"
  },
  "language_info": {
   "codemirror_mode": {
    "name": "ipython",
    "version": 3
   },
   "file_extension": ".py",
   "mimetype": "text/x-python",
   "name": "python",
   "nbconvert_exporter": "python",
   "pygments_lexer": "ipython3",
   "version": "3.9.15"
  },
  "orig_nbformat": 4
 },
 "nbformat": 4,
 "nbformat_minor": 2
}
