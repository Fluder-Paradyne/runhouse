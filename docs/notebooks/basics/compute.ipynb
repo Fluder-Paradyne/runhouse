{
 "cells": [
  {
   "attachments": {},
   "cell_type": "markdown",
   "metadata": {
    "id": "F7HhB8gzONko"
   },
   "source": [
    "# Compute: Clusters, Functions, Packages, & Envs\n",
    "\n",
    "Runhouse has several abstractions to provide a seamless flow of code and execution across local and remote compute. The abstractions are cloud provider-agnostic, and provide living, reusable services.\n",
    "\n",
    "The Cluster and Function APIs blur the line between program execution and deployment.\n",
    "\n",
    "The Env and Package APIs help to provide convenient dependency isolation and management."
   ]
  },
  {
   "attachments": {},
   "cell_type": "markdown",
   "metadata": {
    "id": "9N3gmCDuBz7D"
   },
   "source": [
    "## Install Runhouse"
   ]
  },
  {
   "cell_type": "code",
   "execution_count": null,
   "metadata": {
    "id": "rvtcN7-IW0q1"
   },
   "outputs": [],
   "source": [
    "!pip install runhouse"
   ]
  },
  {
   "cell_type": "code",
   "execution_count": 2,
   "metadata": {
    "colab": {
     "base_uri": "https://localhost:8080/"
    },
    "id": "sO6l-O17W2da",
    "outputId": "e5673b71-b3a0-4444-fcab-f382c9d3e1e7"
   },
   "outputs": [
    {
     "name": "stdout",
     "output_type": "stream",
     "text": [
      "INFO | 2023-05-18 12:21:48,716 | No auth token provided, so not using RNS API to save and load configs\n",
      "INFO | 2023-05-18 12:21:49,710 | NumExpr defaulting to 2 threads.\n"
     ]
    }
   ],
   "source": [
    "import runhouse as rh"
   ]
  },
  {
   "attachments": {},
   "cell_type": "markdown",
   "metadata": {
    "id": "I6rlNI26B2yI"
   },
   "source": [
    "Optionally, to login to Runhouse to sync any secrets."
   ]
  },
  {
   "cell_type": "code",
   "execution_count": 3,
   "metadata": {
    "colab": {
     "base_uri": "https://localhost:8080/"
    },
    "id": "DCE3cuAvyRKd",
    "outputId": "a9fe3809-d790-4b15-dd20-dfb8977590e8"
   },
   "outputs": [
    {
     "name": "stdout",
     "output_type": "stream",
     "text": [
      "INFO | 2023-05-18 12:22:00,336 | No auth token provided, so not using RNS API to save and load configs\n",
      "INFO | 2023-05-18 12:22:00,867 | NumExpr defaulting to 2 threads.\n",
      "\n",
      "            ____              __                             @ @ @\n",
      "           \u001b[35m/\u001b[0m __ \\__  ______  \u001b[35m/\u001b[0m \u001b[35m/\u001b[0m\u001b[95m_\u001b[0m  ____  __  __________     \u001b[1m[\u001b[0m\u001b[1m]\u001b[0m___\n",
      "          \u001b[35m/\u001b[0m \u001b[35m/_/\u001b[0m \u001b[35m/\u001b[0m \u001b[35m/\u001b[0m \u001b[35m/\u001b[0m \u001b[35m/\u001b[0m __ \\\u001b[35m/\u001b[0m __ \\\u001b[35m/\u001b[0m __ \\\u001b[35m/\u001b[0m \u001b[35m/\u001b[0m \u001b[35m/\u001b[0m \u001b[35m/\u001b[0m ___/ _ \\   \u001b[35m/\u001b[0m    \u001b[35m/\u001b[0m\\____    @@\n",
      "         \u001b[35m/\u001b[0m _, _/ \u001b[35m/_/\u001b[0m \u001b[35m/\u001b[0m \u001b[35m/\u001b[0m \u001b[35m/\u001b[0m \u001b[35m/\u001b[0m \u001b[35m/\u001b[0m \u001b[35m/\u001b[0m \u001b[35m/\u001b[0m \u001b[35m/_/\u001b[0m \u001b[35m/\u001b[0m \u001b[35m/_/\u001b[0m \u001b[1m(\u001b[0m__  \u001b[1m)\u001b[0m  __/  \u001b[35m/_/\u001b[0m\\_/\u001b[35m/____/\u001b[0m\\  @@@@\n",
      "        \u001b[35m/_/\u001b[0m |_|\\__,_/_/ \u001b[35m/_/_/\u001b[0m \u001b[35m/_/\u001b[0m\\____/\\__,_/____/\\___/   | || |||__|||   ||\n",
      "        \n",
      "\u001b[1;33mRetrieve your token 🔑 here to use 🏃 🏠 Runhouse for secrets and artifact \u001b[0m\n",
      "\u001b[1;33mmanagement: \u001b[0m\u001b[4;94mhttps://api.run.house/dashboard/?\u001b[0m\u001b[4;94moption\u001b[0m\u001b[4;94m=\u001b[0m\u001b[4;94mtoken\u001b[0m\n",
      "Token: \n",
      "Download config from Runhouse to your local .rh folder? [y/N]: y\n",
      "Download secrets from Vault to your local Runhouse config? [y/N]: y\n",
      "Upload your local config to Runhouse? [y/N]: y\n",
      "Upload your enabled cloud provider secrets to Vault? [y/N]: y\n",
      "INFO | 2023-05-18 12:22:41,881 | Getting secrets from Vault.\n",
      "INFO | 2023-05-18 12:22:44,593 | Found credentials in shared credentials file: ~/.aws/credentials\n",
      "\u001b[2K\u001b[32m⠦\u001b[0m Updating AWS catalog: aws/vms.csv (every 7 hours)\n",
      "\u001b[2K\u001b[32m⠹\u001b[0m Updating AWS catalog: aws/images.csv (every 7 hours)\n",
      "\u001b[1A\u001b[2KI 05-18 12:22:47 aws_catalog.py:119] \u001b[2mFetching availability zones mapping for AWS...\u001b[0m\n",
      "WARNING | 2023-05-18 12:22:55,953 | Received secrets ['gcp', 'lambda'] which Runhouse did not auto-detect as configured. For cloud providers, you may want to run `sky check` to double check that they're enabled and to see instructions on how to enable them.\n",
      "INFO | 2023-05-18 12:22:55,954 | Saved secrets from Vault to local config files\n",
      "INFO | 2023-05-18 12:22:56,169 | Found credentials in shared credentials file: ~/.aws/credentials\n",
      "Upload secrets for aws? [y/N]: y\n",
      "Upload secrets for sky? [y/N]: y\n",
      "Upload secrets for ssh? [y/N]: y\n",
      "Upload secrets for github? [y/N]: y\n",
      "INFO | 2023-05-18 12:23:06,954 | Uploaded secrets for to Vault for: ['aws', 'sky', 'ssh', 'github']\n",
      "INFO | 2023-05-18 12:23:06,955 | Successfully logged into Runhouse.\n",
      "\u001b[0m"
     ]
    }
   ],
   "source": [
    "!runhouse login"
   ]
  },
  {
   "attachments": {},
   "cell_type": "markdown",
   "metadata": {
    "id": "NFyFUIziPr_8"
   },
   "source": [
    "## Cluster\n",
    "\n",
    "Runhouse provides various APIs for interacting with remote clusters, such as terminating an on-demand cloud cluster or running remote CLI or Python commands from your local dev environment."
   ]
  },
  {
   "attachments": {},
   "cell_type": "markdown",
   "metadata": {
    "id": "_2uS7S0wVSGC"
   },
   "source": [
    "### Initialize your Cluster\n",
    "\n",
    "There are two types of supported cluster types:\n",
    "1. Bring-your-own (BYO) Cluster, one that you have access to through an IP address and SSH credentials.\n",
    "2. On-Demand/Auto Cluster one that is associated with your cloud account, and automatically spun up/down for you.\n",
    "\n",
    "Each cluster must be provided with a unique `name` identifier during construction. This `name` parameter is used for saving down or loading previous saved clusters, and also used for various CLI commands for the cluster."
   ]
  },
  {
   "cell_type": "code",
   "execution_count": null,
   "metadata": {
    "id": "nHdQYmqV0cjh"
   },
   "outputs": [],
   "source": [
    "# BYO cluster\n",
    "cluster = rh.cluster(  # using private key\n",
    "              name=\"cpu-cluster\",\n",
    "              ips=['<ip of the cluster>'],\n",
    "              ssh_creds={'ssh_user': '<user>', 'ssh_private_key':'<path_to_key>'},\n",
    "          )\n",
    "\n",
    "cluster = rh.cluster(  # using password\n",
    "              name=\"cpu-cluster\",\n",
    "              ips=['<ip of the cluster>'],\n",
    "              ssh_creds={'ssh_user': '<user>', 'password':'******'},\n",
    "          )\n",
    "\n",
    "# Using a Cloud provider\n",
    "cluster = rh.ondemand_cluster(\n",
    "              name=\"cpu-cluster\",\n",
    "              instance_type=\"CPU:8\",\n",
    "              provider=\"cheapest\",       # \"AWS\", \"GCP\", \"Azure\", \"Lambda\", or \"cheapest\" (default)\n",
    "              autostop_mins=60,          # Optional, defaults to default_autostop_mins; -1 suspends autostop\n",
    "          )\n",
    "# Launch the cluster, only supported for on-demand clusters\n",
    "cluster.up()"
   ]
  },
  {
   "attachments": {},
   "cell_type": "markdown",
   "metadata": {
    "id": "yvKA9ms7YG8S"
   },
   "source": [
    "You can set default configs for future cluster constructions. These defaults are associated with either only your local environment (if you don't login to Runhouse), or can be reused across devices (if they are saved to your Runhouse account)."
   ]
  },
  {
   "cell_type": "code",
   "execution_count": 5,
   "metadata": {
    "colab": {
     "base_uri": "https://localhost:8080/"
    },
    "id": "fzlhtsJ85Jq-",
    "outputId": "b5002963-a7f8-4203-b32c-57a97025e6e4"
   },
   "outputs": [
    {
     "name": "stdout",
     "output_type": "stream",
     "text": [
      "INFO | 2023-05-18 12:48:20,821 | Uploaded defaults for user to rns.\n"
     ]
    }
   ],
   "source": [
    "rh.configs.set('use_spot', False)\n",
    "rh.configs.set('default_autostop', 30)\n",
    "\n",
    "rh.configs.upload_defaults()"
   ]
  },
  {
   "attachments": {},
   "cell_type": "markdown",
   "metadata": {
    "id": "ShqXfg-N4bH5"
   },
   "source": [
    "### Useful Cluster APIs"
   ]
  },
  {
   "attachments": {},
   "cell_type": "markdown",
   "metadata": {
    "id": "-NxHtqZ8Y4VT"
   },
   "source": [
    "To run CLI or Python commands on the cluster:"
   ]
  },
  {
   "cell_type": "code",
   "execution_count": 9,
   "metadata": {
    "colab": {
     "base_uri": "https://localhost:8080/"
    },
    "id": "BzV9lm-RZFsu",
    "outputId": "58939594-2d81-4ec8-a6ed-3a327c16e01c"
   },
   "outputs": [
    {
     "name": "stdout",
     "output_type": "stream",
     "text": [
      "INFO | 2023-05-18 13:59:54,417 | Running command on cpu-cluster: pip install numpy && pip freeze | grep numpy\n",
      "Requirement already satisfied: numpy in /opt/conda/lib/python3.10/site-packages (1.24.3)\n",
      "numpy==1.24.3\n"
     ]
    },
    {
     "data": {
      "text/plain": [
       "[(0,\n",
       "  'Requirement already satisfied: numpy in /opt/conda/lib/python3.10/site-packages (1.24.3)\\nnumpy==1.24.3\\n',\n",
       "  '')]"
      ]
     },
     "execution_count": 9,
     "metadata": {},
     "output_type": "execute_result"
    }
   ],
   "source": [
    "cluster.run(['pip install numpy && pip freeze | grep numpy'])"
   ]
  },
  {
   "cell_type": "code",
   "execution_count": 10,
   "metadata": {
    "colab": {
     "base_uri": "https://localhost:8080/"
    },
    "id": "jrUdY0UFyE4N",
    "outputId": "43a75332-3b0d-426f-eb0d-1abb00c786b1"
   },
   "outputs": [
    {
     "name": "stdout",
     "output_type": "stream",
     "text": [
      "INFO | 2023-05-18 14:00:01,581 | Running command on cpu-cluster: python3 -c \"import numpy; print(numpy.__version__)\"\n",
      "1.24.3\n"
     ]
    },
    {
     "data": {
      "text/plain": [
       "[(0, '1.24.3\\n', '')]"
      ]
     },
     "execution_count": 10,
     "metadata": {},
     "output_type": "execute_result"
    }
   ],
   "source": [
    "cluster.run_python(['import numpy', 'print(numpy.__version__)'])"
   ]
  },
  {
   "attachments": {},
   "cell_type": "markdown",
   "metadata": {
    "id": "9MPecZONYieM"
   },
   "source": [
    "To ssh into the cluster:"
   ]
  },
  {
   "cell_type": "code",
   "execution_count": null,
   "metadata": {
    "id": "4QkBHXuOX-HR"
   },
   "outputs": [],
   "source": [
    "# Python\n",
    "cluster.ssh()\n",
    "\n",
    "# CLI\n",
    "!ssh cpu-cluster"
   ]
  },
  {
   "attachments": {},
   "cell_type": "markdown",
   "metadata": {
    "id": "YNgFqBWxYpg-"
   },
   "source": [
    "To tunnel a JupyterLab server into your local browser:"
   ]
  },
  {
   "cell_type": "code",
   "execution_count": null,
   "metadata": {
    "id": "NK8L9truXMRf"
   },
   "outputs": [],
   "source": [
    "# Python\n",
    "cluster.notebook()\n",
    "\n",
    "# CLI\n",
    "!runhouse notebook cpu-cluster"
   ]
  },
  {
   "attachments": {},
   "cell_type": "markdown",
   "metadata": {
    "id": "G70D-DeD6Gq7"
   },
   "source": [
    "To open a port, if you want to run an application on the cluster that requires a port to be open, e.g. Tensorboard, Gradio:"
   ]
  },
  {
   "cell_type": "code",
   "execution_count": null,
   "metadata": {
    "id": "E6wE0kA2EmGv"
   },
   "outputs": [],
   "source": [
    "cluster.ssh_tunnel(local_port=7860, remote_port=7860)"
   ]
  },
  {
   "attachments": {},
   "cell_type": "markdown",
   "metadata": {
    "id": "cbrJu_LkONNo"
   },
   "source": [
    "## Function\n",
    "\n",
    "Runhouse's Function API lets you define functions to be run on remote hardware (your cluster above!). Simply pass in a local (or a GitHub) function, the intended remote hardware, and any dependencies; Runhouse will handle the rest for you."
   ]
  },
  {
   "attachments": {},
   "cell_type": "markdown",
   "metadata": {
    "id": "D913pflCPxh2"
   },
   "source": [
    "### Basic Functions"
   ]
  },
  {
   "attachments": {},
   "cell_type": "markdown",
   "metadata": {
    "id": "CkJdhRFYzQTt"
   },
   "source": [
    "Let's start with a simple local function `getpid`, which takes in an optional parameter `a` and returns the process ID plus `a`."
   ]
  },
  {
   "cell_type": "code",
   "execution_count": 10,
   "metadata": {
    "id": "vDpxfh3oPuA4"
   },
   "outputs": [],
   "source": [
    "# Local Function\n",
    "def getpid(a=0, b=0):\n",
    "    import os\n",
    "    return os.getpid() + a + b"
   ]
  },
  {
   "attachments": {},
   "cell_type": "markdown",
   "metadata": {
    "id": "gko4Qdsf0HJi"
   },
   "source": [
    "To construct a function that runs `getpid` on a remote cluster, we wrap it using `rh.function`, and specify `system=cluster`. There are two ways of doing so:"
   ]
  },
  {
   "cell_type": "code",
   "execution_count": 12,
   "metadata": {
    "colab": {
     "base_uri": "https://localhost:8080/"
    },
    "id": "FI6SVrsBdHD8",
    "outputId": "e45084e8-6f1c-4dd4-9885-3ff55f3de53f"
   },
   "outputs": [
    {
     "name": "stdout",
     "output_type": "stream",
     "text": [
      "INFO | 2023-06-26 13:40:45,990 | Writing out function function to /Users/caroline/Documents/runhouse/runhouse/docs/notebooks/basics/getpid_fn.py. Please make sure the function does not rely on any local variables, including imports (which should be moved inside the function body).\n",
      "INFO | 2023-06-26 13:40:45,993 | Setting up Function on cluster.\n",
      "INFO | 2023-06-26 13:40:57,014 | Checking server test-cluster\n",
      "INFO | 2023-06-26 13:40:57,989 | Server test-cluster is up.\n",
      "INFO | 2023-06-26 13:40:59,299 | Installing packages on cluster test-cluster: ['Package: runhouse']\n",
      "INFO | 2023-06-26 13:41:00,872 | Function setup complete.\n"
     ]
    }
   ],
   "source": [
    "# Remote Function\n",
    "getpid_remote = rh.function(fn=getpid).to(system=cluster)"
   ]
  },
  {
   "attachments": {},
   "cell_type": "markdown",
   "metadata": {
    "id": "OWHaw8bx0tQS"
   },
   "source": [
    "To run the function, simply call it just as you would a local function, and the function automatically runs on your specified hardware!"
   ]
  },
  {
   "cell_type": "code",
   "execution_count": 13,
   "metadata": {
    "colab": {
     "base_uri": "https://localhost:8080/"
    },
    "id": "yoFbUjcYdTCW",
    "outputId": "6da0aeef-36b0-4936-b700-633c09292be4"
   },
   "outputs": [
    {
     "name": "stdout",
     "output_type": "stream",
     "text": [
      "local function result: 73128\n",
      "INFO | 2023-06-26 13:41:05,026 | Running getpid via HTTP\n",
      "INFO | 2023-06-26 13:41:05,290 | Submitted remote call to cluster for 20230626_134105\n",
      ":job_id:17000000\n",
      ":task_name:get_fn_from_pointers\n",
      ":job_id:17000000\n",
      "INFO | 2023-06-26 17:41:05,959 | Loaded Runhouse config from /home/ubuntu/.rh/config.yaml\n",
      ":task_name:get_fn_from_pointers\n",
      "INFO | 2023-06-26 17:41:06,566 | Appending /home/ubuntu/runhouse/docs/notebooks/basics to sys.path\n",
      "INFO | 2023-06-26 17:41:06,566 | Importing module getpid_fn\n",
      "INFO | 2023-06-26 13:41:06,446 | Time to call remote function: 1.42 seconds\n",
      "remote function result: 183873\n"
     ]
    }
   ],
   "source": [
    "print(f\"local function result: {getpid()}\")\n",
    "print(f\"remote function result: {getpid_remote()}\")"
   ]
  },
  {
   "attachments": {},
   "cell_type": "markdown",
   "metadata": {
    "id": "pcYGq1ojP26V"
   },
   "source": [
    "### Git Functions"
   ]
  },
  {
   "attachments": {},
   "cell_type": "markdown",
   "metadata": {
    "id": "U1dgblrD08bp"
   },
   "source": [
    "A neat feature of Runhouse is the ability to take a function from a Github repo, and create a wrapper around that function to be run on remote. This saves you the effort of needing to clone or copy a function. To do so, simply pass in the function url into `rh.function`.\n",
    "\n",
    "We've implemented the same `getpid` function in our Runhouse test suite [here](https://github.com/run-house/runhouse/blob/v0.0.4/tests/test_function.py#L114). Below, we demonstrate how we can directly use the GitHub link and function name to run this function on remote hardware, without needing to clone the repo ourselves or reimplement the function locally."
   ]
  },
  {
   "cell_type": "code",
   "execution_count": 14,
   "metadata": {
    "colab": {
     "base_uri": "https://localhost:8080/"
    },
    "id": "VpZN_vPUP2bh",
    "outputId": "deccfc49-3cf4-4e84-ba74-7f81639f7680"
   },
   "outputs": [
    {
     "name": "stdout",
     "output_type": "stream",
     "text": [
      "INFO | 2023-05-18 14:00:56,859 | Setting up Function on cluster.\n",
      "INFO | 2023-05-18 14:00:56,863 | Installing packages on cluster cpu-cluster: ['GitPackage: https://github.com/run-house/runhouse.git@v0.0.4']\n",
      "INFO | 2023-05-18 14:00:59,540 | Function setup complete.\n"
     ]
    }
   ],
   "source": [
    "pid_git_remote = rh.function(\n",
    "    fn='https://github.com/run-house/runhouse/blob/v0.0.4/tests/test_function.py:getpid',\n",
    "    system=cluster,\n",
    ")"
   ]
  },
  {
   "cell_type": "code",
   "execution_count": 15,
   "metadata": {
    "colab": {
     "base_uri": "https://localhost:8080/"
    },
    "id": "RwovMHbo2eGs",
    "outputId": "526cf0c5-a5c3-46b8-92b8-d9b899046699"
   },
   "outputs": [
    {
     "name": "stdout",
     "output_type": "stream",
     "text": [
      "INFO | 2023-05-18 14:01:01,496 | Running getpid via gRPC\n",
      "INFO | 2023-05-18 14:01:01,867 | Time to send message: 0.37 seconds\n"
     ]
    },
    {
     "data": {
      "text/plain": [
       "24065"
      ]
     },
     "execution_count": 15,
     "metadata": {},
     "output_type": "execute_result"
    }
   ],
   "source": [
    "pid_git_remote()"
   ]
  },
  {
   "attachments": {},
   "cell_type": "markdown",
   "metadata": {
    "id": "LrqAWQcXcbAv"
   },
   "source": [
    "### Additional Function Call Types\n",
    "\n",
    "In addition to the usual function call, Runhouse also supports the following function types: `remote`, `get`, `repeat`, `enqueue`, `map`, and `starmap`.\n",
    "\n",
    "We demonstrate the behavior of each of these using the same `getpid_remote` function above."
   ]
  },
  {
   "attachments": {},
   "cell_type": "markdown",
   "metadata": {
    "id": "eQTySy15ch-H"
   },
   "source": [
    "#### `.remote` and `.get`\n",
    "Call the function async (using Ray) and return a reference (Ray ObjectRef) to the object on the cluster. \n",
    "\n",
    "This is a convenient way to avoid passing large objects back and forth to your laptop, or to run longer execution in notebooks without locking up the kernel.\n",
    "\n"
   ]
  },
  {
   "cell_type": "code",
   "execution_count": 14,
   "metadata": {
    "colab": {
     "base_uri": "https://localhost:8080/"
    },
    "id": "t2LF2yJw2W8a",
    "outputId": "fe90f83b-d079-4cb6-8e01-a90942d538d1"
   },
   "outputs": [
    {
     "name": "stdout",
     "output_type": "stream",
     "text": [
      "WARNING | 2023-06-26 13:41:14,945 | /Users/caroline/Documents/runhouse/runhouse/runhouse/rns/function.py:421: UserWarning: `remote()` is deprecated, use `run()` instead\n",
      "  warnings.warn(\"`remote()` is deprecated, use `run()` instead\")\n",
      "\n",
      "INFO | 2023-06-26 13:41:14,946 | Running getpid via HTTP\n",
      "INFO | 2023-06-26 13:41:15,199 | Submitted remote call to cluster for 20230626_134114\n"
     ]
    }
   ],
   "source": [
    "getpid_remote_ref = getpid_remote.remote()"
   ]
  },
  {
   "attachments": {},
   "cell_type": "markdown",
   "metadata": {
    "id": "ow8AAESD31-W"
   },
   "source": [
    "You can use `.get` to retrive the value of a reference."
   ]
  },
  {
   "cell_type": "code",
   "execution_count": 15,
   "metadata": {
    "colab": {
     "base_uri": "https://localhost:8080/"
    },
    "id": "riLwaZWG3y5l",
    "outputId": "05f696b8-1929-4ef4-86ce-3c462905d897"
   },
   "outputs": [
    {
     "name": "stdout",
     "output_type": "stream",
     "text": [
      ":job_id:17000000\n",
      "INFO | 2023-06-26 17:41:15,889 | Loaded Runhouse config from /home/ubuntu/.rh/config.yaml\n",
      ":task_name:get_fn_from_pointers\n",
      "INFO | 2023-06-26 17:41:16,491 | Appending /home/ubuntu/runhouse/docs/notebooks/basics to sys.path\n",
      "INFO | 2023-06-26 17:41:16,491 | Importing module getpid_fn\n",
      ":job_id:17000000\n",
      ":task_name:get_fn_from_pointers\n"
     ]
    },
    {
     "data": {
      "text/plain": [
       "183941"
      ]
     },
     "execution_count": 15,
     "metadata": {},
     "output_type": "execute_result"
    }
   ],
   "source": [
    "getpid_remote.get(getpid_remote_ref)"
   ]
  },
  {
   "attachments": {},
   "cell_type": "markdown",
   "metadata": {
    "id": "0kVGmIxI4CLv"
   },
   "source": [
    "You can also directly pass in the ref to another function, and it will be automatically dereferenced once on the cluster."
   ]
  },
  {
   "cell_type": "code",
   "execution_count": 16,
   "metadata": {
    "colab": {
     "base_uri": "https://localhost:8080/"
    },
    "id": "_z7xwOew4BAv",
    "outputId": "188dac14-ade1-4230-eb48-4c05ee4dc466"
   },
   "outputs": [
    {
     "name": "stdout",
     "output_type": "stream",
     "text": [
      "INFO | 2023-06-26 13:41:28,636 | Running getpid via HTTP\n",
      "INFO | 2023-06-26 13:41:28,900 | Submitted remote call to cluster for 20230626_134128\n",
      ":job_id:17000000\n",
      "INFO | 2023-06-26 17:41:29,561 | Loaded Runhouse config from /home/ubuntu/.rh/config.yaml\n",
      ":task_name:get_fn_from_pointers\n",
      "INFO | 2023-06-26 17:41:30,161 | Appending /home/ubuntu/runhouse/docs/notebooks/basics to sys.path\n",
      "INFO | 2023-06-26 17:41:30,161 | Importing module getpid_fn\n",
      ":job_id:17000000\n",
      ":task_name:get_fn_from_pointers\n",
      "INFO | 2023-06-26 13:41:29,998 | Time to call remote function: 1.36 seconds\n"
     ]
    },
    {
     "data": {
      "text/plain": [
       "367951"
      ]
     },
     "execution_count": 16,
     "metadata": {},
     "output_type": "execute_result"
    }
   ],
   "source": [
    "getpid_remote(getpid_remote_ref)"
   ]
  },
  {
   "attachments": {},
   "cell_type": "markdown",
   "metadata": {
    "id": "ptcFk9xQ2x25"
   },
   "source": [
    "#### `.repeat`\n",
    "\n",
    "To repeat the function call multiple times, call `.repeat` and pass in the number of times to repeat the function. The function calls take place across multiple processes, so we see that there are several process IDs being returned."
   ]
  },
  {
   "cell_type": "code",
   "execution_count": 17,
   "metadata": {
    "colab": {
     "base_uri": "https://localhost:8080/"
    },
    "id": "zWPOmkOr2_sM",
    "outputId": "89a7cb88-a2c8-4dad-96af-e9c2bd90e1ba"
   },
   "outputs": [
    {
     "name": "stdout",
     "output_type": "stream",
     "text": [
      "INFO | 2023-06-26 13:41:39,838 | Running getpid via HTTP\n",
      "INFO | 2023-06-26 13:41:42,960 | Time to call remote function: 3.12 seconds\n"
     ]
    },
    {
     "data": {
      "text/plain": [
       "[184080,\n",
       " 184084,\n",
       " 184085,\n",
       " 184082,\n",
       " 184078,\n",
       " 184081,\n",
       " 184083,\n",
       " 184079,\n",
       " 184190,\n",
       " 184285]"
      ]
     },
     "execution_count": 17,
     "metadata": {},
     "output_type": "execute_result"
    }
   ],
   "source": [
    "getpid_remote.repeat(num_repeats=10)"
   ]
  },
  {
   "attachments": {},
   "cell_type": "markdown",
   "metadata": {
    "id": "c8TOC2Fr4U6M"
   },
   "source": [
    "#### `.enqueue`\n",
    "This queues up the function call on the cluster. It ensures a function call doesn’t run simultaneously with other calls, but will wait until the execution completes."
   ]
  },
  {
   "cell_type": "code",
   "execution_count": 18,
   "metadata": {
    "colab": {
     "base_uri": "https://localhost:8080/"
    },
    "id": "9EAkNYJI3LVT",
    "outputId": "4f3b40c8-6b6c-4da1-bede-54d3c850bf56"
   },
   "outputs": [
    {
     "name": "stdout",
     "output_type": "stream",
     "text": [
      "INFO | 2023-06-26 13:41:45,818 | Running getpid via HTTP\n",
      "INFO | 2023-06-26 13:41:47,255 | Time to call remote function: 1.43 seconds\n",
      "INFO | 2023-06-26 13:41:47,256 | Running getpid via HTTP\n",
      "INFO | 2023-06-26 13:41:48,676 | Time to call remote function: 1.42 seconds\n",
      "INFO | 2023-06-26 13:41:48,677 | Running getpid via HTTP\n",
      "INFO | 2023-06-26 13:41:50,102 | Time to call remote function: 1.42 seconds\n"
     ]
    },
    {
     "data": {
      "text/plain": [
       "[184727, 184791, 184857]"
      ]
     },
     "execution_count": 18,
     "metadata": {},
     "output_type": "execute_result"
    }
   ],
   "source": [
    "[getpid_remote.enqueue() for _ in range(3)]"
   ]
  },
  {
   "attachments": {},
   "cell_type": "markdown",
   "metadata": {
    "id": "bp9RT4VG4ZSg"
   },
   "source": [
    "#### `.map` and `.starmap`\n",
    "These are ways to parallelize a function. `.map` maps a function over a list of arguments, while `.starmap` unpacks the elements of the iterable while mapping."
   ]
  },
  {
   "cell_type": "code",
   "execution_count": 19,
   "metadata": {
    "colab": {
     "base_uri": "https://localhost:8080/"
    },
    "id": "lpO_lN593VQQ",
    "outputId": "40b9895a-a2e2-49d2-b2de-403cd23085d1"
   },
   "outputs": [
    {
     "name": "stdout",
     "output_type": "stream",
     "text": [
      "INFO | 2023-06-26 13:41:53,812 | Running getpid via HTTP\n",
      "INFO | 2023-06-26 13:41:55,238 | Time to call remote function: 1.42 seconds\n"
     ]
    },
    {
     "data": {
      "text/plain": [
       "[184927, 184932]"
      ]
     },
     "execution_count": 19,
     "metadata": {},
     "output_type": "execute_result"
    }
   ],
   "source": [
    "a_map = [1, 2]\n",
    "b_map = [2, 5]\n",
    "getpid_remote.map(a_map, b_map)"
   ]
  },
  {
   "cell_type": "code",
   "execution_count": 20,
   "metadata": {
    "id": "pqMIkXDCVNFw"
   },
   "outputs": [
    {
     "name": "stdout",
     "output_type": "stream",
     "text": [
      "INFO | 2023-06-26 13:41:57,452 | Running getpid via HTTP\n",
      "INFO | 2023-06-26 13:41:57,597 | Time to call remote function: 0.14 seconds\n"
     ]
    },
    {
     "data": {
      "text/plain": [
       "[184928, 184928, 184930]"
      ]
     },
     "execution_count": 20,
     "metadata": {},
     "output_type": "execute_result"
    }
   ],
   "source": [
    "starmap_args = [[1, 2], [1, 3], [1, 4]]\n",
    "getpid_remote.starmap(starmap_args)"
   ]
  },
  {
   "attachments": {},
   "cell_type": "markdown",
   "metadata": {
    "id": "RFBxnx-2Knu4"
   },
   "source": [
    "### Function Logging"
   ]
  },
  {
   "attachments": {},
   "cell_type": "markdown",
   "metadata": {
    "id": "suFeG-GGcjRz"
   },
   "source": [
    "#### `stream_logs`\n",
    "\n",
    "To stream logs to local during the remote function call, pass in `stream_logs=True` to the function call."
   ]
  },
  {
   "cell_type": "code",
   "execution_count": 21,
   "metadata": {
    "colab": {
     "base_uri": "https://localhost:8080/"
    },
    "id": "1vwVOSLMcd1n",
    "outputId": "e54ab648-bed6-4966-d632-f783d020fe7e"
   },
   "outputs": [
    {
     "name": "stdout",
     "output_type": "stream",
     "text": [
      "INFO | 2023-06-26 13:42:02,197 | Running getpid via HTTP\n",
      "INFO | 2023-06-26 13:42:02,444 | Submitted remote call to cluster for 20230626_134202\n",
      ":job_id:17000000\n",
      "INFO | 2023-06-26 17:42:02,530 | Loaded Runhouse config from /home/ubuntu/.rh/config.yaml\n",
      ":task_name:get_fn_from_pointers\n",
      "INFO | 2023-06-26 17:42:03,133 | Appending /home/ubuntu/runhouse/docs/notebooks/basics to sys.path\n",
      "INFO | 2023-06-26 17:42:03,133 | Importing module getpid_fn\n",
      ":job_id:17000000\n",
      ":task_name:get_fn_from_pointers\n",
      "INFO | 2023-06-26 13:42:03,014 | Time to call remote function: 0.82 seconds\n"
     ]
    },
    {
     "data": {
      "text/plain": [
       "185046"
      ]
     },
     "execution_count": 21,
     "metadata": {},
     "output_type": "execute_result"
    }
   ],
   "source": [
    "getpid_remote(stream_logs=True)"
   ]
  },
  {
   "attachments": {},
   "cell_type": "markdown",
   "metadata": {
    "id": "NJL0TXCnKvWr"
   },
   "source": [
    "Function logs are also automatically output onto a log file on cluster it is run on. You can refer to [Runhouse Logging Docs](https://runhouse-docs.readthedocs-hosted.com/en/latest/debugging_logging.html) for more information on accessing these logs."
   ]
  },
  {
   "attachments": {},
   "cell_type": "markdown",
   "metadata": {
    "id": "D38sOsnPP5V_"
   },
   "source": [
    "## Env + Packages"
   ]
  },
  {
   "attachments": {},
   "cell_type": "markdown",
   "metadata": {
    "id": "_9lns9sCZdt7"
   },
   "source": [
    "Our sample `getpid` function used only builtin Python dependencies, so we did not need to worry about the function environment.\n",
    "\n",
    "For more complex functions relying on external dependencies, Runhouse provides concepts for packages (individual dependencies/installations) and environments (group of packages or a conda env)."
   ]
  },
  {
   "attachments": {},
   "cell_type": "markdown",
   "metadata": {
    "id": "bMOrsBjTP9lk"
   },
   "source": [
    "### Package Types\n",
    "\n",
    "Runhouse supports `pip`, `conda`, `reqs` and `git` packages, which can be constructed in the following ways.\n",
    "\n",
    "Often times, if using Packages in the context of environments (Envs), you don't need to construct them yourself, but can just pass in the corresponding string, and Runhouse internals will handle the conversion and installation for you."
   ]
  },
  {
   "cell_type": "code",
   "execution_count": null,
   "metadata": {
    "id": "S7TtI1aS5JSj"
   },
   "outputs": [],
   "source": [
    "pip_package = rh.Package.from_string(\"pip:numpy\")\n",
    "conda_package = rh.Package.from_string(\"conda:torch\")\n",
    "reqs_package = rh.Package.from_string(\"reqs:./\")\n",
    "git_package = rh.GitPackage(git_url='https://github.com/huggingface/diffusers.git',\n",
    "                            install_method='pip',\n",
    "                            revision='v0.11.1')"
   ]
  },
  {
   "attachments": {},
   "cell_type": "markdown",
   "metadata": {
    "id": "E6eVhkQu6H6C"
   },
   "source": [
    "You can also send packages between local, remote, and file storage."
   ]
  },
  {
   "cell_type": "code",
   "execution_count": null,
   "metadata": {
    "id": "cRBA-30UWknH"
   },
   "outputs": [],
   "source": [
    "local_package = rh.Package.from_string(\"local/path/to/folder\")\n",
    "\n",
    "package_on_s3 = local_package.to(system=\"s3\", path=\"/s3/path/to/folder\")\n",
    "package_on_cluster = local_package.to(system=cluster)"
   ]
  },
  {
   "attachments": {},
   "cell_type": "markdown",
   "metadata": {
    "id": "Z65ZySQdQCaz"
   },
   "source": [
    "### Envs\n",
    "\n",
    "Envs, or environments, keep track of your package installs and corresponding versions. This allows for reproducible dev environments, and convenient dependency isolation and management."
   ]
  },
  {
   "attachments": {},
   "cell_type": "markdown",
   "metadata": {
    "id": "oaFnxpbZPOd2"
   },
   "source": [
    "#### Base Env\n",
    "\n",
    "The basic Env resource just consists of a list of Packages, or strings that represent the packages. You can additionally add any environment variables by providing a Dict or `.env` local file path, and also set the working directory to be synced over (defaults to base GitHub repo)."
   ]
  },
  {
   "cell_type": "code",
   "execution_count": null,
   "metadata": {
    "id": "fsCsZiOJ8GUZ"
   },
   "outputs": [],
   "source": [
    "env = rh.env(reqs=[\"numpy\", reqs_package, git_package], env_vars={\"USER\": \"*****\"})"
   ]
  },
  {
   "attachments": {},
   "cell_type": "markdown",
   "metadata": {
    "id": "eYaXVF2VZEnJ"
   },
   "source": [
    "When you send an environment object to a cluster, the environment is automatically set up (packages are installed) on the cluster."
   ]
  },
  {
   "cell_type": "code",
   "execution_count": null,
   "metadata": {
    "id": "5Mk8HKgFZe9M"
   },
   "outputs": [],
   "source": [
    "env_on_cluster = env.to(system=cluster)"
   ]
  },
  {
   "attachments": {},
   "cell_type": "markdown",
   "metadata": {
    "id": "pnZxyX9AQqw-"
   },
   "source": [
    "#### Conda Env\n",
    "\n",
    "The CondaEnv resource represents a Conda environment that can be used to set up reproducible Conda envs across clusters."
   ]
  },
  {
   "attachments": {},
   "cell_type": "markdown",
   "metadata": {
    "id": "m2fwlQ0gRZhT"
   },
   "source": [
    "There are several ways to construct a Runhouse CondaEnv object using `rh.conda_env`, by passing in any of the following into the `conda_env` parameter:\n",
    "\n",
    "1. A yaml file corresponding to a conda environment config\n",
    "2. A dict corresponding to a conda environment config\n",
    "3. Name of an existing conda env on your local machine\n",
    "4. Leaving the argument empty. In this case, we'll construct a new Conda environment for you, using the list you pass into `reqs`.\n",
    "\n",
    "\n",
    "Beyond the conda config, you can also add any additional requirements you'd like to install in the environment by adding `reqs = List[packages]`.\n"
   ]
  },
  {
   "cell_type": "code",
   "execution_count": null,
   "metadata": {
    "id": "Lz2BZAH0QqXK"
   },
   "outputs": [],
   "source": [
    "# 1. config yaml file\n",
    "conda_env = rh.conda_env(conda_env=\"conda_env.yml\", reqs=[\"numpy\", \"diffusers\"], name=\"yaml_env\")\n",
    "# 2. config dict\n",
    "conda_dict = {\"name\": \"conda_env\", \"channels\": [\"conda-forge\"], \"dependencies\": [\"python=3.10.0\"]}\n",
    "conda_env = rh.env(conda_env=conda_dict, name=\"dict_env\")\n",
    "# 3. local conda env\n",
    "conda_env = rh.conda_env(conda_env=\"local_conda_env\", name=\"from_local_env\")\n",
    "# 4. empty, construct from reqs\n",
    "conda_env = rh.conda_env(reqs=[\"numpy\", \"diffusers\"], name=\"new_env\")"
   ]
  },
  {
   "attachments": {},
   "cell_type": "markdown",
   "metadata": {
    "id": "NqHqsaGNTy14"
   },
   "source": [
    "As with the base env, we can set up a conda env on the cluster with:"
   ]
  },
  {
   "cell_type": "code",
   "execution_count": null,
   "metadata": {
    "id": "CBYx4X3oVMod"
   },
   "outputs": [],
   "source": [
    "conda_env_on_cluster = conda_env.to(system=cluster)"
   ]
  },
  {
   "attachments": {},
   "cell_type": "markdown",
   "metadata": {
    "id": "b2F9cAkYVRGL"
   },
   "source": [
    "Previously in the cluster section, we mentioned several cluster APIs such as running CLI or Python commands. These all run on the base environment in the examples above, but now that we've defined a Conda env, let's demonstrate how we can accomplish this inside a Conda env on the cluster:"
   ]
  },
  {
   "cell_type": "code",
   "execution_count": null,
   "metadata": {
    "id": "BEIQXjJKXYyx"
   },
   "outputs": [],
   "source": [
    "# run Python command within the conda env\n",
    "cluster.run_python(\"import diffusers\", 'print(diffusers.__version__)', env=conda_env)\n",
    "\n",
    "# install additional package on given env\n",
    "cluster.install_packages([\"pandas\"], env=conda_env)"
   ]
  },
  {
   "attachments": {},
   "cell_type": "markdown",
   "metadata": {
    "id": "Wc1W9n1S8HPy"
   },
   "source": [
    "## Putting it all together -- Cluster, Function, Env\n",
    "\n",
    "Now that we understand how clusters, functions, and packages/environments work, we can go on to implement more complex functions that require external dependencies, and seamlessly run them on a remote cluster."
   ]
  },
  {
   "cell_type": "code",
   "execution_count": null,
   "metadata": {
    "id": "M-msQEA0WmAv"
   },
   "outputs": [],
   "source": [
    "def add_lists(list_a, list_b):\n",
    "  import numpy as np\n",
    "\n",
    "  return np.add(np.array(list_a), np.array(list_b))"
   ]
  },
  {
   "attachments": {},
   "cell_type": "markdown",
   "metadata": {
    "id": "nAYAUXusa7Hk"
   },
   "source": [
    "Note that in the function defined, we include the import statement `import numpy as np` within the function. The import needs to be inside the function definition in notebook or interactive environments, but can be outside the function if being used in a Python script."
   ]
  },
  {
   "cell_type": "code",
   "execution_count": null,
   "metadata": {
    "id": "sRHEbdJvbrR2"
   },
   "outputs": [],
   "source": [
    "env = rh.env(reqs=[\"numpy\"])\n",
    "add_lists_remote = rh.function(fn=add_lists).to(system=cluster, env=env)\n",
    "\n",
    "list_a = [1, 2, 3]\n",
    "list_b = [2, 3, 4]\n",
    "add_lists_remote(list_a, list_b)"
   ]
  },
  {
   "attachments": {},
   "cell_type": "markdown",
   "metadata": {
    "id": "agWXh0XoYnUw"
   },
   "source": [
    "Now that you understand the basics, feel free to play around with more complicated scenarios! You can also check out our additional API and example usage tutorials on our [docs site](https://runhouse-docs.readthedocs-hosted.com/en/latest/index.html)."
   ]
  },
  {
   "attachments": {},
   "cell_type": "markdown",
   "metadata": {
    "id": "3Td4tq3e8NPS"
   },
   "source": [
    "## Cluster Termination\n",
    "\n",
    "To terminate the cluster, you can call `sky down cluster-name` in CLI or `cluster_obj.teardown()` in Python."
   ]
  },
  {
   "cell_type": "code",
   "execution_count": null,
   "metadata": {
    "colab": {
     "base_uri": "https://localhost:8080/"
    },
    "id": "QjrsEks-P7QE",
    "outputId": "8a1fdcd0-61d7-41db-a24f-cb86109497c4"
   },
   "outputs": [
    {
     "name": "stdout",
     "output_type": "stream",
     "text": [
      "Terminating 1 cluster: cpu-cluster. Proceed? [Y/n]: y\n",
      "\u001b[2K\u001b[1;36mTerminating 1 cluster\u001b[0m \u001b[90m━━━━━━━━━━━━━━━━━━━━━━━━━━━━━━━━━━━━━━━━\u001b[0m \u001b[35m  0%\u001b[0m \u001b[36m-:--:--\u001b[0m\n",
      "\u001b[1A\u001b[2K\u001b[32mTerminating cluster cpu-cluster...done.\u001b[0m\n",
      "\u001b[2K\u001b[1;36mTerminating 1 cluster\u001b[0m \u001b[90m━━━━━━━━━━━━━━━━━━━━━━━━━━━━━━━━━━━━━━━━\u001b[0m \u001b[35m100%\u001b[0m \u001b[36m0:00:00\u001b[0m\n",
      "\u001b[?25h\u001b[0m"
     ]
    }
   ],
   "source": [
    "!sky down cpu-cluster\n",
    "# or\n",
    "cluster.teardown()"
   ]
  }
 ],
 "metadata": {
  "colab": {
   "provenance": []
  },
  "kernelspec": {
   "display_name": "Python 3 (ipykernel)",
   "language": "python",
   "name": "python3"
  },
  "language_info": {
   "codemirror_mode": {
    "name": "ipython",
    "version": 3
   },
   "file_extension": ".py",
   "mimetype": "text/x-python",
   "name": "python",
   "nbconvert_exporter": "python",
   "pygments_lexer": "ipython3",
   "version": "3.9.15"
  }
 },
 "nbformat": 4,
 "nbformat_minor": 4
}
