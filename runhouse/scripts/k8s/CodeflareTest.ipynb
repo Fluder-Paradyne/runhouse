{
 "cells": [
  {
   "cell_type": "code",
   "execution_count": 1,
   "metadata": {},
   "outputs": [
    {
     "name": "stderr",
     "output_type": "stream",
     "text": [
      "2023-10-04 11:18:19,668\tINFO util.py:159 -- Missing packages: ['ipywidgets']. Run `pip install -U ipywidgets`, then restart the notebook server for rich notebook output.\n"
     ]
    }
   ],
   "source": [
    "import runhouse as rh"
   ]
  },
  {
   "cell_type": "code",
   "execution_count": 2,
   "metadata": {},
   "outputs": [],
   "source": [
    "cluster = rh.kubernetes_cluster(\n",
    "            provider=\"kubernetes\",\n",
    "            name=\"this-7\",\n",
    "            namespace=\"default\", \n",
    "            num_workers=1,\n",
    "            cpus=1,\n",
    "            memory=2,\n",
    "            num_gpus=0, \n",
    "            head_cpus=1,\n",
    "            head_memory=4,\n",
    "            \n",
    "        )"
   ]
  },
  {
   "cell_type": "code",
   "execution_count": 3,
   "metadata": {},
   "outputs": [
    {
     "name": "stdout",
     "output_type": "stream",
     "text": [
      "No instances found, nothing to be done.\n",
      "Written to: this-6.yaml\n",
      "Waiting for requested resources to be set up...\n"
     ]
    },
    {
     "name": "stderr",
     "output_type": "stream",
     "text": [
      "INFO | 2023-10-04 17:47:42.249743 | Restarting HTTP server on this-6.\n"
     ]
    },
    {
     "name": "stdout",
     "output_type": "stream",
     "text": [
      "Requested cluster is up and running!\n",
      "Found matching pod: this-6-head-6cdqj\n"
     ]
    },
    {
     "name": "stderr",
     "output_type": "stream",
     "text": [
      "Defaulted container \"ray-head\" out of: ray-head, create-cert (init)\n",
      "INFO | 2023-10-04 17:48:04.024539 | Running kubectl exec -n default this-6-head-6cdqj -- pip install ./runhouse && runhouse restart on this-6\n"
     ]
    },
    {
     "name": "stdout",
     "output_type": "stream",
     "text": [
      "Command Output on this-6:\n",
      "Processing ./runhouse\n",
      "  Preparing metadata (setup.py): started\n",
      "  Preparing metadata (setup.py): finished with status 'done'\n",
      "Requirement already satisfied: fastapi in ./anaconda3/lib/python3.8/site-packages (from runhouse==0.0.13) (0.101.0)\n",
      "Collecting fsspec<=2023.5.0 (from runhouse==0.0.13)\n",
      "  Downloading fsspec-2023.5.0-py3-none-any.whl (160 kB)\n",
      "     ━━━━━━━━━━━━━━━━━━━━━━━━━━━━━━━━━━━━━━ 160.1/160.1 kB 21.6 MB/s eta 0:00:00\n",
      "Requirement already satisfied: pyarrow in ./anaconda3/lib/python3.8/site-packages (from runhouse==0.0.13) (12.0.1)\n",
      "Requirement already satisfied: pyOpenSSL>=21.1.0 in ./anaconda3/lib/python3.8/site-packages (from runhouse==0.0.13) (22.1.0)\n",
      "Requirement already satisfied: rich in ./anaconda3/lib/python3.8/site-packages (from runhouse==0.0.13) (13.5.2)\n",
      "Collecting sentry-sdk (from runhouse==0.0.13)\n",
      "  Obtaining dependency information for sentry-sdk from https://files.pythonhosted.org/packages/62/3a/765a7699a26884dcbf8b071dbe2a2486cc1cafcfb5f5d2e64ffe745dd0c6/sentry_sdk-1.31.0-py2.py3-none-any.whl.metadata\n",
      "  Downloading sentry_sdk-1.31.0-py2.py3-none-any.whl.metadata (9.8 kB)\n",
      "Collecting skypilot==0.4.0 (from runhouse==0.0.13)\n",
      "  Obtaining dependency information for skypilot==0.4.0 from https://files.pythonhosted.org/packages/8b/d0/cb9dd7d7c3835d307f2d8f7568458ed8d9205ca38ad195c789f5d57a81cf/skypilot-0.4.0-py3-none-any.whl.metadata\n",
      "  Downloading skypilot-0.4.0-py3-none-any.whl.metadata (12 kB)\n",
      "Collecting sshfs (from runhouse==0.0.13)\n",
      "  Obtaining dependency information for sshfs from https://files.pythonhosted.org/packages/57/64/ec804e0afa50071ffa256ae0199a72825459d800655700b717f5dbc4efff/sshfs-2023.7.0-py3-none-any.whl.metadata\n",
      "  Downloading sshfs-2023.7.0-py3-none-any.whl.metadata (4.2 kB)\n",
      "Collecting sshtunnel>=0.3.0 (from runhouse==0.0.13)\n",
      "  Downloading sshtunnel-0.4.0-py2.py3-none-any.whl (24 kB)\n",
      "Requirement already satisfied: typer in ./anaconda3/lib/python3.8/site-packages (from runhouse==0.0.13) (0.9.0)\n",
      "Requirement already satisfied: uvicorn in ./anaconda3/lib/python3.8/site-packages (from runhouse==0.0.13) (0.23.2)\n",
      "Requirement already satisfied: wheel in ./anaconda3/lib/python3.8/site-packages (from runhouse==0.0.13) (0.37.1)\n",
      "Requirement already satisfied: click>=7.0 in ./anaconda3/lib/python3.8/site-packages (from skypilot==0.4.0->runhouse==0.0.13) (8.1.6)\n",
      "Collecting colorama<0.4.5 (from skypilot==0.4.0->runhouse==0.0.13)\n",
      "  Downloading colorama-0.4.4-py2.py3-none-any.whl (16 kB)\n",
      "Requirement already satisfied: cryptography in ./anaconda3/lib/python3.8/site-packages (from skypilot==0.4.0->runhouse==0.0.13) (38.0.1)\n",
      "Collecting jinja2>=3.0 (from skypilot==0.4.0->runhouse==0.0.13)\n",
      "  Downloading Jinja2-3.1.2-py3-none-any.whl (133 kB)\n",
      "     ━━━━━━━━━━━━━━━━━━━━━━━━━━━━━━━━━━━━━━ 133.1/133.1 kB 27.2 MB/s eta 0:00:00\n",
      "Requirement already satisfied: jsonschema in ./anaconda3/lib/python3.8/site-packages (from skypilot==0.4.0->runhouse==0.0.13) (4.19.0)\n",
      "Requirement already satisfied: networkx in ./anaconda3/lib/python3.8/site-packages (from skypilot==0.4.0->runhouse==0.0.13) (3.1)\n",
      "Requirement already satisfied: pandas in ./anaconda3/lib/python3.8/site-packages (from skypilot==0.4.0->runhouse==0.0.13) (2.0.3)\n",
      "Collecting pendulum (from skypilot==0.4.0->runhouse==0.0.13)\n",
      "  Downloading pendulum-2.1.2-cp38-cp38-manylinux1_x86_64.whl (155 kB)\n",
      "     ━━━━━━━━━━━━━━━━━━━━━━━━━━━━━━━━━━━━━━ 155.7/155.7 kB 43.5 MB/s eta 0:00:00\n",
      "Collecting PrettyTable>=2.0.0 (from skypilot==0.4.0->runhouse==0.0.13)\n",
      "  Obtaining dependency information for PrettyTable>=2.0.0 from https://files.pythonhosted.org/packages/4d/81/316b6a55a0d1f327d04cc7b0ba9d04058cb62de6c3a4d4b0df280cbe3b0b/prettytable-3.9.0-py3-none-any.whl.metadata\n",
      "  Downloading prettytable-3.9.0-py3-none-any.whl.metadata (26 kB)\n",
      "Collecting python-dotenv (from skypilot==0.4.0->runhouse==0.0.13)\n",
      "  Downloading python_dotenv-1.0.0-py3-none-any.whl (19 kB)\n",
      "Requirement already satisfied: ray[default]!=2.6.0,<=2.6.3,>=2.2.0 in ./anaconda3/lib/python3.8/site-packages (from skypilot==0.4.0->runhouse==0.0.13) (2.6.3)\n",
      "Requirement already satisfied: tabulate in ./anaconda3/lib/python3.8/site-packages (from skypilot==0.4.0->runhouse==0.0.13) (0.9.0)\n",
      "Requirement already satisfied: filelock>=3.6.0 in ./anaconda3/lib/python3.8/site-packages (from skypilot==0.4.0->runhouse==0.0.13) (3.12.2)\n",
      "Requirement already satisfied: packaging in ./anaconda3/lib/python3.8/site-packages (from skypilot==0.4.0->runhouse==0.0.13) (21.3)\n",
      "Requirement already satisfied: protobuf!=3.19.5,>=3.15.3 in ./anaconda3/lib/python3.8/site-packages (from skypilot==0.4.0->runhouse==0.0.13) (4.24.0)\n",
      "Requirement already satisfied: psutil in ./anaconda3/lib/python3.8/site-packages (from skypilot==0.4.0->runhouse==0.0.13) (5.9.5)\n",
      "Collecting pulp (from skypilot==0.4.0->runhouse==0.0.13)\n",
      "  Downloading PuLP-2.7.0-py3-none-any.whl (14.3 MB)\n",
      "     ━━━━━━━━━━━━━━━━━━━━━━━━━━━━━━━━━━━━━━━ 14.3/14.3 MB 105.4 MB/s eta 0:00:00\n",
      "Requirement already satisfied: pydantic<2.0,>=1.10.8 in ./anaconda3/lib/python3.8/site-packages (from skypilot==0.4.0->runhouse==0.0.13) (1.10.12)\n",
      "Requirement already satisfied: pyyaml!=5.4.*,>3.13 in ./anaconda3/lib/python3.8/site-packages (from skypilot==0.4.0->runhouse==0.0.13) (6.0.1)\n",
      "Requirement already satisfied: urllib3<2 in ./anaconda3/lib/python3.8/site-packages (from skypilot==0.4.0->runhouse==0.0.13) (1.25.8)\n",
      "Collecting awscli>=1.27.10 (from skypilot==0.4.0->runhouse==0.0.13)\n",
      "  Obtaining dependency information for awscli>=1.27.10 from https://files.pythonhosted.org/packages/ad/45/3a4ee2a246ec9e38b1b955bb27f37a6f256dbfa2749bc14445e919df067b/awscli-1.29.59-py3-none-any.whl.metadata\n",
      "  Downloading awscli-1.29.59-py3-none-any.whl.metadata (11 kB)\n",
      "Requirement already satisfied: botocore>=1.29.10 in ./anaconda3/lib/python3.8/site-packages (from skypilot==0.4.0->runhouse==0.0.13) (1.29.165)\n",
      "Requirement already satisfied: boto3>=1.26.1 in ./anaconda3/lib/python3.8/site-packages (from skypilot==0.4.0->runhouse==0.0.13) (1.26.76)\n",
      "Collecting grpcio!=1.48.0,<=1.51.3,>=1.32.0 (from skypilot==0.4.0->runhouse==0.0.13)\n",
      "  Downloading grpcio-1.51.3-cp38-cp38-manylinux_2_17_x86_64.manylinux2014_x86_64.whl (4.8 MB)\n",
      "     ━━━━━━━━━━━━━━━━━━━━━━━━━━━━━━━━━━━━━━━━ 4.8/4.8 MB 142.5 MB/s eta 0:00:00\n",
      "Requirement already satisfied: paramiko>=2.7.2 in ./anaconda3/lib/python3.8/site-packages (from sshtunnel>=0.3.0->runhouse==0.0.13) (2.12.0)\n",
      "Requirement already satisfied: starlette<0.28.0,>=0.27.0 in ./anaconda3/lib/python3.8/site-packages (from fastapi->runhouse==0.0.13) (0.27.0)\n",
      "Requirement already satisfied: typing-extensions>=4.5.0 in ./anaconda3/lib/python3.8/site-packages (from fastapi->runhouse==0.0.13) (4.7.1)\n",
      "Requirement already satisfied: numpy>=1.16.6 in ./anaconda3/lib/python3.8/site-packages (from pyarrow->runhouse==0.0.13) (1.24.4)\n",
      "Requirement already satisfied: markdown-it-py>=2.2.0 in ./anaconda3/lib/python3.8/site-packages (from rich->runhouse==0.0.13) (3.0.0)\n",
      "Requirement already satisfied: pygments<3.0.0,>=2.13.0 in ./anaconda3/lib/python3.8/site-packages (from rich->runhouse==0.0.13) (2.16.1)\n",
      "Requirement already satisfied: certifi in ./anaconda3/lib/python3.8/site-packages (from sentry-sdk->runhouse==0.0.13) (2023.7.22)\n",
      "Collecting urllib3<2 (from skypilot==0.4.0->runhouse==0.0.13)\n",
      "  Obtaining dependency information for urllib3<2 from https://files.pythonhosted.org/packages/48/fe/a5c6cc46e9fe9171d7ecf0f33ee7aae14642f8d74baa7af4d7840f9358be/urllib3-1.26.17-py2.py3-none-any.whl.metadata\n",
      "  Downloading urllib3-1.26.17-py2.py3-none-any.whl.metadata (48 kB)\n",
      "     ━━━━━━━━━━━━━━━━━━━━━━━━━━━━━━━━━━━━━━━━ 48.7/48.7 kB 18.6 MB/s eta 0:00:00\n",
      "Collecting asyncssh<3,>=2.11.0 (from sshfs->runhouse==0.0.13)\n",
      "  Obtaining dependency information for asyncssh<3,>=2.11.0 from https://files.pythonhosted.org/packages/da/2d/153462da9ded3e63060be8c282276023d376f2846d2f22fb3519ddf524cc/asyncssh-2.14.0-py3-none-any.whl.metadata\n",
      "  Downloading asyncssh-2.14.0-py3-none-any.whl.metadata (9.8 kB)\n",
      "Requirement already satisfied: h11>=0.8 in ./anaconda3/lib/python3.8/site-packages (from uvicorn->runhouse==0.0.13) (0.14.0)\n",
      "INFO: pip is looking at multiple versions of asyncssh to determine which version is compatible with other requirements. This could take a while.\n",
      "  Obtaining dependency information for asyncssh<3,>=2.11.0 from https://files.pythonhosted.org/packages/c8/82/df5365b647cabf9f0f77135b7d7e845c14c6016f8f320b2a172ffe7e9af3/asyncssh-2.13.2-py3-none-any.whl.metadata\n",
      "  Downloading asyncssh-2.13.2-py3-none-any.whl.metadata (9.8 kB)\n",
      "Collecting botocore>=1.29.10 (from skypilot==0.4.0->runhouse==0.0.13)\n",
      "  Obtaining dependency information for botocore>=1.29.10 from https://files.pythonhosted.org/packages/90/4c/864b051e7227178fd90f663c667d2483503ca129ed30b26860bcd1d3ea71/botocore-1.31.59-py3-none-any.whl.metadata\n",
      "  Downloading botocore-1.31.59-py3-none-any.whl.metadata (6.0 kB)\n",
      "Collecting docutils<0.17,>=0.10 (from awscli>=1.27.10->skypilot==0.4.0->runhouse==0.0.13)\n",
      "  Downloading docutils-0.16-py2.py3-none-any.whl (548 kB)\n",
      "     ━━━━━━━━━━━━━━━━━━━━━━━━━━━━━━━━━━━━━ 548.2/548.2 kB 106.7 MB/s eta 0:00:00\n",
      "Collecting s3transfer<0.8.0,>=0.7.0 (from awscli>=1.27.10->skypilot==0.4.0->runhouse==0.0.13)\n",
      "  Obtaining dependency information for s3transfer<0.8.0,>=0.7.0 from https://files.pythonhosted.org/packages/5a/4b/fec9ce18f8874a96c5061422625ba86c3ee1e6587ccd92ff9f5bf7bd91b2/s3transfer-0.7.0-py3-none-any.whl.metadata\n",
      "  Downloading s3transfer-0.7.0-py3-none-any.whl.metadata (1.8 kB)\n",
      "Collecting rsa<4.8,>=3.1.2 (from awscli>=1.27.10->skypilot==0.4.0->runhouse==0.0.13)\n",
      "  Downloading rsa-4.7.2-py3-none-any.whl (34 kB)\n",
      "Requirement already satisfied: jmespath<2.0.0,>=0.7.1 in ./anaconda3/lib/python3.8/site-packages (from botocore>=1.29.10->skypilot==0.4.0->runhouse==0.0.13) (1.0.1)\n",
      "Requirement already satisfied: python-dateutil<3.0.0,>=2.1 in ./anaconda3/lib/python3.8/site-packages (from botocore>=1.29.10->skypilot==0.4.0->runhouse==0.0.13) (2.8.2)\n",
      "INFO: pip is looking at multiple versions of boto3 to determine which version is compatible with other requirements. This could take a while.\n",
      "Collecting boto3>=1.26.1 (from skypilot==0.4.0->runhouse==0.0.13)\n",
      "  Obtaining dependency information for boto3>=1.26.1 from https://files.pythonhosted.org/packages/88/a3/e63a11c957c1e2a901d13f3ddc2acba2d0db8a7bcbac2e3f5b06aab0c6de/boto3-1.28.59-py3-none-any.whl.metadata\n",
      "  Downloading boto3-1.28.59-py3-none-any.whl.metadata (6.7 kB)\n",
      "Requirement already satisfied: cffi>=1.12 in ./anaconda3/lib/python3.8/site-packages (from cryptography->skypilot==0.4.0->runhouse==0.0.13) (1.15.1)\n",
      "Collecting MarkupSafe>=2.0 (from jinja2>=3.0->skypilot==0.4.0->runhouse==0.0.13)\n",
      "  Obtaining dependency information for MarkupSafe>=2.0 from https://files.pythonhosted.org/packages/de/e2/32c14301bb023986dff527a49325b6259cab4ebb4633f69de54af312fc45/MarkupSafe-2.1.3-cp38-cp38-manylinux_2_17_x86_64.manylinux2014_x86_64.whl.metadata\n",
      "  Downloading MarkupSafe-2.1.3-cp38-cp38-manylinux_2_17_x86_64.manylinux2014_x86_64.whl.metadata (3.0 kB)\n",
      "Requirement already satisfied: mdurl~=0.1 in ./anaconda3/lib/python3.8/site-packages (from markdown-it-py>=2.2.0->rich->runhouse==0.0.13) (0.1.2)\n",
      "Requirement already satisfied: bcrypt>=3.1.3 in ./anaconda3/lib/python3.8/site-packages (from paramiko>=2.7.2->sshtunnel>=0.3.0->runhouse==0.0.13) (4.0.1)\n",
      "Requirement already satisfied: pynacl>=1.0.1 in ./anaconda3/lib/python3.8/site-packages (from paramiko>=2.7.2->sshtunnel>=0.3.0->runhouse==0.0.13) (1.5.0)\n",
      "Requirement already satisfied: six in ./anaconda3/lib/python3.8/site-packages (from paramiko>=2.7.2->sshtunnel>=0.3.0->runhouse==0.0.13) (1.13.0)\n",
      "Requirement already satisfied: wcwidth in ./anaconda3/lib/python3.8/site-packages (from PrettyTable>=2.0.0->skypilot==0.4.0->runhouse==0.0.13) (0.2.6)\n",
      "Requirement already satisfied: msgpack<2.0.0,>=1.0.0 in ./anaconda3/lib/python3.8/site-packages (from ray[default]!=2.6.0,<=2.6.3,>=2.2.0->skypilot==0.4.0->runhouse==0.0.13) (1.0.5)\n",
      "Requirement already satisfied: aiosignal in ./anaconda3/lib/python3.8/site-packages (from ray[default]!=2.6.0,<=2.6.3,>=2.2.0->skypilot==0.4.0->runhouse==0.0.13) (1.3.1)\n",
      "Requirement already satisfied: frozenlist in ./anaconda3/lib/python3.8/site-packages (from ray[default]!=2.6.0,<=2.6.3,>=2.2.0->skypilot==0.4.0->runhouse==0.0.13) (1.4.0)\n",
      "Requirement already satisfied: requests in ./anaconda3/lib/python3.8/site-packages (from ray[default]!=2.6.0,<=2.6.3,>=2.2.0->skypilot==0.4.0->runhouse==0.0.13) (2.31.0)\n",
      "Requirement already satisfied: aiohttp>=3.7 in ./anaconda3/lib/python3.8/site-packages (from ray[default]!=2.6.0,<=2.6.3,>=2.2.0->skypilot==0.4.0->runhouse==0.0.13) (3.8.5)\n",
      "Requirement already satisfied: aiohttp-cors in ./anaconda3/lib/python3.8/site-packages (from ray[default]!=2.6.0,<=2.6.3,>=2.2.0->skypilot==0.4.0->runhouse==0.0.13) (0.7.0)\n",
      "Requirement already satisfied: colorful in ./anaconda3/lib/python3.8/site-packages (from ray[default]!=2.6.0,<=2.6.3,>=2.2.0->skypilot==0.4.0->runhouse==0.0.13) (0.5.5)\n",
      "Requirement already satisfied: py-spy>=0.2.0 in ./anaconda3/lib/python3.8/site-packages (from ray[default]!=2.6.0,<=2.6.3,>=2.2.0->skypilot==0.4.0->runhouse==0.0.13) (0.3.14)\n",
      "Requirement already satisfied: gpustat>=1.0.0 in ./anaconda3/lib/python3.8/site-packages (from ray[default]!=2.6.0,<=2.6.3,>=2.2.0->skypilot==0.4.0->runhouse==0.0.13) (1.1)\n",
      "Requirement already satisfied: opencensus in ./anaconda3/lib/python3.8/site-packages (from ray[default]!=2.6.0,<=2.6.3,>=2.2.0->skypilot==0.4.0->runhouse==0.0.13) (0.11.2)\n",
      "Requirement already satisfied: prometheus-client>=0.7.1 in ./anaconda3/lib/python3.8/site-packages (from ray[default]!=2.6.0,<=2.6.3,>=2.2.0->skypilot==0.4.0->runhouse==0.0.13) (0.17.1)\n",
      "Requirement already satisfied: smart-open in ./anaconda3/lib/python3.8/site-packages (from ray[default]!=2.6.0,<=2.6.3,>=2.2.0->skypilot==0.4.0->runhouse==0.0.13) (6.3.0)\n",
      "Requirement already satisfied: virtualenv<20.21.1,>=20.0.24 in ./anaconda3/lib/python3.8/site-packages (from ray[default]!=2.6.0,<=2.6.3,>=2.2.0->skypilot==0.4.0->runhouse==0.0.13) (20.21.0)\n",
      "Requirement already satisfied: anyio<5,>=3.4.0 in ./anaconda3/lib/python3.8/site-packages (from starlette<0.28.0,>=0.27.0->fastapi->runhouse==0.0.13) (3.7.1)\n",
      "Requirement already satisfied: attrs>=22.2.0 in ./anaconda3/lib/python3.8/site-packages (from jsonschema->skypilot==0.4.0->runhouse==0.0.13) (23.1.0)\n",
      "Requirement already satisfied: importlib-resources>=1.4.0 in ./anaconda3/lib/python3.8/site-packages (from jsonschema->skypilot==0.4.0->runhouse==0.0.13) (6.0.1)\n",
      "Requirement already satisfied: jsonschema-specifications>=2023.03.6 in ./anaconda3/lib/python3.8/site-packages (from jsonschema->skypilot==0.4.0->runhouse==0.0.13) (2023.7.1)\n",
      "Requirement already satisfied: pkgutil-resolve-name>=1.3.10 in ./anaconda3/lib/python3.8/site-packages (from jsonschema->skypilot==0.4.0->runhouse==0.0.13) (1.3.10)\n",
      "Requirement already satisfied: referencing>=0.28.4 in ./anaconda3/lib/python3.8/site-packages (from jsonschema->skypilot==0.4.0->runhouse==0.0.13) (0.30.2)\n",
      "Requirement already satisfied: rpds-py>=0.7.1 in ./anaconda3/lib/python3.8/site-packages (from jsonschema->skypilot==0.4.0->runhouse==0.0.13) (0.9.2)\n",
      "Requirement already satisfied: pyparsing!=3.0.5,>=2.0.2 in ./anaconda3/lib/python3.8/site-packages (from packaging->skypilot==0.4.0->runhouse==0.0.13) (3.1.1)\n",
      "Requirement already satisfied: pytz>=2020.1 in ./anaconda3/lib/python3.8/site-packages (from pandas->skypilot==0.4.0->runhouse==0.0.13) (2023.3)\n",
      "Requirement already satisfied: tzdata>=2022.1 in ./anaconda3/lib/python3.8/site-packages (from pandas->skypilot==0.4.0->runhouse==0.0.13) (2023.3)\n",
      "Collecting pytzdata>=2020.1 (from pendulum->skypilot==0.4.0->runhouse==0.0.13)\n",
      "  Downloading pytzdata-2020.1-py2.py3-none-any.whl (489 kB)\n",
      "     ━━━━━━━━━━━━━━━━━━━━━━━━━━━━━━━━━━━━━━ 490.0/490.0 kB 79.4 MB/s eta 0:00:00\n",
      "Requirement already satisfied: charset-normalizer<4.0,>=2.0 in ./anaconda3/lib/python3.8/site-packages (from aiohttp>=3.7->ray[default]!=2.6.0,<=2.6.3,>=2.2.0->skypilot==0.4.0->runhouse==0.0.13) (2.0.4)\n",
      "Requirement already satisfied: multidict<7.0,>=4.5 in ./anaconda3/lib/python3.8/site-packages (from aiohttp>=3.7->ray[default]!=2.6.0,<=2.6.3,>=2.2.0->skypilot==0.4.0->runhouse==0.0.13) (6.0.4)\n",
      "Requirement already satisfied: async-timeout<5.0,>=4.0.0a3 in ./anaconda3/lib/python3.8/site-packages (from aiohttp>=3.7->ray[default]!=2.6.0,<=2.6.3,>=2.2.0->skypilot==0.4.0->runhouse==0.0.13) (4.0.2)\n",
      "Requirement already satisfied: yarl<2.0,>=1.0 in ./anaconda3/lib/python3.8/site-packages (from aiohttp>=3.7->ray[default]!=2.6.0,<=2.6.3,>=2.2.0->skypilot==0.4.0->runhouse==0.0.13) (1.9.2)\n",
      "Requirement already satisfied: idna>=2.8 in ./anaconda3/lib/python3.8/site-packages (from anyio<5,>=3.4.0->starlette<0.28.0,>=0.27.0->fastapi->runhouse==0.0.13) (3.4)\n",
      "Requirement already satisfied: sniffio>=1.1 in ./anaconda3/lib/python3.8/site-packages (from anyio<5,>=3.4.0->starlette<0.28.0,>=0.27.0->fastapi->runhouse==0.0.13) (1.3.0)\n",
      "Requirement already satisfied: exceptiongroup in ./anaconda3/lib/python3.8/site-packages (from anyio<5,>=3.4.0->starlette<0.28.0,>=0.27.0->fastapi->runhouse==0.0.13) (1.1.2)\n",
      "Requirement already satisfied: pycparser in ./anaconda3/lib/python3.8/site-packages (from cffi>=1.12->cryptography->skypilot==0.4.0->runhouse==0.0.13) (2.21)\n",
      "Requirement already satisfied: nvidia-ml-py>=11.450.129 in ./anaconda3/lib/python3.8/site-packages (from gpustat>=1.0.0->ray[default]!=2.6.0,<=2.6.3,>=2.2.0->skypilot==0.4.0->runhouse==0.0.13) (12.535.77)\n",
      "Requirement already satisfied: blessed>=1.17.1 in ./anaconda3/lib/python3.8/site-packages (from gpustat>=1.0.0->ray[default]!=2.6.0,<=2.6.3,>=2.2.0->skypilot==0.4.0->runhouse==0.0.13) (1.20.0)\n",
      "Requirement already satisfied: zipp>=3.1.0 in ./anaconda3/lib/python3.8/site-packages (from importlib-resources>=1.4.0->jsonschema->skypilot==0.4.0->runhouse==0.0.13) (3.11.0)\n",
      "Requirement already satisfied: pyasn1>=0.1.3 in ./anaconda3/lib/python3.8/site-packages (from rsa<4.8,>=3.1.2->awscli>=1.27.10->skypilot==0.4.0->runhouse==0.0.13) (0.5.0)\n",
      "Requirement already satisfied: distlib<1,>=0.3.6 in ./anaconda3/lib/python3.8/site-packages (from virtualenv<20.21.1,>=20.0.24->ray[default]!=2.6.0,<=2.6.3,>=2.2.0->skypilot==0.4.0->runhouse==0.0.13) (0.3.7)\n",
      "Requirement already satisfied: platformdirs<4,>=2.4 in ./anaconda3/lib/python3.8/site-packages (from virtualenv<20.21.1,>=20.0.24->ray[default]!=2.6.0,<=2.6.3,>=2.2.0->skypilot==0.4.0->runhouse==0.0.13) (3.10.0)\n",
      "Requirement already satisfied: opencensus-context>=0.1.3 in ./anaconda3/lib/python3.8/site-packages (from opencensus->ray[default]!=2.6.0,<=2.6.3,>=2.2.0->skypilot==0.4.0->runhouse==0.0.13) (0.1.3)\n",
      "Requirement already satisfied: google-api-core<3.0.0,>=1.0.0 in ./anaconda3/lib/python3.8/site-packages (from opencensus->ray[default]!=2.6.0,<=2.6.3,>=2.2.0->skypilot==0.4.0->runhouse==0.0.13) (2.11.1)\n",
      "Requirement already satisfied: googleapis-common-protos<2.0.dev0,>=1.56.2 in ./anaconda3/lib/python3.8/site-packages (from google-api-core<3.0.0,>=1.0.0->opencensus->ray[default]!=2.6.0,<=2.6.3,>=2.2.0->skypilot==0.4.0->runhouse==0.0.13) (1.60.0)\n",
      "Requirement already satisfied: google-auth<3.0.dev0,>=2.14.1 in ./anaconda3/lib/python3.8/site-packages (from google-api-core<3.0.0,>=1.0.0->opencensus->ray[default]!=2.6.0,<=2.6.3,>=2.2.0->skypilot==0.4.0->runhouse==0.0.13) (2.22.0)\n",
      "Requirement already satisfied: cachetools<6.0,>=2.0.0 in ./anaconda3/lib/python3.8/site-packages (from google-auth<3.0.dev0,>=2.14.1->google-api-core<3.0.0,>=1.0.0->opencensus->ray[default]!=2.6.0,<=2.6.3,>=2.2.0->skypilot==0.4.0->runhouse==0.0.13) (5.3.1)\n",
      "Requirement already satisfied: pyasn1-modules>=0.2.1 in ./anaconda3/lib/python3.8/site-packages (from google-auth<3.0.dev0,>=2.14.1->google-api-core<3.0.0,>=1.0.0->opencensus->ray[default]!=2.6.0,<=2.6.3,>=2.2.0->skypilot==0.4.0->runhouse==0.0.13) (0.3.0)\n",
      "Downloading skypilot-0.4.0-py3-none-any.whl (703 kB)\n",
      "   ━━━━━━━━━━━━━━━━━━━━━━━━━━━━━━━━━━━━━━━ 703.4/703.4 kB 111.7 MB/s eta 0:00:00\n",
      "Downloading sentry_sdk-1.31.0-py2.py3-none-any.whl (224 kB)\n",
      "   ━━━━━━━━━━━━━━━━━━━━━━━━━━━━━━━━━━━━━━━━ 224.8/224.8 kB 61.5 MB/s eta 0:00:00\n",
      "Downloading sshfs-2023.7.0-py3-none-any.whl (15 kB)\n",
      "Downloading asyncssh-2.13.2-py3-none-any.whl (349 kB)\n",
      "   ━━━━━━━━━━━━━━━━━━━━━━━━━━━━━━━━━━━━━━━━ 349.3/349.3 kB 84.3 MB/s eta 0:00:00\n",
      "Downloading awscli-1.29.59-py3-none-any.whl (4.3 MB)\n",
      "   ━━━━━━━━━━━━━━━━━━━━━━━━━━━━━━━━━━━━━━━━ 4.3/4.3 MB 158.9 MB/s eta 0:00:00\n",
      "Downloading botocore-1.31.59-py3-none-any.whl (11.2 MB)\n",
      "   ━━━━━━━━━━━━━━━━━━━━━━━━━━━━━━━━━━━━━━━━ 11.2/11.2 MB 148.4 MB/s eta 0:00:00\n",
      "Downloading boto3-1.28.59-py3-none-any.whl (135 kB)\n",
      "   ━━━━━━━━━━━━━━━━━━━━━━━━━━━━━━━━━━━━━━━━ 135.8/135.8 kB 50.3 MB/s eta 0:00:00\n",
      "Downloading prettytable-3.9.0-py3-none-any.whl (27 kB)\n",
      "Downloading urllib3-1.26.17-py2.py3-none-any.whl (143 kB)\n",
      "   ━━━━━━━━━━━━━━━━━━━━━━━━━━━━━━━━━━━━━━━━ 143.4/143.4 kB 47.4 MB/s eta 0:00:00\n",
      "Downloading MarkupSafe-2.1.3-cp38-cp38-manylinux_2_17_x86_64.manylinux2014_x86_64.whl (25 kB)\n",
      "Downloading s3transfer-0.7.0-py3-none-any.whl (79 kB)\n",
      "   ━━━━━━━━━━━━━━━━━━━━━━━━━━━━━━━━━━━━━━━━ 79.8/79.8 kB 32.4 MB/s eta 0:00:00\n",
      "Building wheels for collected packages: runhouse\n",
      "  Building wheel for runhouse (setup.py): started\n",
      "  Building wheel for runhouse (setup.py): finished with status 'done'\n",
      "  Created wheel for runhouse: filename=runhouse-0.0.13-py3-none-any.whl size=187340 sha256=fcca5251a31dc07f3520b220b788dcbe2410861cae3f9dd70f8c0579be60e62c\n",
      "  Stored in directory: /tmp/pip-ephem-wheel-cache-d8u3osdf/wheels/dc/ec/b2/92a925e11e421fd2ad876279404002ddf83049b993ca2219bc\n",
      "Successfully built runhouse\n",
      "Installing collected packages: pulp, urllib3, rsa, pytzdata, python-dotenv, PrettyTable, MarkupSafe, grpcio, fsspec, docutils, colorama, sentry-sdk, pendulum, jinja2, botocore, s3transfer, asyncssh, sshtunnel, sshfs, boto3, awscli, skypilot, runhouse\n",
      "  Attempting uninstall: urllib3\n",
      "    Found existing installation: urllib3 1.25.8\n",
      "    Uninstalling urllib3-1.25.8:\n",
      "      Successfully uninstalled urllib3-1.25.8\n",
      "  Attempting uninstall: rsa\n",
      "    Found existing installation: rsa 4.9\n",
      "    Uninstalling rsa-4.9:\n",
      "      Successfully uninstalled rsa-4.9\n",
      "  Attempting uninstall: grpcio\n",
      "    Found existing installation: grpcio 1.56.2\n",
      "    Uninstalling grpcio-1.56.2:\n",
      "      Successfully uninstalled grpcio-1.56.2\n",
      "  Attempting uninstall: fsspec\n",
      "    Found existing installation: fsspec 2023.6.0\n",
      "    Uninstalling fsspec-2023.6.0:\n",
      "      Successfully uninstalled fsspec-2023.6.0\n",
      "  Attempting uninstall: botocore\n",
      "    Found existing installation: botocore 1.29.165\n",
      "    Uninstalling botocore-1.29.165:\n",
      "      Successfully uninstalled botocore-1.29.165\n",
      "  Attempting uninstall: s3transfer\n",
      "    Found existing installation: s3transfer 0.6.1\n",
      "    Uninstalling s3transfer-0.6.1:\n",
      "      Successfully uninstalled s3transfer-0.6.1\n",
      "  Attempting uninstall: boto3\n",
      "    Found existing installation: boto3 1.26.76\n",
      "    Uninstalling boto3-1.26.76:\n",
      "      Successfully uninstalled boto3-1.26.76\n",
      "Successfully installed MarkupSafe-2.1.3 PrettyTable-3.9.0 asyncssh-2.13.2 awscli-1.29.59 boto3-1.28.59 botocore-1.31.59 colorama-0.4.4 docutils-0.16 fsspec-2023.5.0 grpcio-1.51.3 jinja2-3.1.2 pendulum-2.1.2 pulp-2.7.0 python-dotenv-1.0.0 pytzdata-2020.1 rsa-4.7.2 runhouse-0.0.13 s3transfer-0.7.0 sentry-sdk-1.31.0 skypilot-0.4.0 sshfs-2023.7.0 sshtunnel-0.4.0 urllib3-1.26.17\n",
      "Executing `pkill -f \u001b[32m\"/Users/rohansreerama/anaconda3/envs/cf_test_2/bin/python -m\u001b[0m\n",
      "\u001b[32mrunhouse.servers.http.http_server\"\u001b[0m`\n",
      "Executing `pkill -f \u001b[32m\".*ray.*6379.*\"\u001b[0m`\n",
      "Executing `ray start --head --port \u001b[1;36m6379\u001b[0m`\n",
      "2023-10-04 10:48:17,066\tINFO usage_lib.py:412 -- Usage stats collection is enabled. To disable this, add `--disable-usage-stats` to the command that starts the cluster, or run the following command: `ray disable-usage-stats` before starting the cluster. See https://docs.ray.io/en/master/cluster/usage-stats.html for more details.\n",
      "2023-10-04 10:48:17,066\tINFO scripts.py:722 -- \u001b[37mLocal node IP\u001b[39m: \u001b[1m127.0.0.1\u001b[22m\n",
      "2023-10-04 10:48:18,748\tSUCC scripts.py:759 -- \u001b[32m--------------------\u001b[39m\n",
      "2023-10-04 10:48:18,748\tSUCC scripts.py:760 -- \u001b[32mRay runtime started.\u001b[39m\n",
      "2023-10-04 10:48:18,748\tSUCC scripts.py:761 -- \u001b[32m--------------------\u001b[39m\n",
      "2023-10-04 10:48:18,748\tINFO scripts.py:763 -- \u001b[36mNext steps\u001b[39m\n",
      "2023-10-04 10:48:18,748\tINFO scripts.py:778 -- To connect to this Ray cluster:\n",
      "2023-10-04 10:48:18,748\tINFO scripts.py:780 -- \u001b[35mimport\u001b[39m\u001b[26m ray\n",
      "2023-10-04 10:48:18,748\tINFO scripts.py:781 -- ray\u001b[35m.\u001b[39m\u001b[26minit()\n",
      "2023-10-04 10:48:18,748\tINFO scripts.py:793 -- To submit a Ray job using the Ray Jobs CLI:\n",
      "2023-10-04 10:48:18,748\tINFO scripts.py:794 -- \u001b[1m  RAY_ADDRESS='http://127.0.0.1:8265' ray job submit --working-dir . -- python my_script.py\u001b[22m\n",
      "2023-10-04 10:48:18,748\tINFO scripts.py:803 -- See https://docs.ray.io/en/latest/cluster/running-applications/job-submission/index.html \n",
      "2023-10-04 10:48:18,748\tINFO scripts.py:807 -- for more information on submitting Ray jobs to the Ray cluster.\n",
      "2023-10-04 10:48:18,748\tINFO scripts.py:812 -- To terminate the Ray runtime, run\n",
      "2023-10-04 10:48:18,748\tINFO scripts.py:813 -- \u001b[1m  ray stop\u001b[22m\n",
      "2023-10-04 10:48:18,748\tINFO scripts.py:816 -- To view the status of the cluster, use\n",
      "2023-10-04 10:48:18,748\tINFO scripts.py:817 --   \u001b[1mray status\u001b[22m\u001b[26m\n",
      "2023-10-04 10:48:18,748\tINFO scripts.py:821 -- To monitor and debug Ray, view the dashboard at \n",
      "2023-10-04 10:48:18,748\tINFO scripts.py:822 --   \u001b[1m127.0.0.1:8265\u001b[22m\u001b[26m\n",
      "2023-10-04 10:48:18,748\tINFO scripts.py:829 -- \u001b[4mIf connection to the dashboard fails, check your firewall settings and network configuration.\u001b[24m\n",
      "Executing `screen -dm bash -c \n",
      "\u001b[32m\"/Users/rohansreerama/anaconda3/envs/cf_test_2/bin/python -m \u001b[0m\n",
      "\u001b[32mrunhouse.servers.http.http_server |& tee -a \u001b[0m\n",
      "\u001b[32m'/Users/rohansreerama/.rh/server.log' 2>&1\"\u001b[0m`\n",
      "\n"
     ]
    },
    {
     "data": {
      "text/plain": [
       "<runhouse.resources.hardware.kubernetes_cluster.KubernetesCluster at 0x1364b56a0>"
      ]
     },
     "execution_count": 3,
     "metadata": {},
     "output_type": "execute_result"
    }
   ],
   "source": [
    "cluster.up_if_not()"
   ]
  },
  {
   "cell_type": "code",
   "execution_count": 3,
   "metadata": {},
   "outputs": [],
   "source": [
    "def num_cpus():\n",
    "    import multiprocessing\n",
    "    return f\"Num cpus: {multiprocessing.cpu_count()}\""
   ]
  },
  {
   "cell_type": "code",
   "execution_count": 4,
   "metadata": {},
   "outputs": [
    {
     "name": "stderr",
     "output_type": "stream",
     "text": [
      "INFO | 2023-10-04 18:18:34.669185 | Writing out function to /Users/rohansreerama/Desktop/flare_tests/runhouse/num_cpus_fn.py. Please make sure the function does not rely on any local variables, including imports (which should be moved inside the function body).\n",
      "/Users/rohansreerama/Desktop/flare_tests/runhouse/runhouse/resources/function.py:100: UserWarning: ``reqs`` and ``setup_cmds`` arguments has been deprecated. Please use ``env`` instead.\n",
      "  warnings.warn(\n",
      "INFO | 2023-10-04 18:18:34.672474 | Setting up Function on cluster.\n"
     ]
    },
    {
     "name": "stdout",
     "output_type": "stream",
     "text": [
      "No instances found, nothing to be done.\n",
      "Written to: this-6.yaml\n"
     ]
    },
    {
     "ename": "FileExistsError",
     "evalue": "Resource with this name already exists.",
     "output_type": "error",
     "traceback": [
      "\u001b[0;31m---------------------------------------------------------------------------\u001b[0m",
      "\u001b[0;31mApiException\u001b[0m                              Traceback (most recent call last)",
      "File \u001b[0;32m~/Desktop/flare_tests/codeflare-sdk/src/codeflare_sdk/cluster/cluster.py:164\u001b[0m, in \u001b[0;36mCluster.up\u001b[0;34m(self)\u001b[0m\n\u001b[1;32m    163\u001b[0m         aw \u001b[39m=\u001b[39m yaml\u001b[39m.\u001b[39mload(f, Loader\u001b[39m=\u001b[39myaml\u001b[39m.\u001b[39mFullLoader)\n\u001b[0;32m--> 164\u001b[0m     api_instance\u001b[39m.\u001b[39;49mcreate_namespaced_custom_object(\n\u001b[1;32m    165\u001b[0m         group\u001b[39m=\u001b[39;49m\u001b[39m\"\u001b[39;49m\u001b[39mworkload.codeflare.dev\u001b[39;49m\u001b[39m\"\u001b[39;49m,\n\u001b[1;32m    166\u001b[0m         version\u001b[39m=\u001b[39;49m\u001b[39m\"\u001b[39;49m\u001b[39mv1beta1\u001b[39;49m\u001b[39m\"\u001b[39;49m,\n\u001b[1;32m    167\u001b[0m         namespace\u001b[39m=\u001b[39;49mnamespace,\n\u001b[1;32m    168\u001b[0m         plural\u001b[39m=\u001b[39;49m\u001b[39m\"\u001b[39;49m\u001b[39mappwrappers\u001b[39;49m\u001b[39m\"\u001b[39;49m,\n\u001b[1;32m    169\u001b[0m         body\u001b[39m=\u001b[39;49maw,\n\u001b[1;32m    170\u001b[0m     )\n\u001b[1;32m    171\u001b[0m \u001b[39mexcept\u001b[39;00m \u001b[39mException\u001b[39;00m \u001b[39mas\u001b[39;00m e:  \u001b[39m# pragma: no cover\u001b[39;00m\n",
      "File \u001b[0;32m~/anaconda3/envs/cf_test_2/lib/python3.8/site-packages/kubernetes/client/api/custom_objects_api.py:225\u001b[0m, in \u001b[0;36mCustomObjectsApi.create_namespaced_custom_object\u001b[0;34m(self, group, version, namespace, plural, body, **kwargs)\u001b[0m\n\u001b[1;32m    224\u001b[0m kwargs[\u001b[39m'\u001b[39m\u001b[39m_return_http_data_only\u001b[39m\u001b[39m'\u001b[39m] \u001b[39m=\u001b[39m \u001b[39mTrue\u001b[39;00m\n\u001b[0;32m--> 225\u001b[0m \u001b[39mreturn\u001b[39;00m \u001b[39mself\u001b[39;49m\u001b[39m.\u001b[39;49mcreate_namespaced_custom_object_with_http_info(group, version, namespace, plural, body, \u001b[39m*\u001b[39;49m\u001b[39m*\u001b[39;49mkwargs)\n",
      "File \u001b[0;32m~/anaconda3/envs/cf_test_2/lib/python3.8/site-packages/kubernetes/client/api/custom_objects_api.py:344\u001b[0m, in \u001b[0;36mCustomObjectsApi.create_namespaced_custom_object_with_http_info\u001b[0;34m(self, group, version, namespace, plural, body, **kwargs)\u001b[0m\n\u001b[1;32m    342\u001b[0m auth_settings \u001b[39m=\u001b[39m [\u001b[39m'\u001b[39m\u001b[39mBearerToken\u001b[39m\u001b[39m'\u001b[39m]  \u001b[39m# noqa: E501\u001b[39;00m\n\u001b[0;32m--> 344\u001b[0m \u001b[39mreturn\u001b[39;00m \u001b[39mself\u001b[39;49m\u001b[39m.\u001b[39;49mapi_client\u001b[39m.\u001b[39;49mcall_api(\n\u001b[1;32m    345\u001b[0m     \u001b[39m'\u001b[39;49m\u001b[39m/apis/\u001b[39;49m\u001b[39m{group}\u001b[39;49;00m\u001b[39m/\u001b[39;49m\u001b[39m{version}\u001b[39;49;00m\u001b[39m/namespaces/\u001b[39;49m\u001b[39m{namespace}\u001b[39;49;00m\u001b[39m/\u001b[39;49m\u001b[39m{plural}\u001b[39;49;00m\u001b[39m'\u001b[39;49m, \u001b[39m'\u001b[39;49m\u001b[39mPOST\u001b[39;49m\u001b[39m'\u001b[39;49m,\n\u001b[1;32m    346\u001b[0m     path_params,\n\u001b[1;32m    347\u001b[0m     query_params,\n\u001b[1;32m    348\u001b[0m     header_params,\n\u001b[1;32m    349\u001b[0m     body\u001b[39m=\u001b[39;49mbody_params,\n\u001b[1;32m    350\u001b[0m     post_params\u001b[39m=\u001b[39;49mform_params,\n\u001b[1;32m    351\u001b[0m     files\u001b[39m=\u001b[39;49mlocal_var_files,\n\u001b[1;32m    352\u001b[0m     response_type\u001b[39m=\u001b[39;49m\u001b[39m'\u001b[39;49m\u001b[39mobject\u001b[39;49m\u001b[39m'\u001b[39;49m,  \u001b[39m# noqa: E501\u001b[39;49;00m\n\u001b[1;32m    353\u001b[0m     auth_settings\u001b[39m=\u001b[39;49mauth_settings,\n\u001b[1;32m    354\u001b[0m     async_req\u001b[39m=\u001b[39;49mlocal_var_params\u001b[39m.\u001b[39;49mget(\u001b[39m'\u001b[39;49m\u001b[39masync_req\u001b[39;49m\u001b[39m'\u001b[39;49m),\n\u001b[1;32m    355\u001b[0m     _return_http_data_only\u001b[39m=\u001b[39;49mlocal_var_params\u001b[39m.\u001b[39;49mget(\u001b[39m'\u001b[39;49m\u001b[39m_return_http_data_only\u001b[39;49m\u001b[39m'\u001b[39;49m),  \u001b[39m# noqa: E501\u001b[39;49;00m\n\u001b[1;32m    356\u001b[0m     _preload_content\u001b[39m=\u001b[39;49mlocal_var_params\u001b[39m.\u001b[39;49mget(\u001b[39m'\u001b[39;49m\u001b[39m_preload_content\u001b[39;49m\u001b[39m'\u001b[39;49m, \u001b[39mTrue\u001b[39;49;00m),\n\u001b[1;32m    357\u001b[0m     _request_timeout\u001b[39m=\u001b[39;49mlocal_var_params\u001b[39m.\u001b[39;49mget(\u001b[39m'\u001b[39;49m\u001b[39m_request_timeout\u001b[39;49m\u001b[39m'\u001b[39;49m),\n\u001b[1;32m    358\u001b[0m     collection_formats\u001b[39m=\u001b[39;49mcollection_formats)\n",
      "File \u001b[0;32m~/anaconda3/envs/cf_test_2/lib/python3.8/site-packages/kubernetes/client/api_client.py:348\u001b[0m, in \u001b[0;36mApiClient.call_api\u001b[0;34m(self, resource_path, method, path_params, query_params, header_params, body, post_params, files, response_type, auth_settings, async_req, _return_http_data_only, collection_formats, _preload_content, _request_timeout, _host)\u001b[0m\n\u001b[1;32m    347\u001b[0m \u001b[39mif\u001b[39;00m \u001b[39mnot\u001b[39;00m async_req:\n\u001b[0;32m--> 348\u001b[0m     \u001b[39mreturn\u001b[39;00m \u001b[39mself\u001b[39;49m\u001b[39m.\u001b[39;49m__call_api(resource_path, method,\n\u001b[1;32m    349\u001b[0m                            path_params, query_params, header_params,\n\u001b[1;32m    350\u001b[0m                            body, post_params, files,\n\u001b[1;32m    351\u001b[0m                            response_type, auth_settings,\n\u001b[1;32m    352\u001b[0m                            _return_http_data_only, collection_formats,\n\u001b[1;32m    353\u001b[0m                            _preload_content, _request_timeout, _host)\n\u001b[1;32m    355\u001b[0m \u001b[39mreturn\u001b[39;00m \u001b[39mself\u001b[39m\u001b[39m.\u001b[39mpool\u001b[39m.\u001b[39mapply_async(\u001b[39mself\u001b[39m\u001b[39m.\u001b[39m__call_api, (resource_path,\n\u001b[1;32m    356\u001b[0m                                                method, path_params,\n\u001b[1;32m    357\u001b[0m                                                query_params,\n\u001b[0;32m   (...)\u001b[0m\n\u001b[1;32m    365\u001b[0m                                                _request_timeout,\n\u001b[1;32m    366\u001b[0m                                                _host))\n",
      "File \u001b[0;32m~/anaconda3/envs/cf_test_2/lib/python3.8/site-packages/kubernetes/client/api_client.py:180\u001b[0m, in \u001b[0;36mApiClient.__call_api\u001b[0;34m(self, resource_path, method, path_params, query_params, header_params, body, post_params, files, response_type, auth_settings, _return_http_data_only, collection_formats, _preload_content, _request_timeout, _host)\u001b[0m\n\u001b[1;32m    179\u001b[0m \u001b[39m# perform request and return response\u001b[39;00m\n\u001b[0;32m--> 180\u001b[0m response_data \u001b[39m=\u001b[39m \u001b[39mself\u001b[39;49m\u001b[39m.\u001b[39;49mrequest(\n\u001b[1;32m    181\u001b[0m     method, url, query_params\u001b[39m=\u001b[39;49mquery_params, headers\u001b[39m=\u001b[39;49mheader_params,\n\u001b[1;32m    182\u001b[0m     post_params\u001b[39m=\u001b[39;49mpost_params, body\u001b[39m=\u001b[39;49mbody,\n\u001b[1;32m    183\u001b[0m     _preload_content\u001b[39m=\u001b[39;49m_preload_content,\n\u001b[1;32m    184\u001b[0m     _request_timeout\u001b[39m=\u001b[39;49m_request_timeout)\n\u001b[1;32m    186\u001b[0m \u001b[39mself\u001b[39m\u001b[39m.\u001b[39mlast_response \u001b[39m=\u001b[39m response_data\n",
      "File \u001b[0;32m~/anaconda3/envs/cf_test_2/lib/python3.8/site-packages/kubernetes/client/api_client.py:391\u001b[0m, in \u001b[0;36mApiClient.request\u001b[0;34m(self, method, url, query_params, headers, post_params, body, _preload_content, _request_timeout)\u001b[0m\n\u001b[1;32m    390\u001b[0m \u001b[39melif\u001b[39;00m method \u001b[39m==\u001b[39m \u001b[39m\"\u001b[39m\u001b[39mPOST\u001b[39m\u001b[39m\"\u001b[39m:\n\u001b[0;32m--> 391\u001b[0m     \u001b[39mreturn\u001b[39;00m \u001b[39mself\u001b[39;49m\u001b[39m.\u001b[39;49mrest_client\u001b[39m.\u001b[39;49mPOST(url,\n\u001b[1;32m    392\u001b[0m                                  query_params\u001b[39m=\u001b[39;49mquery_params,\n\u001b[1;32m    393\u001b[0m                                  headers\u001b[39m=\u001b[39;49mheaders,\n\u001b[1;32m    394\u001b[0m                                  post_params\u001b[39m=\u001b[39;49mpost_params,\n\u001b[1;32m    395\u001b[0m                                  _preload_content\u001b[39m=\u001b[39;49m_preload_content,\n\u001b[1;32m    396\u001b[0m                                  _request_timeout\u001b[39m=\u001b[39;49m_request_timeout,\n\u001b[1;32m    397\u001b[0m                                  body\u001b[39m=\u001b[39;49mbody)\n\u001b[1;32m    398\u001b[0m \u001b[39melif\u001b[39;00m method \u001b[39m==\u001b[39m \u001b[39m\"\u001b[39m\u001b[39mPUT\u001b[39m\u001b[39m\"\u001b[39m:\n",
      "File \u001b[0;32m~/anaconda3/envs/cf_test_2/lib/python3.8/site-packages/kubernetes/client/rest.py:279\u001b[0m, in \u001b[0;36mRESTClientObject.POST\u001b[0;34m(self, url, headers, query_params, post_params, body, _preload_content, _request_timeout)\u001b[0m\n\u001b[1;32m    277\u001b[0m \u001b[39mdef\u001b[39;00m \u001b[39mPOST\u001b[39m(\u001b[39mself\u001b[39m, url, headers\u001b[39m=\u001b[39m\u001b[39mNone\u001b[39;00m, query_params\u001b[39m=\u001b[39m\u001b[39mNone\u001b[39;00m, post_params\u001b[39m=\u001b[39m\u001b[39mNone\u001b[39;00m,\n\u001b[1;32m    278\u001b[0m          body\u001b[39m=\u001b[39m\u001b[39mNone\u001b[39;00m, _preload_content\u001b[39m=\u001b[39m\u001b[39mTrue\u001b[39;00m, _request_timeout\u001b[39m=\u001b[39m\u001b[39mNone\u001b[39;00m):\n\u001b[0;32m--> 279\u001b[0m     \u001b[39mreturn\u001b[39;00m \u001b[39mself\u001b[39;49m\u001b[39m.\u001b[39;49mrequest(\u001b[39m\"\u001b[39;49m\u001b[39mPOST\u001b[39;49m\u001b[39m\"\u001b[39;49m, url,\n\u001b[1;32m    280\u001b[0m                         headers\u001b[39m=\u001b[39;49mheaders,\n\u001b[1;32m    281\u001b[0m                         query_params\u001b[39m=\u001b[39;49mquery_params,\n\u001b[1;32m    282\u001b[0m                         post_params\u001b[39m=\u001b[39;49mpost_params,\n\u001b[1;32m    283\u001b[0m                         _preload_content\u001b[39m=\u001b[39;49m_preload_content,\n\u001b[1;32m    284\u001b[0m                         _request_timeout\u001b[39m=\u001b[39;49m_request_timeout,\n\u001b[1;32m    285\u001b[0m                         body\u001b[39m=\u001b[39;49mbody)\n",
      "File \u001b[0;32m~/anaconda3/envs/cf_test_2/lib/python3.8/site-packages/kubernetes/client/rest.py:238\u001b[0m, in \u001b[0;36mRESTClientObject.request\u001b[0;34m(self, method, url, query_params, headers, body, post_params, _preload_content, _request_timeout)\u001b[0m\n\u001b[1;32m    237\u001b[0m \u001b[39mif\u001b[39;00m \u001b[39mnot\u001b[39;00m \u001b[39m200\u001b[39m \u001b[39m<\u001b[39m\u001b[39m=\u001b[39m r\u001b[39m.\u001b[39mstatus \u001b[39m<\u001b[39m\u001b[39m=\u001b[39m \u001b[39m299\u001b[39m:\n\u001b[0;32m--> 238\u001b[0m     \u001b[39mraise\u001b[39;00m ApiException(http_resp\u001b[39m=\u001b[39mr)\n\u001b[1;32m    240\u001b[0m \u001b[39mreturn\u001b[39;00m r\n",
      "\u001b[0;31mApiException\u001b[0m: (409)\nReason: Conflict\nHTTP response headers: HTTPHeaderDict({'Audit-Id': '5041a963-039e-4d87-a140-480ab39c86d5', 'Cache-Control': 'no-cache, private', 'Content-Type': 'application/json', 'Warning': '299 - \"unknown field \\\\\"spec.resources.Items\\\\\"\"', 'X-Kubernetes-Pf-Flowschema-Uid': 'c90b3598-0093-4030-a3d7-51a2dfe59ead', 'X-Kubernetes-Pf-Prioritylevel-Uid': '255ecd4c-1d44-41a9-a4d6-92accdad0668', 'Date': 'Wed, 04 Oct 2023 18:18:35 GMT', 'Content-Length': '260'})\nHTTP response body: {\"kind\":\"Status\",\"apiVersion\":\"v1\",\"metadata\":{},\"status\":\"Failure\",\"message\":\"appwrappers.workload.codeflare.dev \\\"this-6\\\" already exists\",\"reason\":\"AlreadyExists\",\"details\":{\"name\":\"this-6\",\"group\":\"workload.codeflare.dev\",\"kind\":\"appwrappers\"},\"code\":409}\n\n",
      "\nDuring handling of the above exception, another exception occurred:\n",
      "\u001b[0;31mFileExistsError\u001b[0m                           Traceback (most recent call last)",
      "Cell \u001b[0;32mIn[4], line 1\u001b[0m\n\u001b[0;32m----> 1\u001b[0m num_cpus_cluster \u001b[39m=\u001b[39m rh\u001b[39m.\u001b[39;49mfunction(name\u001b[39m=\u001b[39;49m\u001b[39m\"\u001b[39;49m\u001b[39mnum_cpus_cluster\u001b[39;49m\u001b[39m\"\u001b[39;49m, fn\u001b[39m=\u001b[39;49mnum_cpus)\u001b[39m.\u001b[39;49mto(system\u001b[39m=\u001b[39;49mcluster, reqs\u001b[39m=\u001b[39;49m[\u001b[39m\"\u001b[39;49m\u001b[39m./\u001b[39;49m\u001b[39m\"\u001b[39;49m])\n",
      "File \u001b[0;32m~/Desktop/flare_tests/runhouse/runhouse/resources/function.py:140\u001b[0m, in \u001b[0;36mFunction.to\u001b[0;34m(self, system, env, reqs, setup_cmds, force_install)\u001b[0m\n\u001b[1;32m    134\u001b[0m \u001b[39m# TODO\u001b[39;00m\n\u001b[1;32m    135\u001b[0m \u001b[39m# env.name = env.name or (new_function.name + \"_env\")\u001b[39;00m\n\u001b[1;32m    136\u001b[0m \u001b[39m# new_env = env.to(new_function.system, force_install=force_install)\u001b[39;00m\n\u001b[1;32m    137\u001b[0m \u001b[39m# new_function.env = new_env\u001b[39;00m\n\u001b[1;32m    139\u001b[0m new_function\u001b[39m.\u001b[39mdryrun \u001b[39m=\u001b[39m \u001b[39mTrue\u001b[39;00m\n\u001b[0;32m--> 140\u001b[0m system\u001b[39m.\u001b[39;49mput_resource(new_function, dryrun\u001b[39m=\u001b[39;49m\u001b[39mTrue\u001b[39;49;00m)\n\u001b[1;32m    141\u001b[0m logging\u001b[39m.\u001b[39minfo(\u001b[39m\"\u001b[39m\u001b[39mFunction setup complete.\u001b[39m\u001b[39m\"\u001b[39m)\n\u001b[1;32m    143\u001b[0m \u001b[39mreturn\u001b[39;00m new_function\n",
      "File \u001b[0;32m~/Desktop/flare_tests/runhouse/runhouse/resources/hardware/cluster.py:252\u001b[0m, in \u001b[0;36mCluster.put_resource\u001b[0;34m(self, resource, state, dryrun)\u001b[0m\n\u001b[1;32m    250\u001b[0m \u001b[39mdef\u001b[39;00m \u001b[39mput_resource\u001b[39m(\u001b[39mself\u001b[39m, resource: Resource, state\u001b[39m=\u001b[39m\u001b[39mNone\u001b[39;00m, dryrun\u001b[39m=\u001b[39m\u001b[39mFalse\u001b[39;00m):\n\u001b[1;32m    251\u001b[0m \u001b[39m    \u001b[39m\u001b[39m\"\"\"Put the given resource on the cluster's object store. Returns the key (important if name is not set).\"\"\"\u001b[39;00m\n\u001b[0;32m--> 252\u001b[0m     \u001b[39mself\u001b[39;49m\u001b[39m.\u001b[39;49mcheck_server()\n\u001b[1;32m    253\u001b[0m     env \u001b[39m=\u001b[39m (\n\u001b[1;32m    254\u001b[0m         resource\u001b[39m.\u001b[39menv\n\u001b[1;32m    255\u001b[0m         \u001b[39mif\u001b[39;00m \u001b[39mhasattr\u001b[39m(resource, \u001b[39m\"\u001b[39m\u001b[39menv\u001b[39m\u001b[39m\"\u001b[39m)\n\u001b[0;32m   (...)\u001b[0m\n\u001b[1;32m    258\u001b[0m         \u001b[39melse\u001b[39;00m \u001b[39mNone\u001b[39;00m\n\u001b[1;32m    259\u001b[0m     )\n\u001b[1;32m    260\u001b[0m     \u001b[39mif\u001b[39;00m \u001b[39mself\u001b[39m\u001b[39m.\u001b[39mon_this_cluster():\n",
      "File \u001b[0;32m~/Desktop/flare_tests/runhouse/runhouse/resources/hardware/cluster.py:380\u001b[0m, in \u001b[0;36mCluster.check_server\u001b[0;34m(self, restart_server)\u001b[0m\n\u001b[1;32m    374\u001b[0m         \u001b[39mraise\u001b[39;00m \u001b[39mValueError\u001b[39;00m(\n\u001b[1;32m    375\u001b[0m             \u001b[39m\"\u001b[39m\u001b[39mCluster must have a host address (i.e. be up) or have a reup_cluster method \u001b[39m\u001b[39m\"\u001b[39m\n\u001b[1;32m    376\u001b[0m             \u001b[39m\"\u001b[39m\u001b[39m(e.g. OnDemandCluster).\u001b[39m\u001b[39m\"\u001b[39m\n\u001b[1;32m    377\u001b[0m         )\n\u001b[1;32m    378\u001b[0m     \u001b[39m# If this is a OnDemandCluster, before we up the cluster, run a sky.status to see if the cluster\u001b[39;00m\n\u001b[1;32m    379\u001b[0m     \u001b[39m# is already up but doesn't have an address assigned yet.\u001b[39;00m\n\u001b[0;32m--> 380\u001b[0m     \u001b[39mself\u001b[39;49m\u001b[39m.\u001b[39;49mup_if_not()\n\u001b[1;32m    382\u001b[0m \u001b[39mif\u001b[39;00m \u001b[39mnot\u001b[39;00m \u001b[39mself\u001b[39m\u001b[39m.\u001b[39mclient:\n\u001b[1;32m    383\u001b[0m     \u001b[39mtry\u001b[39;00m:\n",
      "File \u001b[0;32m~/Desktop/flare_tests/runhouse/runhouse/resources/hardware/cluster.py:136\u001b[0m, in \u001b[0;36mCluster.up_if_not\u001b[0;34m(self)\u001b[0m\n\u001b[1;32m    132\u001b[0m     \u001b[39mif\u001b[39;00m \u001b[39mnot\u001b[39;00m \u001b[39mhasattr\u001b[39m(\u001b[39mself\u001b[39m, \u001b[39m\"\u001b[39m\u001b[39mup\u001b[39m\u001b[39m\"\u001b[39m):\n\u001b[1;32m    133\u001b[0m         \u001b[39mraise\u001b[39;00m \u001b[39mNotImplementedError\u001b[39;00m(\n\u001b[1;32m    134\u001b[0m             \u001b[39mf\u001b[39m\u001b[39m\"\u001b[39m\u001b[39mCluster <\u001b[39m\u001b[39m{\u001b[39;00m\u001b[39mself\u001b[39m\u001b[39m.\u001b[39mname\u001b[39m}\u001b[39;00m\u001b[39m> does not have an up method.\u001b[39m\u001b[39m\"\u001b[39m\n\u001b[1;32m    135\u001b[0m         )\n\u001b[0;32m--> 136\u001b[0m     \u001b[39mself\u001b[39;49m\u001b[39m.\u001b[39;49mup()\n\u001b[1;32m    137\u001b[0m \u001b[39mreturn\u001b[39;00m \u001b[39mself\u001b[39m\n",
      "File \u001b[0;32m~/Desktop/flare_tests/runhouse/runhouse/resources/hardware/kubernetes_cluster.py:185\u001b[0m, in \u001b[0;36mKubernetesCluster.up\u001b[0;34m(self)\u001b[0m\n\u001b[1;32m    182\u001b[0m     file\u001b[39m.\u001b[39mwrite(modified_yaml_str)\n\u001b[1;32m    184\u001b[0m \u001b[39m# up the codeflare ray cluster \u001b[39;00m\n\u001b[0;32m--> 185\u001b[0m cluster\u001b[39m.\u001b[39;49mup()\n\u001b[1;32m    187\u001b[0m \u001b[39m# DO NOT use ray client to send functions \u001b[39;00m\n\u001b[1;32m    188\u001b[0m \n\u001b[1;32m    189\u001b[0m \u001b[39m# copy code to head node \u001b[39;00m\n\u001b[1;32m    190\u001b[0m \u001b[39m# send function to head_node \u001b[39;00m\n\u001b[1;32m    192\u001b[0m cluster\u001b[39m.\u001b[39mwait_ready(dashboard_check\u001b[39m=\u001b[39m\u001b[39mFalse\u001b[39;00m)\n",
      "File \u001b[0;32m~/Desktop/flare_tests/codeflare-sdk/src/codeflare_sdk/cluster/cluster.py:172\u001b[0m, in \u001b[0;36mCluster.up\u001b[0;34m(self)\u001b[0m\n\u001b[1;32m    164\u001b[0m     api_instance\u001b[39m.\u001b[39mcreate_namespaced_custom_object(\n\u001b[1;32m    165\u001b[0m         group\u001b[39m=\u001b[39m\u001b[39m\"\u001b[39m\u001b[39mworkload.codeflare.dev\u001b[39m\u001b[39m\"\u001b[39m,\n\u001b[1;32m    166\u001b[0m         version\u001b[39m=\u001b[39m\u001b[39m\"\u001b[39m\u001b[39mv1beta1\u001b[39m\u001b[39m\"\u001b[39m,\n\u001b[0;32m   (...)\u001b[0m\n\u001b[1;32m    169\u001b[0m         body\u001b[39m=\u001b[39maw,\n\u001b[1;32m    170\u001b[0m     )\n\u001b[1;32m    171\u001b[0m \u001b[39mexcept\u001b[39;00m \u001b[39mException\u001b[39;00m \u001b[39mas\u001b[39;00m e:  \u001b[39m# pragma: no cover\u001b[39;00m\n\u001b[0;32m--> 172\u001b[0m     \u001b[39mreturn\u001b[39;00m _kube_api_error_handling(e)\n",
      "File \u001b[0;32m~/Desktop/flare_tests/codeflare-sdk/src/codeflare_sdk/utils/kube_api_helpers.py:43\u001b[0m, in \u001b[0;36m_kube_api_error_handling\u001b[0;34m(e)\u001b[0m\n\u001b[1;32m     41\u001b[0m         \u001b[39mraise\u001b[39;00m \u001b[39mPermissionError\u001b[39;00m(perm_msg)\n\u001b[1;32m     42\u001b[0m     \u001b[39melif\u001b[39;00m e\u001b[39m.\u001b[39mreason \u001b[39m==\u001b[39m \u001b[39m\"\u001b[39m\u001b[39mConflict\u001b[39m\u001b[39m\"\u001b[39m:\n\u001b[0;32m---> 43\u001b[0m         \u001b[39mraise\u001b[39;00m \u001b[39mFileExistsError\u001b[39;00m(exists_msg)\n\u001b[1;32m     44\u001b[0m \u001b[39mraise\u001b[39;00m e\n",
      "\u001b[0;31mFileExistsError\u001b[0m: Resource with this name already exists."
     ]
    }
   ],
   "source": [
    "num_cpus_cluster = rh.function(name=\"num_cpus_cluster\", fn=num_cpus).to(system=cluster, reqs=[\"./\"])"
   ]
  },
  {
   "cell_type": "code",
   "execution_count": 6,
   "metadata": {},
   "outputs": [
    {
     "name": "stderr",
     "output_type": "stream",
     "text": [
      "INFO | 2023-09-22 22:55:38.878811 | Calling num_cpus_cluster.call\n"
     ]
    },
    {
     "name": "stdout",
     "output_type": "stream",
     "text": [
      "base_env servlet: Calling method call on module num_cpus_cluster\n"
     ]
    },
    {
     "name": "stderr",
     "output_type": "stream",
     "text": [
      "INFO | 2023-09-22 22:55:39.312025 | Time to call num_cpus_cluster.call: 0.43 seconds\n"
     ]
    },
    {
     "data": {
      "text/plain": [
       "'Num cpus: 4'"
      ]
     },
     "execution_count": 6,
     "metadata": {},
     "output_type": "execute_result"
    }
   ],
   "source": [
    "num_cpus_cluster()"
   ]
  }
 ],
 "metadata": {
  "kernelspec": {
   "display_name": "rh_fin_1",
   "language": "python",
   "name": "python3"
  },
  "language_info": {
   "codemirror_mode": {
    "name": "ipython",
    "version": 3
   },
   "file_extension": ".py",
   "mimetype": "text/x-python",
   "name": "python",
   "nbconvert_exporter": "python",
   "pygments_lexer": "ipython3",
   "version": "3.8.13"
  },
  "orig_nbformat": 4
 },
 "nbformat": 4,
 "nbformat_minor": 2
}
